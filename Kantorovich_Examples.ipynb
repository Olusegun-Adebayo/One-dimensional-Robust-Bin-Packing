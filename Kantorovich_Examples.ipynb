{
 "cells": [
  {
   "cell_type": "markdown",
   "metadata": {},
   "source": [
    "Kantorovich’s formulation:\n",
    "\n",
    "$$\n",
    "\\begin{eqnarray}\n",
    "\\min && \\sum_{j=1}^n y_j \\\\ \n",
    "&& \\sum_{j=1}^n x_{ij} = d_i\\\\\n",
    "&& \\sum_{i=1}^m w_i x_{ij}\\le L y_j\\\\\n",
    "&& x_{ij}\\ge 0\\\\\n",
    "&& y_j \\in \\{0,1\\}^m\n",
    "\\end{eqnarray}\n",
    "$$"
   ]
  },
  {
   "cell_type": "markdown",
   "metadata": {},
   "source": [
    "## Example 1: Panel Doors \n",
    "\n",
    "In a company that makes doors, the standard length of a plank is 30cm based on the present cutting technique. A panel door consists of three different types of the wood material of fixed width 84cm from which each required length is obtained. These are lengths 30cm, 28cm, 25cm, 20cm, 15cm, 12cm, 10cm, 7cm, 5cm and 2cm. For a small panel, we need for each of the length quantities 5, 2, 3, 1, 4, 5 ,6, 10, 8, and 5 respectively. How many plank is required to make this door?"
   ]
  },
  {
   "cell_type": "code",
   "execution_count": 1,
   "metadata": {
    "scrolled": true
   },
   "outputs": [],
   "source": [
    "from mip import Model, xsum, BINARY, INTEGER\n",
    "\n",
    "\n",
    "# Example 1\n",
    "n = 30 # maximum number of bars\n",
    "L = 30 # standard bar length\n",
    "\n",
    "\n",
    "m = 10 # number of requests\n",
    "w = [30, 28, 25, 20, 15, 12, 10, 7, 5, 2] # size of each item\n",
    "d = [5, 2, 3, 1, 4, 5 ,6, 10, 8, 5] # demand for each item\n",
    "\n",
    "# kantorovich formulation with items and demands\n",
    "def Kant_1(L,d,w,n):\n",
    "    \n",
    "    m = len(w)\n",
    "    # creating the model\n",
    "    model = Model()\n",
    "    _set = []\n",
    "    x = {(i, j): model.add_var(obj=0, var_type=INTEGER, name=\"x[%d ,%d ]\" % (i, j)) for i in range(m) for j in range(n)}\n",
    "    y = {j: model.add_var(obj=1, var_type=BINARY, name=\"y[%d ]\" % j) for j in range(n)}\n",
    "\n",
    "    # constraints\n",
    "    for i in range(m):\n",
    "        model.add_constr(xsum(x[i, j] for j in range(n)) == d[i])\n",
    "    for j in range(n):\n",
    "        model.add_constr(xsum(w[i] * x[i, j] for i in range(m)) <= L * y[j])\n",
    "\n",
    "    # additional constraints to reduce symmetry\n",
    "    for j in range(1, n):\n",
    "        model.add_constr(y[j - 1] >= y[j])\n",
    "\n",
    "    # optimizing the model\n",
    "    model.optimize()\n",
    "    #for var in model.vars:\n",
    "\n",
    "        # to print out the non-zero values\n",
    "        #if (var.x> 1e-9):\n",
    "\n",
    "    return model.objective_value"
   ]
  },
  {
   "cell_type": "code",
   "execution_count": 2,
   "metadata": {},
   "outputs": [
    {
     "data": {
      "text/plain": [
       "21.0"
      ]
     },
     "execution_count": 2,
     "metadata": {},
     "output_type": "execute_result"
    }
   ],
   "source": [
    "Kant_1(L,d,w,n)"
   ]
  },
  {
   "cell_type": "markdown",
   "metadata": {},
   "source": [
    "## Example 2\n",
    "\n",
    "we wish to cut bars of the following lengths\n",
    "\n",
    "L1 = 13\n",
    "L2 = 15\n",
    "L3 = 20\n",
    "L4 = 9\n",
    "L5 = 10\n",
    "L6 = 18\n",
    "L7 = 22\n",
    "L8 = 19\n",
    "from standard bars of length 100. \n",
    "The requirements of the above bars are\n",
    "D1 = 109\n",
    "D2 = 87\n",
    "D3 = 92\n",
    "D4 = 32\n",
    "D5 =38\n",
    "D6 = 47\n",
    "D7 = 91\n",
    "D8 = 12.\n",
    "\n",
    "Formulate and solve the problem of finding the minimum number of standard bars needed to fulfill the whole demand\n"
   ]
  },
  {
   "cell_type": "markdown",
   "metadata": {},
   "source": [
    "\n",
    "$$\n",
    "\\begin{eqnarray}\n",
    "\\min && \\sum_{j=1}^n y_j \\\\ \n",
    "&& \\sum_{j=1}^n x_{ij} = d_i\\\\\n",
    "&& \\sum_{i=1}^m w_i x_{ij}\\le L y_j\\\\\n",
    "&& x_{ij}\\ge 0\\\\\n",
    "&& y_j \\in \\{0,1\\}^m\n",
    "\\end{eqnarray}\n",
    "$$"
   ]
  },
  {
   "cell_type": "code",
   "execution_count": null,
   "metadata": {
    "scrolled": true
   },
   "outputs": [],
   "source": [
    "w = [13,15,20,9,10,18,22,19] # size of each item\n",
    "d = [109,87,92,32,38,47,91,12]# demand for each item\n",
    "r = 0\n",
    "i = 0\n",
    "\n",
    "while (i<8):\n",
    "    r+=w[i]*d[i]\n",
    "    i+=1\n",
    "r"
   ]
  },
  {
   "cell_type": "code",
   "execution_count": null,
   "metadata": {},
   "outputs": [],
   "source": [
    "sum([(w[i]*d[i]) for i in range(8)])"
   ]
  },
  {
   "cell_type": "code",
   "execution_count": null,
   "metadata": {},
   "outputs": [],
   "source": [
    "from mip import Model, xsum, BINARY, INTEGER\n",
    "n = 1000# maximum number of bars\n",
    "L = 100 # bar length\n",
    "\n",
    "\n",
    "\n",
    "w = [8,7,6] # size of each item\n",
    "d = [40,20,5] # demand for each item\n",
    "m = len(d)\n",
    "\n",
    "# creating the model\n",
    "model = Model()\n",
    "x = {(i, j): model.add_var(obj=0, var_type=INTEGER, name=\"x[%d,%d]\" % (i, j)) for i in range(m) for j in range(n)}\n",
    "y = {j: model.add_var(obj=1, var_type=BINARY, name=\"y[%d]\" % j) for j in range(n)}\n",
    "\n",
    "# constraints\n",
    "for i in range(m):\n",
    "    model.add_constr(xsum(x[i, j] for j in range(n)) == d[i])\n",
    "for j in range(n):\n",
    "    model.add_constr(xsum(w[i] * x[i, j] for i in range(m)) <= L * y[j])\n",
    "\n",
    "# additional constraints to reduce symmetry\n",
    "for j in range(1, n):\n",
    "    model.add_constr(y[j - 1] >= y[j])\n",
    "\n",
    "# optimizing the model\n",
    "model.optimize()\n",
    "\n",
    " #printing the solution\n",
    "print('')\n",
    "print('Total number of bars needed: {model.objective_value:.3} '.format(**locals()))\n",
    "\n",
    "print('Solution: ', end='')\n",
    "for var in model.vars:\n",
    "    if var.x > 1e-9: \n",
    "        #count+=1\n",
    "        print('{var.name} = {var.x} '.format(**locals()))\n",
    "print(' ', end='')\n"
   ]
  },
  {
   "cell_type": "code",
   "execution_count": 2,
   "metadata": {},
   "outputs": [],
   "source": [
    "#https://scipbook.readthedocs.io/en/latest/bpp.html\n",
    "\n",
    "# takes:\n",
    "# w = a one dimensionaal list containing the length of the part types\n",
    "# d = a one dimensionaal list containing the demands of the part types respectively\n",
    "# L = the length of the standard stock\n",
    "\n",
    "def First_Fit_Decreasing(w, d, L):\n",
    "    # empty list to take the all demmands\n",
    "    s=[] \n",
    "    \n",
    "    # check if the user has a valid input for the width and the their demands\n",
    "    if len(w)==len(d):\n",
    "        \n",
    "        # loops for indices 0,1,2,...,length(w) \n",
    "        for j in range(len(w)):\n",
    "            \n",
    "            #  loops for indices 0,1,2,...,d[j]\n",
    "            for i in range(d[j]):\n",
    "                \n",
    "                # keeps storing the corresponding w values\n",
    "                s.append(w[j])\n",
    "                \n",
    "    # sorts all the demands of different part types in descendiing order           \n",
    "    demands = sorted(s, reverse=True)   \n",
    "    \n",
    "    # A list to store the space remaining in bins \n",
    "    remain = [L]\n",
    "    \n",
    "    # inializes the solution as an empty list of lists\n",
    "    solution = [[]]\n",
    "    \n",
    "    # loops through all items in demands (already sorted in descending order)\n",
    "    for item in demands:\n",
    "        \n",
    "        # for each values in a turple of values and their index \n",
    "        for k,free in enumerate(remain):\n",
    "            \n",
    "            # if the remaining space in the bin can take the item\n",
    "            if item <= free:\n",
    "                \n",
    "                # remove the size of the item from the size of the bin in was placed inside\n",
    "                remain[k] -= item\n",
    "                \n",
    "                # keep the item inside a bin in the solution list\n",
    "                solution[k].append(item)\n",
    "                break\n",
    "        # if size of the item is greater than the space remaining        \n",
    "        else:\n",
    "            \n",
    "            # keep the item in another bin\n",
    "            solution.append([item])\n",
    "            \n",
    "            # a list containing left overs of the bins after they can't accomodate new items\n",
    "            remain.append(L-item)\n",
    "            \n",
    "     \n",
    "    # returns the len o\n",
    "    return len(solution), solution, remain\n",
    "w = [13,15,20,9,10,18,22,19] # size of each item\n",
    "d = [109,87,92,32,38,47,91,12]\n",
    "L = 100# demand for each item\n",
    "x,y,z=First_Fit_Decreasing(w, d, L)"
   ]
  },
  {
   "cell_type": "code",
   "execution_count": 10,
   "metadata": {},
   "outputs": [],
   "source": [
    "import numpy as np\n",
    "import random"
   ]
  },
  {
   "cell_type": "code",
   "execution_count": 3,
   "metadata": {},
   "outputs": [
    {
     "data": {
      "text/plain": [
       "(51,\n",
       " [[32, 32, 32],\n",
       "  [32, 32, 32],\n",
       "  [32, 32, 32],\n",
       "  [32, 32, 32],\n",
       "  [32, 32, 32],\n",
       "  [32, 32, 32],\n",
       "  [32, 32, 32],\n",
       "  [32, 32, 32],\n",
       "  [32, 31, 31],\n",
       "  [31, 31, 31],\n",
       "  [31, 31, 31],\n",
       "  [31, 31, 31],\n",
       "  [31, 31, 31],\n",
       "  [31, 31, 31],\n",
       "  [31, 31, 31],\n",
       "  [31, 31, 31],\n",
       "  [31, 31, 31],\n",
       "  [31, 31, 31],\n",
       "  [31, 31, 31],\n",
       "  [31, 31, 31],\n",
       "  [31, 31, 31],\n",
       "  [31, 31, 31],\n",
       "  [31, 31, 31],\n",
       "  [31, 31, 29],\n",
       "  [29, 29, 29],\n",
       "  [29, 29, 29],\n",
       "  [29, 29, 29],\n",
       "  [29, 29, 29],\n",
       "  [29, 29, 29],\n",
       "  [29, 29, 29],\n",
       "  [29, 29, 29],\n",
       "  [29, 29, 29],\n",
       "  [29, 29, 29],\n",
       "  [29, 29, 29],\n",
       "  [29, 29, 29],\n",
       "  [29, 29, 29],\n",
       "  [29, 29, 29],\n",
       "  [29, 29, 29],\n",
       "  [29, 29, 29],\n",
       "  [29, 29, 29],\n",
       "  [29, 29, 29],\n",
       "  [29, 29, 29],\n",
       "  [29, 29, 29],\n",
       "  [29, 28, 28],\n",
       "  [28, 28, 28, 25],\n",
       "  [28, 28, 28, 25],\n",
       "  [28, 28, 25, 25],\n",
       "  [25, 25, 25, 25],\n",
       "  [25, 25, 25, 25],\n",
       "  [25, 25, 25, 25],\n",
       "  [25, 25, 25]],\n",
       " [13,\n",
       "  13,\n",
       "  13,\n",
       "  13,\n",
       "  13,\n",
       "  13,\n",
       "  13,\n",
       "  13,\n",
       "  15,\n",
       "  16,\n",
       "  16,\n",
       "  16,\n",
       "  16,\n",
       "  16,\n",
       "  16,\n",
       "  16,\n",
       "  16,\n",
       "  16,\n",
       "  16,\n",
       "  16,\n",
       "  16,\n",
       "  16,\n",
       "  16,\n",
       "  18,\n",
       "  22,\n",
       "  22,\n",
       "  22,\n",
       "  22,\n",
       "  22,\n",
       "  22,\n",
       "  22,\n",
       "  22,\n",
       "  22,\n",
       "  22,\n",
       "  22,\n",
       "  22,\n",
       "  22,\n",
       "  22,\n",
       "  22,\n",
       "  22,\n",
       "  22,\n",
       "  22,\n",
       "  22,\n",
       "  24,\n",
       "  0,\n",
       "  0,\n",
       "  3,\n",
       "  9,\n",
       "  9,\n",
       "  9,\n",
       "  34])"
      ]
     },
     "execution_count": 3,
     "metadata": {},
     "output_type": "execute_result"
    }
   ],
   "source": [
    "import numpy as np\n",
    "import random\n",
    "\n",
    "\n",
    "np.random.seed(1)\n",
    "w = np.random.randint(20,50, size = 5)\n",
    "np.random.seed(10)\n",
    "d = np.random.randint(10,66, size = 5)\n",
    "np.random.seed(10)\n",
    "L = np.random.randint(100,200)\n",
    "n = First_Fit_Decreasing(w, d, L)\n",
    "n"
   ]
  },
  {
   "cell_type": "markdown",
   "metadata": {},
   "source": [
    "## Probability of recovering a defect in a bin packing problem."
   ]
  },
  {
   "cell_type": "markdown",
   "metadata": {},
   "source": [
    "Here is a text file that gives the solution of a bin packing problem with 100 items and bin length W=100. \n",
    "After [ITEMSET], the list of item lengths is reported. \n",
    "\n",
    "The optimal solution consists of 25 bins. \n",
    "\n",
    "After [PATTERNSET], you read the list of patterns (i.e., bins filled with items), encoded in this way:\n",
    "n : w_1, ..., w_n : p1 : p2\n",
    "\n",
    "The first number (n) gives how many items are packed in the bin. Then you have n numbers that give the length of those items. Please neglect the two numbers after the second colon, that is, p1 and p2.\n",
    "\n",
    "So for example, the first pattern describes a bin filled with three items of length 61, 29 and 10. As 61+29+10=100=W, this bin cannot be recovered in case of defect, wherever it falls. The same occurs for the second pattern, {69, 28, 3} but not for the third, {74, 25}: in this latter case, in fact, 74+25 = 99 < 100 and you have a unit leftover that can be used to reconfigure the pattern. \n"
   ]
  },
  {
   "attachments": {
    "image.png": {
     "image/png": "[encoded data removed]"
    }
   },
   "cell_type": "markdown",
   "metadata": {},
   "source": [
    "xi = 1 if item i is placed in the left region, 0 otherwise\n",
    "min \tw1x1 + w2x2 + … + wnxn  \n",
    "s.t.\tw1(1 – x1) + w2(1 – x2) + … + wn(1 – xn) < W – k – 1\n",
    "If the optimum is < k, then a defect in the interval [k, k+1] can be recovered, \u000b",
    "otherwise not\n",
    "Solve for k = 0, …, W – 1 (it is sufficient to solve it for k = 0, …, (W – 1)/2 \n",
    "Count the number of cases in which optimum < k\n",
    "This gives you the probability of recovering a random defect in [0, W]\n",
    "![image.png](attachment:image.png)"
   ]
  },
  {
   "cell_type": "code",
   "execution_count": 3,
   "metadata": {
    "scrolled": true
   },
   "outputs": [],
   "source": [
    "from mip import *\n",
    "import random\n",
    "random.seed(100)\n",
    "import pandas as pd\n",
    "import numpy as np\n",
    "\n",
    "PATTERNSET = pd.DataFrame({'length':[3,3,2,2,2,2,2,2,2,1,1,1,1,1,2,2,2,3,2,2,3,3,3,1,2],\n",
    "                        'patterns': [[61, 29, 10], [69, 28, 3], [74, 25],[85, 14], [88, 11], \n",
    "                                     [92, 7], [92, 7],[51, 49], [56, 44], [99],[99],[96],[96],\n",
    "                                     [91],[87, 13],[76, 24],[72, 28],[40, 30, 30 ],[67, 33],[67, 33],\n",
    "                                     [62, 21, 17],[52, 27, 20],[46, 23, 22],[86],[42, 40]\n",
    "                                    ]})\n",
    "\n",
    "# The standard bin length\n",
    "L = 100\n",
    "\n",
    "# List to keep the probabilities.\n",
    "#prob = []\n",
    "\n",
    "# probability of recovering a pattern when a random defect is present\n",
    "\n",
    "def prob_P(L,w):\n",
    "# for each bin \n",
    "    \n",
    "    # length of pattern\n",
    "    n = len(w)\n",
    "    \n",
    "    # creating the model\n",
    "    model = Model()\n",
    "\n",
    "    x = {i: model.add_var(obj=0, var_type=BINARY, name=\"x[%d]\" % i) for i in range(n)}\n",
    "\n",
    "    # initialize a counter\n",
    "    count = 0\n",
    "    \n",
    "    # knapsack constraints\n",
    "    for k in range(L):\n",
    "        model.add_constr(xsum(w[j] * (1-x[j]) for j in range(n)) <= L - k- 1)\n",
    "\n",
    "        # Objective value  \n",
    "        model.objective = minimize(xsum(w[i]*x[i] for i in range(n)))\n",
    "\n",
    "        # solving the model to optimality\n",
    "        model.optimize();\n",
    "        if model.objective_value <= k:\n",
    "            count+=1\n",
    "   \n",
    "    return count/L"
   ]
  },
  {
   "cell_type": "markdown",
   "metadata": {},
   "source": [
    "# Expected Economic Loss"
   ]
  },
  {
   "cell_type": "markdown",
   "metadata": {},
   "source": [
    "## Problem 2"
   ]
  },
  {
   "cell_type": "code",
   "execution_count": 4,
   "metadata": {},
   "outputs": [],
   "source": [
    "from mip import *\n",
    "\n",
    "def l(L, w, t):\n",
    "    le = L-sum(w)\n",
    "    # creating the model\n",
    "    model = Model()\n",
    "\n",
    "    # defining the variables\n",
    "    l = {j: model.add_var(obj=0, var_type=INTEGER, name=\"l[%d]\" % j) for j in range(len(w))}\n",
    "    r = {j: model.add_var(obj=1, var_type=INTEGER, name=\"r[%d]\" % j) for j in range(len(w))}\n",
    "\n",
    "    # constraints\n",
    "    for i in range(len(w)):\n",
    "\n",
    "        # either an item is placed to the right of a defect or to the left or not in the patttern\n",
    "        model.add_constr(l[i] + r[i]  <= 1) \n",
    "\n",
    "    # size of items placed to the left of the defect must be less than the defect\n",
    "    model.add_constr(xsum(w[i] * l[i] for i in range(len(w)))<= t)\n",
    "\n",
    "    # size of items placed to the right of the must be less than the the length of the bin - defect\n",
    "    model.add_constr(xsum(w[i] * r[i] for i in range(len(w)))<= L-t-1)\n",
    "\n",
    "    # objective value\n",
    "    model.objective = maximize(xsum(w[i]*(l[i] + r[i]) for i in range(len(w))))\n",
    "\n",
    "    # optimizing the model\n",
    "    model.optimize()\n",
    "            \n",
    "    return model.objective_value"
   ]
  },
  {
   "cell_type": "code",
   "execution_count": 3,
   "metadata": {},
   "outputs": [
    {
     "data": {
      "text/plain": [
       "2"
      ]
     },
     "execution_count": 3,
     "metadata": {},
     "output_type": "execute_result"
    }
   ],
   "source": [
    "[40, 30, 30].count(30)"
   ]
  },
  {
   "cell_type": "markdown",
   "metadata": {},
   "source": [
    "## Probability of lossing as item"
   ]
  },
  {
   "cell_type": "code",
   "execution_count": 5,
   "metadata": {},
   "outputs": [],
   "source": [
    "import numpy as np\n",
    "\n",
    "def prob_i(L,w,item):\n",
    "    \n",
    "    # left-over\n",
    "    le = L-sum(w)\n",
    "    \n",
    "    E = []\n",
    "    Q = []\n",
    "    \n",
    "    for t in range(0,int(L/2)):\n",
    "\n",
    "        # creating the model\n",
    "        model = Model()\n",
    "        l = {j: model.add_var(var_type=INTEGER, name=\"l[%d]\" % j) for j in range(len(w))}\n",
    "        r = {j: model.add_var(var_type=INTEGER, name=\"r[%d]\" % j) for j in range(len(w))}\n",
    "\n",
    "        # constraints\n",
    "        for i in range(len(w)):\n",
    "\n",
    "            # either an item is placed to the right of a defect or to the left\n",
    "            model.add_constr(l[i] + r[i]  <= 1) \n",
    "\n",
    "        # size of items placed to the left of the defect must be less than the size of the defect\n",
    "        model.add_constr(xsum(w[i] * l[i] for i in range(len(w)))<= t)\n",
    "\n",
    "        # size of items placed to the right of the must be less than the the length of the bin defect size\n",
    "        model.add_constr(xsum(w[i] * r[i] for i in range(len(w)))<= L-t)\n",
    "\n",
    "        # objective value\n",
    "        model.objective = maximize(xsum(w[i]*(l[i] + r[i]) for i in range(len(w))))\n",
    "\n",
    "        # optimizing the model\n",
    "        model.optimize()\n",
    "        \n",
    "        # to find the minimum l(P,t)\n",
    "        if  (sum([w[i] for i in range(len(w))])-int(model.objective_value))==item:\n",
    "\n",
    "            E.append(t)\n",
    "            Q.append(t)\n",
    "            Q.append(L-t-1)\n",
    "            \n",
    "    return (2*len(E)/L)/w.count(item)"
   ]
  },
  {
   "cell_type": "code",
   "execution_count": 4,
   "metadata": {},
   "outputs": [
    {
     "data": {
      "text/plain": [
       "0.0"
      ]
     },
     "execution_count": 4,
     "metadata": {},
     "output_type": "execute_result"
    }
   ],
   "source": [
    "prob_i(100,[1,9],1)"
   ]
  },
  {
   "cell_type": "code",
   "execution_count": 140,
   "metadata": {},
   "outputs": [
    {
     "name": "stdout",
     "output_type": "stream",
     "text": [
      "[0.0, 0.62, 0.38] [45, 43, 12] 0.0\n",
      "[0.26, 0.66] [63, 35] 0.08\n",
      "[0.38, 0.34] [69, 24] 0.28\n",
      "[0.28, 0.64] [64, 34] 0.08\n",
      "[0.74, 0.1, 0.16] [87, 9, 4] 0.0\n",
      "[0.44, 0.36, 0.2] [72, 23, 5] 0.0\n",
      "[0.8, 0.2] [90, 10] 0.0\n",
      "[0.0, 0.38, 0.54] [45, 37, 17] 0.08\n",
      "[0.4, 0.6] [70, 30] 0.0\n",
      "[0.82, 0.06] [91, 6] 0.12\n",
      "[0.42, 0.58] [71, 29] 0.0\n",
      "[1.0] [100] 0.0\n",
      "[0.98] [99] 0.02\n",
      "[0.96] [98] 0.04\n",
      "[0.96] [98] 0.04\n",
      "[0.96] [98] 0.04\n",
      "[0.0, 0.34, 0.66] [43, 37, 20] 0.0\n",
      "[0.56, 0.44] [78, 22] 0.0\n",
      "[0.38, 0.62] [69, 31] 0.0\n",
      "[0.68, 0.12] [84, 11] 0.2\n",
      "[0.16, 0.84] [58, 42] 0.0\n",
      "[0.16, 0.8] [58, 41] 0.04\n",
      "[0.54, 0.38] [77, 21] 0.08\n",
      "[0.68] [84] 0.32\n",
      "[0.0, 0.4] [46, 37] 0.6\n"
     ]
    }
   ],
   "source": [
    "\n",
    "for i in p:\n",
    "    A=[]\n",
    "    for j in i:\n",
    "        A.append(prob_i(100,i,j))\n",
    "    print (A,i,prob_P(100,i))"
   ]
  },
  {
   "cell_type": "code",
   "execution_count": 67,
   "metadata": {},
   "outputs": [],
   "source": [
    "w=[30,30,30]"
   ]
  },
  {
   "cell_type": "code",
   "execution_count": 68,
   "metadata": {
    "scrolled": true
   },
   "outputs": [
    {
     "data": {
      "text/plain": [
       "[0.19999999999999998, 0.19999999999999998, 0.19999999999999998]"
      ]
     },
     "execution_count": 68,
     "metadata": {},
     "output_type": "execute_result"
    }
   ],
   "source": [
    "[prob_i(100,w,m) for m in w]"
   ]
  },
  {
   "cell_type": "code",
   "execution_count": 87,
   "metadata": {
    "scrolled": true
   },
   "outputs": [
    {
     "data": {
      "text/plain": [
       "0.54"
      ]
     },
     "execution_count": 87,
     "metadata": {},
     "output_type": "execute_result"
    }
   ],
   "source": [
    "prob_i(100,[45, 37, 17],17)"
   ]
  },
  {
   "cell_type": "code",
   "execution_count": null,
   "metadata": {},
   "outputs": [],
   "source": []
  },
  {
   "cell_type": "markdown",
   "metadata": {},
   "source": [
    "## Expected Economic Loss for a pattern set\n"
   ]
  },
  {
   "cell_type": "code",
   "execution_count": 21,
   "metadata": {
    "scrolled": false
   },
   "outputs": [],
   "source": [
    "# Expected economic loss for a pattern_set\n"
   ]
  },
  {
   "cell_type": "markdown",
   "metadata": {},
   "source": [
    "## Expected Economic Loss for a single pattern"
   ]
  },
  {
   "cell_type": "code",
   "execution_count": 6,
   "metadata": {},
   "outputs": [],
   "source": [
    "def eel(L,w):\n",
    "\n",
    "    # left_over\n",
    "    le=L-sum(w) \n",
    "    \n",
    "    return le*prob_P(L,w)+sum([item*prob_i(L,w, item) for item in w])#*np.random.choice([0,1])\n",
    "\n",
    "def eel_pat(L,Pattern_set):\n",
    "    return sum([eel(L,pattern) for pattern in Pattern_set])"
   ]
  },
  {
   "cell_type": "markdown",
   "metadata": {},
   "source": [
    "## Problem 3 "
   ]
  },
  {
   "cell_type": "markdown",
   "metadata": {},
   "source": [
    "### A model that reconfigures the pattern set in order to reduce the EEL"
   ]
  },
  {
   "cell_type": "code",
   "execution_count": 7,
   "metadata": {},
   "outputs": [],
   "source": [
    "from mip import *\n",
    "\n",
    "\n",
    "L = 100 # standard bar length\n",
    "\n",
    "\n",
    "# pattern reconfiguration 1\n",
    "def PR_1(L,m,w):\n",
    "    n = len(w)  # All items\n",
    "    #m = 26  # optimum value\n",
    "\n",
    "    # creating the model\n",
    "    model = Model()\n",
    "    _set = []\n",
    "\n",
    "    # variables\n",
    "    x = {(i, j): model.add_var(obj=0, var_type=BINARY, name=\"%d, %d\" % (i, j)) for i in range(n) for j in range(m)}\n",
    "    C_max = model.add_var(obj=1,name='C_max', var_type=INTEGER, lb=0.0, ub=L)\n",
    "\n",
    "    # constraints\n",
    "    for j in range(m):\n",
    "        model.add_constr(xsum(w[i]*x[i,j] for i in range(n)) <= C_max)\n",
    "    for i in range(n):\n",
    "        model.add_constr(xsum(x[i,j] for j in range(m)) == 1)\n",
    "\n",
    "    # define the objective\n",
    "    model.objective = minimize(C_max)\n",
    "\n",
    "    # optimizing the model\n",
    "    model.optimize()\n",
    "    # print out the objective\n",
    "    #for var in model.vars:\n",
    "\n",
    "        # to print out the non-zero values\n",
    "    # print out the objective\n",
    "    for var in model.vars:\n",
    "\n",
    "        # to print out the non-zero values\n",
    "        if (var.x> 1e-9):\n",
    "\n",
    "            # remove C_max from the variables \n",
    "            if (var.name!='C_max'):\n",
    "                _set.append(list(eval(var.name)))\n",
    "    # to get all the bins used in the process\n",
    "    bins=[]\n",
    "    for res in _set:\n",
    "\n",
    "        # keep the last value in the index of the x[i,j]\n",
    "        bins.append(res[-1])\n",
    "\n",
    "    # print out the unique bins\n",
    "    Bin = np.unique(bins)\n",
    "\n",
    "    # initialize a counter to run through all the available bins\n",
    "    i = 0\n",
    "\n",
    "    # an empty list to keep the patterns\n",
    "    pattern_set=[]\n",
    "\n",
    "    while i<len(Bin):\n",
    "\n",
    "        # get the pattern set by keeping length of items that share bin in the same list \n",
    "        pattern_set.append([w[k] for k, x in enumerate(_set) if Bin[i] == x[-1]])\n",
    "        i+=1 \n",
    "    return pattern_set"
   ]
  },
  {
   "cell_type": "code",
   "execution_count": 67,
   "metadata": {},
   "outputs": [],
   "source": [
    "from mip import *\n",
    "\n",
    "# find a pattern set such that we minimize the difference between the largest pattern and the shortest pattern\n",
    "\n",
    "def PR_2(L,m,w):\n",
    "\n",
    "    n = len(w)  # All items\n",
    "    #m = 25  # optimum value\n",
    "\n",
    "    # creating the model\n",
    "    model = Model(solver_name=GRB)\n",
    "    _set = []\n",
    "\n",
    "    # variables\n",
    "    x = {(i, j): model.add_var(obj=0, var_type=INTEGER, name=\"%d, %d\" % (i, j)) for i in range(n) for j in range(m)}\n",
    "    C_max = model.add_var(obj=1,name='C_max', var_type=INTEGER, lb=0.0, ub=L)\n",
    "    C_min = model.add_var(obj=2,name='C_min', var_type=INTEGER, lb=0.0, ub=L)\n",
    "\n",
    "    # constraints\n",
    "    for j in range(m):\n",
    "        model.add_constr(xsum(w[i]*x[i,j] for i in range(n)) <= C_max)\n",
    "        model.add_constr(xsum(w[i]*x[i,j] for i in range(n)) >= C_min)\n",
    "    for i in range(n):\n",
    "        model.add_constr(xsum(x[i,j] for j in range(m)) == 1)\n",
    "\n",
    "    # define the objective\n",
    "    model.objective = minimize(C_max-C_min)\n",
    "\n",
    "    # optimizing the model\n",
    "    model.optimize()\n",
    "    # print out the objective\n",
    "    for var in model.vars:\n",
    "\n",
    "        # to print out the non-zero values\n",
    "        if (var.x> 1e-9):\n",
    "\n",
    "            # remove C_max from the variables \n",
    "            if var.name!='C_max':\n",
    "\n",
    "                # remove C_min from the variables\n",
    "                if var.name!='C_min':\n",
    "                    _set.append(list(eval(var.name)))\n",
    "    # to get all the bins used in the process\n",
    "    bins=[]\n",
    "    for res in _set:\n",
    "\n",
    "        # keep the last value in the index of the x[i,j]\n",
    "        bins.append(res[-1])\n",
    "\n",
    "    # print out the unique bins\n",
    "    Bin = np.unique(bins)\n",
    "\n",
    "    # initialize a counter to run through all the available bins\n",
    "    i = 0\n",
    "\n",
    "    # an empty list to keep the patterns\n",
    "    pattern_set=[]\n",
    "\n",
    "    while i<len(Bin):\n",
    "\n",
    "        # get the pattern set by keeping length of items that share bin in the same list \n",
    "        pattern_set.append([w[k] for k, x in enumerate(_set) if Bin[i] == x[-1]])\n",
    "        i+=1 \n",
    "    \n",
    "    return pattern_set"
   ]
  },
  {
   "cell_type": "code",
   "execution_count": 68,
   "metadata": {
    "scrolled": true
   },
   "outputs": [],
   "source": [
    "\n",
    "# first item set\n",
    "item_1 = [99,99,96,96,92,92,91,88,87,86,85,76,74,72,69,67,67,62,61,56,52,51,49,46,\n",
    "     44,42,40,40,33,33,30,30,29,28,28,27,25,24,23,22,21,20,17,14,13,11,10,7,7,3]\n",
    "\n",
    "# pattern set for optimum solution\n",
    "pattern_set_1 = [[61, 29, 10], [69, 28, 3], [74, 25],[85, 14], [88, 11], \n",
    "                                     [92, 7], [92, 7],[51, 49], [56, 44], [99],[99],[96],[96],\n",
    "                                     [91],[87, 13],[76, 24],[72, 28],[40, 30, 30 ],[67, 33],[67, 33],\n",
    "                                     [62, 21, 17],[52, 27, 20],[46, 23, 22],[86],[42, 40]]\n",
    "\n",
    "item_2 = [100,99,98,98,98,91,90,87,84,84,78,77,72,71,70,69,69,64,63,58,58,46,45,45,43,43,42,41,37,37,\n",
    "             37,35,34,31,30,29,24,23,22,21,20,17,12,11,10,9,7,6,5,4]\n",
    "#len(item);\n",
    "pattern_set_2 = [[45, 43, 12],[63, 35],[69, 24],[64, 34],[87, 9, 4],[72, 23, 5],[ 90, 10],[45, 37, 17],[70, 30],[91, 6],\n",
    "             [71, 29],[100],[99],[98],[98],[98],[43, 37, 20 ],[78, 22],[69, 31],[84, 11],[58, 42],[58, 41],[77, 21],\n",
    "             [84],[46, 37]]\n",
    "\n",
    "\n",
    "\n",
    "item_4 = [92, 89, 87, 84, 82, 82, 81, 75, 73, 71, 67, 67, 63, 59, 57, 56, 52, 49, 48, 47, 46, 41, 39, 38, 36, 35, 34, 34,\n",
    "          30, 29, 26, 21, 20, 19, 18, 15, 15, 13, 11, 10, 10, 10, 9, 8, 8, 7, 6, 6, 6, 3]\n",
    "\n",
    "pattern_set_4 = [[52, 48], [75, 15, 10], [82, 18], [67, 26, 7], [47, 38, 15], [63, 34, 3], [81, 19], [92, 8], [73, 21],\n",
    "                 [87, 13], [89, 11], [56, 34, 10], [82, 10, 8], [71, 29],[84, 9, 6], [59, 35, 6], [41, 39, 20], [67, 30],\n",
    "                 [49, 46], [57, 36]]\n",
    "\n",
    "item_5 = [91, 88, 88, 87, 87, 86, 86, 85, 85, 84, 83, 80, 79, 78, 77, 70, 70, 68, 67, 66, 59, 52, 49, 48, 47, 47, 44, 42,\n",
    "          38, 37, 37, 34, 34, 33, 31, 29, 27, 24, 21, 17, 16, 16, 15, 14, 8, 6, 5, 4, 2, 2]\n",
    "\n",
    "pattern_set_5 = [[42, 34, 16, 8], [79, 17, 4], [86, 14], [87, 6, 5, 2], [83, 15, 2], [84, 16], [78, 21], [70, 29],\n",
    "                 [70, 27], [38, 37, 24], [49, 47], [88], [87], [68, 31], [67, 33], [66, 34], [52, 48], [59, 37], [88], \n",
    "                 [86], [85], [85], [91], [47, 44], [80], [77]]\n",
    "\n",
    "item_7 = [95 , 94, 93, 92, 87, 81, 81, 79, 78, 76, 75, 72, 72, 71, 70, 65, 62, 61 , 60, 55, 54, 54, 51, 49, 46, 45, 38, \n",
    "           38, 37, 36, 36, 36, 32, 31, 28, 27, 26, 25, 24, 24, 21, 20, 20, 17, 14, 10, 9, 7, 7, 3]\n",
    "\n",
    "pattern_set_7 = [[60, 31, 9], [ 65, 32, 3],[70, 20, 10], [72, 28] , [78, 21] , [81, 17], [81, 14], [92, 7] ,[95], [61, 38] ,[94], \n",
    "                 [93, 7], [38, 36, 26], [76, 24] ,[75, 25] ,[55, 45] ,[54, 46],[51, 49],[37, 36, 27] ,[79, 20] ,[62, 36] ,\n",
    "                 [72, 24] ,[87] ,[71] , [54]]\n"
   ]
  },
  {
   "cell_type": "code",
   "execution_count": 54,
   "metadata": {},
   "outputs": [
    {
     "data": {
      "text/plain": [
       "25"
      ]
     },
     "execution_count": 54,
     "metadata": {},
     "output_type": "execute_result"
    }
   ],
   "source": [
    "len(pattern_set_7)"
   ]
  },
  {
   "cell_type": "code",
   "execution_count": 69,
   "metadata": {},
   "outputs": [],
   "source": [
    "def lo(L,w):\n",
    "\n",
    "    # left_over\n",
    "    le=L-sum(w) \n",
    "    return le*prob_P(L,w)\n",
    "\n",
    "def lo_pat(L,Pattern_set):\n",
    "    return sum([l_o(L,pattern) for pattern in Pattern_set])\n",
    "\n",
    "def pl(L,w):\n",
    "    \n",
    "    return sum([item*prob_i(L,w, item) for item in w])\n",
    "\n",
    "def pl_pat(L,Pattern_set):\n",
    "    return sum([PL(L,pattern) for pattern in Pattern_set])"
   ]
  },
  {
   "cell_type": "code",
   "execution_count": 70,
   "metadata": {},
   "outputs": [],
   "source": [
    "# finding the EEL for a pattern_set 10 times and fini\n",
    "\n",
    "import statistics\n",
    "def p_eel(L,p):\n",
    "    i = 0\n",
    "    c1 = []\n",
    "    \n",
    "    # while \n",
    "    while i<10:\n",
    "        c1.append(eel_pat(L,p)) # appennd the EEL for each pattern\n",
    "        i+=1\n",
    "    ans = [c1, min(c1), max(c1), statistics.mean(c1), statistics.variance(c1)]  \n",
    "    return ans"
   ]
  },
  {
   "cell_type": "markdown",
   "metadata": {},
   "source": [
    "### Group 1, Instance 1"
   ]
  },
  {
   "cell_type": "markdown",
   "metadata": {},
   "source": [
    "#### Model 1"
   ]
  },
  {
   "cell_type": "code",
   "execution_count": 41,
   "metadata": {
    "scrolled": true
   },
   "outputs": [
    {
     "data": {
      "text/plain": [
       "[[479.7,\n",
       "  435.2799999999999,\n",
       "  953.12,\n",
       "  453.23999999999995,\n",
       "  520.08,\n",
       "  438.44000000000017,\n",
       "  844.34,\n",
       "  487.12000000000006,\n",
       "  624.4200000000001,\n",
       "  528.3600000000001],\n",
       " 435.2799999999999,\n",
       " 953.12,\n",
       " 576.4100000000001,\n",
       " 32548.168377777776]"
      ]
     },
     "execution_count": 41,
     "metadata": {},
     "output_type": "execute_result"
    }
   ],
   "source": [
    "p_eel(100,PR_2(100,25,item_1))"
   ]
  },
  {
   "cell_type": "code",
   "execution_count": 45,
   "metadata": {},
   "outputs": [
    {
     "data": {
      "text/plain": [
       "1342.86"
      ]
     },
     "execution_count": 45,
     "metadata": {},
     "output_type": "execute_result"
    }
   ],
   "source": [
    "eel_pat(100,pattern_set_1)"
   ]
  },
  {
   "cell_type": "code",
   "execution_count": 15,
   "metadata": {},
   "outputs": [
    {
     "data": {
      "text/plain": [
       "1313.2600000000002"
      ]
     },
     "execution_count": 15,
     "metadata": {},
     "output_type": "execute_result"
    }
   ],
   "source": [
    "eel_pat(100,PR_2(100,25,item_1))"
   ]
  },
  {
   "cell_type": "code",
   "execution_count": 16,
   "metadata": {},
   "outputs": [
    {
     "data": {
      "text/plain": [
       "1269.7600000000002"
      ]
     },
     "execution_count": 16,
     "metadata": {},
     "output_type": "execute_result"
    }
   ],
   "source": [
    "eel_pat(100,PR_2(100,26,item_1))"
   ]
  },
  {
   "cell_type": "code",
   "execution_count": 17,
   "metadata": {},
   "outputs": [
    {
     "data": {
      "text/plain": [
       "1277.02"
      ]
     },
     "execution_count": 17,
     "metadata": {},
     "output_type": "execute_result"
    }
   ],
   "source": [
    "eel_pat(100,PR_2(100,27,item_1))"
   ]
  },
  {
   "cell_type": "code",
   "execution_count": 14,
   "metadata": {},
   "outputs": [
    {
     "data": {
      "text/plain": [
       "[1307.0800000000004, 1299.96, 1370.5599999999995]"
      ]
     },
     "execution_count": 14,
     "metadata": {},
     "output_type": "execute_result"
    }
   ],
   "source": [
    "[eel_pat(100,PR_1(100,m,item_1)) for m in range(25,28)]"
   ]
  },
  {
   "cell_type": "code",
   "execution_count": 24,
   "metadata": {},
   "outputs": [
    {
     "data": {
      "text/plain": [
       "[[451.11999999999995,\n",
       "  723.9600000000002,\n",
       "  832.3,\n",
       "  658.4200000000001,\n",
       "  916.0000000000001,\n",
       "  766.28,\n",
       "  587.9600000000002,\n",
       "  759.2800000000001,\n",
       "  772.92,\n",
       "  680.24],\n",
       " 451.11999999999995,\n",
       " 916.0000000000001,\n",
       " 714.8480000000001,\n",
       " 16929.643751111114]"
      ]
     },
     "execution_count": 24,
     "metadata": {},
     "output_type": "execute_result"
    }
   ],
   "source": [
    "p_eel(100,PR_1(100,25,item_1))"
   ]
  },
  {
   "cell_type": "code",
   "execution_count": null,
   "metadata": {},
   "outputs": [],
   "source": [
    "[655.3000000000002, 570.3000000000001, 545.96]"
   ]
  },
  {
   "cell_type": "code",
   "execution_count": null,
   "metadata": {},
   "outputs": [],
   "source": [
    "w,l_o_pat(100, w)"
   ]
  },
  {
   "cell_type": "code",
   "execution_count": 25,
   "metadata": {},
   "outputs": [
    {
     "data": {
      "text/plain": [
       "[[725.1199999999999,\n",
       "  845.2199999999999,\n",
       "  856.9599999999998,\n",
       "  481.7999999999999,\n",
       "  722.62,\n",
       "  643.4999999999999,\n",
       "  830.6799999999998,\n",
       "  633.5000000000001,\n",
       "  876.02,\n",
       "  836.5599999999998],\n",
       " 481.7999999999999,\n",
       " 876.02,\n",
       " 745.1979999999999,\n",
       " 16486.005906666658]"
      ]
     },
     "execution_count": 25,
     "metadata": {},
     "output_type": "execute_result"
    }
   ],
   "source": [
    "p_eel(100, PR_1(100,26,item_1))"
   ]
  },
  {
   "cell_type": "code",
   "execution_count": 42,
   "metadata": {},
   "outputs": [
    {
     "data": {
      "text/plain": [
       "[[666.0599999999997,\n",
       "  692.0199999999999,\n",
       "  614.96,\n",
       "  647.4399999999997,\n",
       "  585.4199999999998,\n",
       "  924.2799999999999,\n",
       "  718.0799999999997,\n",
       "  697.1199999999998,\n",
       "  614.1999999999999,\n",
       "  703.0999999999999],\n",
       " 585.4199999999998,\n",
       " 924.2799999999999,\n",
       " 686.2679999999998,\n",
       " 8940.089617777774]"
      ]
     },
     "execution_count": 42,
     "metadata": {},
     "output_type": "execute_result"
    }
   ],
   "source": [
    "p_eel(100, PR_2(100,26,item_1))"
   ]
  },
  {
   "cell_type": "code",
   "execution_count": null,
   "metadata": {},
   "outputs": [],
   "source": [
    "a.append(eel_pat(100, PR_1(100,26,item_1)))\n",
    "a"
   ]
  },
  {
   "cell_type": "code",
   "execution_count": 174,
   "metadata": {},
   "outputs": [
    {
     "data": {
      "text/plain": [
       "1370.5599999999995"
      ]
     },
     "execution_count": 174,
     "metadata": {},
     "output_type": "execute_result"
    }
   ],
   "source": [
    "eel_pat(100,PR_1(100,27,item_1))"
   ]
  },
  {
   "cell_type": "code",
   "execution_count": 10,
   "metadata": {},
   "outputs": [
    {
     "data": {
      "text/plain": [
       "1277.02"
      ]
     },
     "execution_count": 10,
     "metadata": {},
     "output_type": "execute_result"
    }
   ],
   "source": [
    "eel_pat(100,PR_2(100,27,item_1))"
   ]
  },
  {
   "cell_type": "code",
   "execution_count": 163,
   "metadata": {},
   "outputs": [
    {
     "data": {
      "text/plain": [
       "1392.6399999999999"
      ]
     },
     "execution_count": 163,
     "metadata": {},
     "output_type": "execute_result"
    }
   ],
   "source": [
    "eel_pat(100,PR_1(100,28,item_1))"
   ]
  },
  {
   "cell_type": "code",
   "execution_count": 7,
   "metadata": {},
   "outputs": [],
   "source": [
    "%matplotlib notebook\n",
    "import matplotlib as mpl\n",
    "import numpy as np\n",
    "mpl.get_backend()\n",
    "import matplotlib.pyplot as plt\n"
   ]
  },
  {
   "cell_type": "code",
   "execution_count": 22,
   "metadata": {},
   "outputs": [
    {
     "data": {
      "application/javascript": [
       "/* Put everything inside the global mpl namespace */\n",
       "window.mpl = {};\n",
       "\n",
       "\n",
       "mpl.get_websocket_type = function() {\n",
       "    if (typeof(WebSocket) !== 'undefined') {\n",
       "        return WebSocket;\n",
       "    } else if (typeof(MozWebSocket) !== 'undefined') {\n",
       "        return MozWebSocket;\n",
       "    } else {\n",
       "        alert('Your browser does not have WebSocket support. ' +\n",
       "              'Please try Chrome, Safari or Firefox ≥ 6. ' +\n",
       "              'Firefox 4 and 5 are also supported but you ' +\n",
       "              'have to enable WebSockets in about:config.');\n",
       "    };\n",
       "}\n",
       "\n",
       "mpl.figure = function(figure_id, websocket, ondownload, parent_element) {\n",
       "    this.id = figure_id;\n",
       "\n",
       "    this.ws = websocket;\n",
       "\n",
       "    this.supports_binary = (this.ws.binaryType != undefined);\n",
       "\n",
       "    if (!this.supports_binary) {\n",
       "        var warnings = document.getElementById(\"mpl-warnings\");\n",
       "        if (warnings) {\n",
       "            warnings.style.display = 'block';\n",
       "            warnings.textContent = (\n",
       "                \"This browser does not support binary websocket messages. \" +\n",
       "                    \"Performance may be slow.\");\n",
       "        }\n",
       "    }\n",
       "\n",
       "    this.imageObj = new Image();\n",
       "\n",
       "    this.context = undefined;\n",
       "    this.message = undefined;\n",
       "    this.canvas = undefined;\n",
       "    this.rubberband_canvas = undefined;\n",
       "    this.rubberband_context = undefined;\n",
       "    this.format_dropdown = undefined;\n",
       "\n",
       "    this.image_mode = 'full';\n",
       "\n",
       "    this.root = $('<div/>');\n",
       "    this._root_extra_style(this.root)\n",
       "    this.root.attr('style', 'display: inline-block');\n",
       "\n",
       "    $(parent_element).append(this.root);\n",
       "\n",
       "    this._init_header(this);\n",
       "    this._init_canvas(this);\n",
       "    this._init_toolbar(this);\n",
       "\n",
       "    var fig = this;\n",
       "\n",
       "    this.waiting = false;\n",
       "\n",
       "    this.ws.onopen =  function () {\n",
       "            fig.send_message(\"supports_binary\", {value: fig.supports_binary});\n",
       "            fig.send_message(\"send_image_mode\", {});\n",
       "            if (mpl.ratio != 1) {\n",
       "                fig.send_message(\"set_dpi_ratio\", {'dpi_ratio': mpl.ratio});\n",
       "            }\n",
       "            fig.send_message(\"refresh\", {});\n",
       "        }\n",
       "\n",
       "    this.imageObj.onload = function() {\n",
       "            if (fig.image_mode == 'full') {\n",
       "                // Full images could contain transparency (where diff images\n",
       "                // almost always do), so we need to clear the canvas so that\n",
       "                // there is no ghosting.\n",
       "                fig.context.clearRect(0, 0, fig.canvas.width, fig.canvas.height);\n",
       "            }\n",
       "            fig.context.drawImage(fig.imageObj, 0, 0);\n",
       "        };\n",
       "\n",
       "    this.imageObj.onunload = function() {\n",
       "        fig.ws.close();\n",
       "    }\n",
       "\n",
       "    this.ws.onmessage = this._make_on_message_function(this);\n",
       "\n",
       "    this.ondownload = ondownload;\n",
       "}\n",
       "\n",
       "mpl.figure.prototype._init_header = function() {\n",
       "    var titlebar = $(\n",
       "        '<div class=\"ui-dialog-titlebar ui-widget-header ui-corner-all ' +\n",
       "        'ui-helper-clearfix\"/>');\n",
       "    var titletext = $(\n",
       "        '<div class=\"ui-dialog-title\" style=\"width: 100%; ' +\n",
       "        'text-align: center; padding: 3px;\"/>');\n",
       "    titlebar.append(titletext)\n",
       "    this.root.append(titlebar);\n",
       "    this.header = titletext[0];\n",
       "}\n",
       "\n",
       "\n",
       "\n",
       "mpl.figure.prototype._canvas_extra_style = function(canvas_div) {\n",
       "\n",
       "}\n",
       "\n",
       "\n",
       "mpl.figure.prototype._root_extra_style = function(canvas_div) {\n",
       "\n",
       "}\n",
       "\n",
       "mpl.figure.prototype._init_canvas = function() {\n",
       "    var fig = this;\n",
       "\n",
       "    var canvas_div = $('<div/>');\n",
       "\n",
       "    canvas_div.attr('style', 'position: relative; clear: both; outline: 0');\n",
       "\n",
       "    function canvas_keyboard_event(event) {\n",
       "        return fig.key_event(event, event['data']);\n",
       "    }\n",
       "\n",
       "    canvas_div.keydown('key_press', canvas_keyboard_event);\n",
       "    canvas_div.keyup('key_release', canvas_keyboard_event);\n",
       "    this.canvas_div = canvas_div\n",
       "    this._canvas_extra_style(canvas_div)\n",
       "    this.root.append(canvas_div);\n",
       "\n",
       "    var canvas = $('<canvas/>');\n",
       "    canvas.addClass('mpl-canvas');\n",
       "    canvas.attr('style', \"left: 0; top: 0; z-index: 0; outline: 0\")\n",
       "\n",
       "    this.canvas = canvas[0];\n",
       "    this.context = canvas[0].getContext(\"2d\");\n",
       "\n",
       "    var backingStore = this.context.backingStorePixelRatio ||\n",
       "\tthis.context.webkitBackingStorePixelRatio ||\n",
       "\tthis.context.mozBackingStorePixelRatio ||\n",
       "\tthis.context.msBackingStorePixelRatio ||\n",
       "\tthis.context.oBackingStorePixelRatio ||\n",
       "\tthis.context.backingStorePixelRatio || 1;\n",
       "\n",
       "    mpl.ratio = (window.devicePixelRatio || 1) / backingStore;\n",
       "\n",
       "    var rubberband = $('<canvas/>');\n",
       "    rubberband.attr('style', \"position: absolute; left: 0; top: 0; z-index: 1;\")\n",
       "\n",
       "    var pass_mouse_events = true;\n",
       "\n",
       "    canvas_div.resizable({\n",
       "        start: function(event, ui) {\n",
       "            pass_mouse_events = false;\n",
       "        },\n",
       "        resize: function(event, ui) {\n",
       "            fig.request_resize(ui.size.width, ui.size.height);\n",
       "        },\n",
       "        stop: function(event, ui) {\n",
       "            pass_mouse_events = true;\n",
       "            fig.request_resize(ui.size.width, ui.size.height);\n",
       "        },\n",
       "    });\n",
       "\n",
       "    function mouse_event_fn(event) {\n",
       "        if (pass_mouse_events)\n",
       "            return fig.mouse_event(event, event['data']);\n",
       "    }\n",
       "\n",
       "    rubberband.mousedown('button_press', mouse_event_fn);\n",
       "    rubberband.mouseup('button_release', mouse_event_fn);\n",
       "    // Throttle sequential mouse events to 1 every 20ms.\n",
       "    rubberband.mousemove('motion_notify', mouse_event_fn);\n",
       "\n",
       "    rubberband.mouseenter('figure_enter', mouse_event_fn);\n",
       "    rubberband.mouseleave('figure_leave', mouse_event_fn);\n",
       "\n",
       "    canvas_div.on(\"wheel\", function (event) {\n",
       "        event = event.originalEvent;\n",
       "        event['data'] = 'scroll'\n",
       "        if (event.deltaY < 0) {\n",
       "            event.step = 1;\n",
       "        } else {\n",
       "            event.step = -1;\n",
       "        }\n",
       "        mouse_event_fn(event);\n",
       "    });\n",
       "\n",
       "    canvas_div.append(canvas);\n",
       "    canvas_div.append(rubberband);\n",
       "\n",
       "    this.rubberband = rubberband;\n",
       "    this.rubberband_canvas = rubberband[0];\n",
       "    this.rubberband_context = rubberband[0].getContext(\"2d\");\n",
       "    this.rubberband_context.strokeStyle = \"#000000\";\n",
       "\n",
       "    this._resize_canvas = function(width, height) {\n",
       "        // Keep the size of the canvas, canvas container, and rubber band\n",
       "        // canvas in synch.\n",
       "        canvas_div.css('width', width)\n",
       "        canvas_div.css('height', height)\n",
       "\n",
       "        canvas.attr('width', width * mpl.ratio);\n",
       "        canvas.attr('height', height * mpl.ratio);\n",
       "        canvas.attr('style', 'width: ' + width + 'px; height: ' + height + 'px;');\n",
       "\n",
       "        rubberband.attr('width', width);\n",
       "        rubberband.attr('height', height);\n",
       "    }\n",
       "\n",
       "    // Set the figure to an initial 600x600px, this will subsequently be updated\n",
       "    // upon first draw.\n",
       "    this._resize_canvas(600, 600);\n",
       "\n",
       "    // Disable right mouse context menu.\n",
       "    $(this.rubberband_canvas).bind(\"contextmenu\",function(e){\n",
       "        return false;\n",
       "    });\n",
       "\n",
       "    function set_focus () {\n",
       "        canvas.focus();\n",
       "        canvas_div.focus();\n",
       "    }\n",
       "\n",
       "    window.setTimeout(set_focus, 100);\n",
       "}\n",
       "\n",
       "mpl.figure.prototype._init_toolbar = function() {\n",
       "    var fig = this;\n",
       "\n",
       "    var nav_element = $('<div/>');\n",
       "    nav_element.attr('style', 'width: 100%');\n",
       "    this.root.append(nav_element);\n",
       "\n",
       "    // Define a callback function for later on.\n",
       "    function toolbar_event(event) {\n",
       "        return fig.toolbar_button_onclick(event['data']);\n",
       "    }\n",
       "    function toolbar_mouse_event(event) {\n",
       "        return fig.toolbar_button_onmouseover(event['data']);\n",
       "    }\n",
       "\n",
       "    for(var toolbar_ind in mpl.toolbar_items) {\n",
       "        var name = mpl.toolbar_items[toolbar_ind][0];\n",
       "        var tooltip = mpl.toolbar_items[toolbar_ind][1];\n",
       "        var image = mpl.toolbar_items[toolbar_ind][2];\n",
       "        var method_name = mpl.toolbar_items[toolbar_ind][3];\n",
       "\n",
       "        if (!name) {\n",
       "            // put a spacer in here.\n",
       "            continue;\n",
       "        }\n",
       "        var button = $('<button/>');\n",
       "        button.addClass('ui-button ui-widget ui-state-default ui-corner-all ' +\n",
       "                        'ui-button-icon-only');\n",
       "        button.attr('role', 'button');\n",
       "        button.attr('aria-disabled', 'false');\n",
       "        button.click(method_name, toolbar_event);\n",
       "        button.mouseover(tooltip, toolbar_mouse_event);\n",
       "\n",
       "        var icon_img = $('<span/>');\n",
       "        icon_img.addClass('ui-button-icon-primary ui-icon');\n",
       "        icon_img.addClass(image);\n",
       "        icon_img.addClass('ui-corner-all');\n",
       "\n",
       "        var tooltip_span = $('<span/>');\n",
       "        tooltip_span.addClass('ui-button-text');\n",
       "        tooltip_span.html(tooltip);\n",
       "\n",
       "        button.append(icon_img);\n",
       "        button.append(tooltip_span);\n",
       "\n",
       "        nav_element.append(button);\n",
       "    }\n",
       "\n",
       "    var fmt_picker_span = $('<span/>');\n",
       "\n",
       "    var fmt_picker = $('<select/>');\n",
       "    fmt_picker.addClass('mpl-toolbar-option ui-widget ui-widget-content');\n",
       "    fmt_picker_span.append(fmt_picker);\n",
       "    nav_element.append(fmt_picker_span);\n",
       "    this.format_dropdown = fmt_picker[0];\n",
       "\n",
       "    for (var ind in mpl.extensions) {\n",
       "        var fmt = mpl.extensions[ind];\n",
       "        var option = $(\n",
       "            '<option/>', {selected: fmt === mpl.default_extension}).html(fmt);\n",
       "        fmt_picker.append(option);\n",
       "    }\n",
       "\n",
       "    // Add hover states to the ui-buttons\n",
       "    $( \".ui-button\" ).hover(\n",
       "        function() { $(this).addClass(\"ui-state-hover\");},\n",
       "        function() { $(this).removeClass(\"ui-state-hover\");}\n",
       "    );\n",
       "\n",
       "    var status_bar = $('<span class=\"mpl-message\"/>');\n",
       "    nav_element.append(status_bar);\n",
       "    this.message = status_bar[0];\n",
       "}\n",
       "\n",
       "mpl.figure.prototype.request_resize = function(x_pixels, y_pixels) {\n",
       "    // Request matplotlib to resize the figure. Matplotlib will then trigger a resize in the client,\n",
       "    // which will in turn request a refresh of the image.\n",
       "    this.send_message('resize', {'width': x_pixels, 'height': y_pixels});\n",
       "}\n",
       "\n",
       "mpl.figure.prototype.send_message = function(type, properties) {\n",
       "    properties['type'] = type;\n",
       "    properties['figure_id'] = this.id;\n",
       "    this.ws.send(JSON.stringify(properties));\n",
       "}\n",
       "\n",
       "mpl.figure.prototype.send_draw_message = function() {\n",
       "    if (!this.waiting) {\n",
       "        this.waiting = true;\n",
       "        this.ws.send(JSON.stringify({type: \"draw\", figure_id: this.id}));\n",
       "    }\n",
       "}\n",
       "\n",
       "\n",
       "mpl.figure.prototype.handle_save = function(fig, msg) {\n",
       "    var format_dropdown = fig.format_dropdown;\n",
       "    var format = format_dropdown.options[format_dropdown.selectedIndex].value;\n",
       "    fig.ondownload(fig, format);\n",
       "}\n",
       "\n",
       "\n",
       "mpl.figure.prototype.handle_resize = function(fig, msg) {\n",
       "    var size = msg['size'];\n",
       "    if (size[0] != fig.canvas.width || size[1] != fig.canvas.height) {\n",
       "        fig._resize_canvas(size[0], size[1]);\n",
       "        fig.send_message(\"refresh\", {});\n",
       "    };\n",
       "}\n",
       "\n",
       "mpl.figure.prototype.handle_rubberband = function(fig, msg) {\n",
       "    var x0 = msg['x0'] / mpl.ratio;\n",
       "    var y0 = (fig.canvas.height - msg['y0']) / mpl.ratio;\n",
       "    var x1 = msg['x1'] / mpl.ratio;\n",
       "    var y1 = (fig.canvas.height - msg['y1']) / mpl.ratio;\n",
       "    x0 = Math.floor(x0) + 0.5;\n",
       "    y0 = Math.floor(y0) + 0.5;\n",
       "    x1 = Math.floor(x1) + 0.5;\n",
       "    y1 = Math.floor(y1) + 0.5;\n",
       "    var min_x = Math.min(x0, x1);\n",
       "    var min_y = Math.min(y0, y1);\n",
       "    var width = Math.abs(x1 - x0);\n",
       "    var height = Math.abs(y1 - y0);\n",
       "\n",
       "    fig.rubberband_context.clearRect(\n",
       "        0, 0, fig.canvas.width / mpl.ratio, fig.canvas.height / mpl.ratio);\n",
       "\n",
       "    fig.rubberband_context.strokeRect(min_x, min_y, width, height);\n",
       "}\n",
       "\n",
       "mpl.figure.prototype.handle_figure_label = function(fig, msg) {\n",
       "    // Updates the figure title.\n",
       "    fig.header.textContent = msg['label'];\n",
       "}\n",
       "\n",
       "mpl.figure.prototype.handle_cursor = function(fig, msg) {\n",
       "    var cursor = msg['cursor'];\n",
       "    switch(cursor)\n",
       "    {\n",
       "    case 0:\n",
       "        cursor = 'pointer';\n",
       "        break;\n",
       "    case 1:\n",
       "        cursor = 'default';\n",
       "        break;\n",
       "    case 2:\n",
       "        cursor = 'crosshair';\n",
       "        break;\n",
       "    case 3:\n",
       "        cursor = 'move';\n",
       "        break;\n",
       "    }\n",
       "    fig.rubberband_canvas.style.cursor = cursor;\n",
       "}\n",
       "\n",
       "mpl.figure.prototype.handle_message = function(fig, msg) {\n",
       "    fig.message.textContent = msg['message'];\n",
       "}\n",
       "\n",
       "mpl.figure.prototype.handle_draw = function(fig, msg) {\n",
       "    // Request the server to send over a new figure.\n",
       "    fig.send_draw_message();\n",
       "}\n",
       "\n",
       "mpl.figure.prototype.handle_image_mode = function(fig, msg) {\n",
       "    fig.image_mode = msg['mode'];\n",
       "}\n",
       "\n",
       "mpl.figure.prototype.updated_canvas_event = function() {\n",
       "    // Called whenever the canvas gets updated.\n",
       "    this.send_message(\"ack\", {});\n",
       "}\n",
       "\n",
       "// A function to construct a web socket function for onmessage handling.\n",
       "// Called in the figure constructor.\n",
       "mpl.figure.prototype._make_on_message_function = function(fig) {\n",
       "    return function socket_on_message(evt) {\n",
       "        if (evt.data instanceof Blob) {\n",
       "            /* FIXME: We get \"Resource interpreted as Image but\n",
       "             * transferred with MIME type text/plain:\" errors on\n",
       "             * Chrome.  But how to set the MIME type?  It doesn't seem\n",
       "             * to be part of the websocket stream */\n",
       "            evt.data.type = \"image/png\";\n",
       "\n",
       "            /* Free the memory for the previous frames */\n",
       "            if (fig.imageObj.src) {\n",
       "                (window.URL || window.webkitURL).revokeObjectURL(\n",
       "                    fig.imageObj.src);\n",
       "            }\n",
       "\n",
       "            fig.imageObj.src = (window.URL || window.webkitURL).createObjectURL(\n",
       "                evt.data);\n",
       "            fig.updated_canvas_event();\n",
       "            fig.waiting = false;\n",
       "            return;\n",
       "        }\n",
       "        else if (typeof evt.data === 'string' && evt.data.slice(0, 21) == \"data:image/png;base64\") {\n",
       "            fig.imageObj.src = evt.data;\n",
       "            fig.updated_canvas_event();\n",
       "            fig.waiting = false;\n",
       "            return;\n",
       "        }\n",
       "\n",
       "        var msg = JSON.parse(evt.data);\n",
       "        var msg_type = msg['type'];\n",
       "\n",
       "        // Call the  \"handle_{type}\" callback, which takes\n",
       "        // the figure and JSON message as its only arguments.\n",
       "        try {\n",
       "            var callback = fig[\"handle_\" + msg_type];\n",
       "        } catch (e) {\n",
       "            console.log(\"No handler for the '\" + msg_type + \"' message type: \", msg);\n",
       "            return;\n",
       "        }\n",
       "\n",
       "        if (callback) {\n",
       "            try {\n",
       "                // console.log(\"Handling '\" + msg_type + \"' message: \", msg);\n",
       "                callback(fig, msg);\n",
       "            } catch (e) {\n",
       "                console.log(\"Exception inside the 'handler_\" + msg_type + \"' callback:\", e, e.stack, msg);\n",
       "            }\n",
       "        }\n",
       "    };\n",
       "}\n",
       "\n",
       "// from http://stackoverflow.com/questions/1114465/getting-mouse-location-in-canvas\n",
       "mpl.findpos = function(e) {\n",
       "    //this section is from http://www.quirksmode.org/js/events_properties.html\n",
       "    var targ;\n",
       "    if (!e)\n",
       "        e = window.event;\n",
       "    if (e.target)\n",
       "        targ = e.target;\n",
       "    else if (e.srcElement)\n",
       "        targ = e.srcElement;\n",
       "    if (targ.nodeType == 3) // defeat Safari bug\n",
       "        targ = targ.parentNode;\n",
       "\n",
       "    // jQuery normalizes the pageX and pageY\n",
       "    // pageX,Y are the mouse positions relative to the document\n",
       "    // offset() returns the position of the element relative to the document\n",
       "    var x = e.pageX - $(targ).offset().left;\n",
       "    var y = e.pageY - $(targ).offset().top;\n",
       "\n",
       "    return {\"x\": x, \"y\": y};\n",
       "};\n",
       "\n",
       "/*\n",
       " * return a copy of an object with only non-object keys\n",
       " * we need this to avoid circular references\n",
       " * http://stackoverflow.com/a/24161582/3208463\n",
       " */\n",
       "function simpleKeys (original) {\n",
       "  return Object.keys(original).reduce(function (obj, key) {\n",
       "    if (typeof original[key] !== 'object')\n",
       "        obj[key] = original[key]\n",
       "    return obj;\n",
       "  }, {});\n",
       "}\n",
       "\n",
       "mpl.figure.prototype.mouse_event = function(event, name) {\n",
       "    var canvas_pos = mpl.findpos(event)\n",
       "\n",
       "    if (name === 'button_press')\n",
       "    {\n",
       "        this.canvas.focus();\n",
       "        this.canvas_div.focus();\n",
       "    }\n",
       "\n",
       "    var x = canvas_pos.x * mpl.ratio;\n",
       "    var y = canvas_pos.y * mpl.ratio;\n",
       "\n",
       "    this.send_message(name, {x: x, y: y, button: event.button,\n",
       "                             step: event.step,\n",
       "                             guiEvent: simpleKeys(event)});\n",
       "\n",
       "    /* This prevents the web browser from automatically changing to\n",
       "     * the text insertion cursor when the button is pressed.  We want\n",
       "     * to control all of the cursor setting manually through the\n",
       "     * 'cursor' event from matplotlib */\n",
       "    event.preventDefault();\n",
       "    return false;\n",
       "}\n",
       "\n",
       "mpl.figure.prototype._key_event_extra = function(event, name) {\n",
       "    // Handle any extra behaviour associated with a key event\n",
       "}\n",
       "\n",
       "mpl.figure.prototype.key_event = function(event, name) {\n",
       "\n",
       "    // Prevent repeat events\n",
       "    if (name == 'key_press')\n",
       "    {\n",
       "        if (event.which === this._key)\n",
       "            return;\n",
       "        else\n",
       "            this._key = event.which;\n",
       "    }\n",
       "    if (name == 'key_release')\n",
       "        this._key = null;\n",
       "\n",
       "    var value = '';\n",
       "    if (event.ctrlKey && event.which != 17)\n",
       "        value += \"ctrl+\";\n",
       "    if (event.altKey && event.which != 18)\n",
       "        value += \"alt+\";\n",
       "    if (event.shiftKey && event.which != 16)\n",
       "        value += \"shift+\";\n",
       "\n",
       "    value += 'k';\n",
       "    value += event.which.toString();\n",
       "\n",
       "    this._key_event_extra(event, name);\n",
       "\n",
       "    this.send_message(name, {key: value,\n",
       "                             guiEvent: simpleKeys(event)});\n",
       "    return false;\n",
       "}\n",
       "\n",
       "mpl.figure.prototype.toolbar_button_onclick = function(name) {\n",
       "    if (name == 'download') {\n",
       "        this.handle_save(this, null);\n",
       "    } else {\n",
       "        this.send_message(\"toolbar_button\", {name: name});\n",
       "    }\n",
       "};\n",
       "\n",
       "mpl.figure.prototype.toolbar_button_onmouseover = function(tooltip) {\n",
       "    this.message.textContent = tooltip;\n",
       "};\n",
       "mpl.toolbar_items = [[\"Home\", \"Reset original view\", \"fa fa-home icon-home\", \"home\"], [\"Back\", \"Back to previous view\", \"fa fa-arrow-left icon-arrow-left\", \"back\"], [\"Forward\", \"Forward to next view\", \"fa fa-arrow-right icon-arrow-right\", \"forward\"], [\"\", \"\", \"\", \"\"], [\"Pan\", \"Pan axes with left mouse, zoom with right\", \"fa fa-arrows icon-move\", \"pan\"], [\"Zoom\", \"Zoom to rectangle\", \"fa fa-square-o icon-check-empty\", \"zoom\"], [\"\", \"\", \"\", \"\"], [\"Download\", \"Download plot\", \"fa fa-floppy-o icon-save\", \"download\"]];\n",
       "\n",
       "mpl.extensions = [\"eps\", \"jpeg\", \"pdf\", \"png\", \"ps\", \"raw\", \"svg\", \"tif\"];\n",
       "\n",
       "mpl.default_extension = \"png\";var comm_websocket_adapter = function(comm) {\n",
       "    // Create a \"websocket\"-like object which calls the given IPython comm\n",
       "    // object with the appropriate methods. Currently this is a non binary\n",
       "    // socket, so there is still some room for performance tuning.\n",
       "    var ws = {};\n",
       "\n",
       "    ws.close = function() {\n",
       "        comm.close()\n",
       "    };\n",
       "    ws.send = function(m) {\n",
       "        //console.log('sending', m);\n",
       "        comm.send(m);\n",
       "    };\n",
       "    // Register the callback with on_msg.\n",
       "    comm.on_msg(function(msg) {\n",
       "        //console.log('receiving', msg['content']['data'], msg);\n",
       "        // Pass the mpl event to the overridden (by mpl) onmessage function.\n",
       "        ws.onmessage(msg['content']['data'])\n",
       "    });\n",
       "    return ws;\n",
       "}\n",
       "\n",
       "mpl.mpl_figure_comm = function(comm, msg) {\n",
       "    // This is the function which gets called when the mpl process\n",
       "    // starts-up an IPython Comm through the \"matplotlib\" channel.\n",
       "\n",
       "    var id = msg.content.data.id;\n",
       "    // Get hold of the div created by the display call when the Comm\n",
       "    // socket was opened in Python.\n",
       "    var element = $(\"#\" + id);\n",
       "    var ws_proxy = comm_websocket_adapter(comm)\n",
       "\n",
       "    function ondownload(figure, format) {\n",
       "        window.open(figure.imageObj.src);\n",
       "    }\n",
       "\n",
       "    var fig = new mpl.figure(id, ws_proxy,\n",
       "                           ondownload,\n",
       "                           element.get(0));\n",
       "\n",
       "    // Call onopen now - mpl needs it, as it is assuming we've passed it a real\n",
       "    // web socket which is closed, not our websocket->open comm proxy.\n",
       "    ws_proxy.onopen();\n",
       "\n",
       "    fig.parent_element = element.get(0);\n",
       "    fig.cell_info = mpl.find_output_cell(\"<div id='\" + id + \"'></div>\");\n",
       "    if (!fig.cell_info) {\n",
       "        console.error(\"Failed to find cell for figure\", id, fig);\n",
       "        return;\n",
       "    }\n",
       "\n",
       "    var output_index = fig.cell_info[2]\n",
       "    var cell = fig.cell_info[0];\n",
       "\n",
       "};\n",
       "\n",
       "mpl.figure.prototype.handle_close = function(fig, msg) {\n",
       "    var width = fig.canvas.width/mpl.ratio\n",
       "    fig.root.unbind('remove')\n",
       "\n",
       "    // Update the output cell to use the data from the current canvas.\n",
       "    fig.push_to_output();\n",
       "    var dataURL = fig.canvas.toDataURL();\n",
       "    // Re-enable the keyboard manager in IPython - without this line, in FF,\n",
       "    // the notebook keyboard shortcuts fail.\n",
       "    IPython.keyboard_manager.enable()\n",
       "    $(fig.parent_element).html('<img src=\"' + dataURL + '\" width=\"' + width + '\">');\n",
       "    fig.close_ws(fig, msg);\n",
       "}\n",
       "\n",
       "mpl.figure.prototype.close_ws = function(fig, msg){\n",
       "    fig.send_message('closing', msg);\n",
       "    // fig.ws.close()\n",
       "}\n",
       "\n",
       "mpl.figure.prototype.push_to_output = function(remove_interactive) {\n",
       "    // Turn the data on the canvas into data in the output cell.\n",
       "    var width = this.canvas.width/mpl.ratio\n",
       "    var dataURL = this.canvas.toDataURL();\n",
       "    this.cell_info[1]['text/html'] = '<img src=\"' + dataURL + '\" width=\"' + width + '\">';\n",
       "}\n",
       "\n",
       "mpl.figure.prototype.updated_canvas_event = function() {\n",
       "    // Tell IPython that the notebook contents must change.\n",
       "    IPython.notebook.set_dirty(true);\n",
       "    this.send_message(\"ack\", {});\n",
       "    var fig = this;\n",
       "    // Wait a second, then push the new image to the DOM so\n",
       "    // that it is saved nicely (might be nice to debounce this).\n",
       "    setTimeout(function () { fig.push_to_output() }, 1000);\n",
       "}\n",
       "\n",
       "mpl.figure.prototype._init_toolbar = function() {\n",
       "    var fig = this;\n",
       "\n",
       "    var nav_element = $('<div/>');\n",
       "    nav_element.attr('style', 'width: 100%');\n",
       "    this.root.append(nav_element);\n",
       "\n",
       "    // Define a callback function for later on.\n",
       "    function toolbar_event(event) {\n",
       "        return fig.toolbar_button_onclick(event['data']);\n",
       "    }\n",
       "    function toolbar_mouse_event(event) {\n",
       "        return fig.toolbar_button_onmouseover(event['data']);\n",
       "    }\n",
       "\n",
       "    for(var toolbar_ind in mpl.toolbar_items){\n",
       "        var name = mpl.toolbar_items[toolbar_ind][0];\n",
       "        var tooltip = mpl.toolbar_items[toolbar_ind][1];\n",
       "        var image = mpl.toolbar_items[toolbar_ind][2];\n",
       "        var method_name = mpl.toolbar_items[toolbar_ind][3];\n",
       "\n",
       "        if (!name) { continue; };\n",
       "\n",
       "        var button = $('<button class=\"btn btn-default\" href=\"#\" title=\"' + name + '\"><i class=\"fa ' + image + ' fa-lg\"></i></button>');\n",
       "        button.click(method_name, toolbar_event);\n",
       "        button.mouseover(tooltip, toolbar_mouse_event);\n",
       "        nav_element.append(button);\n",
       "    }\n",
       "\n",
       "    // Add the status bar.\n",
       "    var status_bar = $('<span class=\"mpl-message\" style=\"text-align:right; float: right;\"/>');\n",
       "    nav_element.append(status_bar);\n",
       "    this.message = status_bar[0];\n",
       "\n",
       "    // Add the close button to the window.\n",
       "    var buttongrp = $('<div class=\"btn-group inline pull-right\"></div>');\n",
       "    var button = $('<button class=\"btn btn-mini btn-primary\" href=\"#\" title=\"Stop Interaction\"><i class=\"fa fa-power-off icon-remove icon-large\"></i></button>');\n",
       "    button.click(function (evt) { fig.handle_close(fig, {}); } );\n",
       "    button.mouseover('Stop Interaction', toolbar_mouse_event);\n",
       "    buttongrp.append(button);\n",
       "    var titlebar = this.root.find($('.ui-dialog-titlebar'));\n",
       "    titlebar.prepend(buttongrp);\n",
       "}\n",
       "\n",
       "mpl.figure.prototype._root_extra_style = function(el){\n",
       "    var fig = this\n",
       "    el.on(\"remove\", function(){\n",
       "\tfig.close_ws(fig, {});\n",
       "    });\n",
       "}\n",
       "\n",
       "mpl.figure.prototype._canvas_extra_style = function(el){\n",
       "    // this is important to make the div 'focusable\n",
       "    el.attr('tabindex', 0)\n",
       "    // reach out to IPython and tell the keyboard manager to turn it's self\n",
       "    // off when our div gets focus\n",
       "\n",
       "    // location in version 3\n",
       "    if (IPython.notebook.keyboard_manager) {\n",
       "        IPython.notebook.keyboard_manager.register_events(el);\n",
       "    }\n",
       "    else {\n",
       "        // location in version 2\n",
       "        IPython.keyboard_manager.register_events(el);\n",
       "    }\n",
       "\n",
       "}\n",
       "\n",
       "mpl.figure.prototype._key_event_extra = function(event, name) {\n",
       "    var manager = IPython.notebook.keyboard_manager;\n",
       "    if (!manager)\n",
       "        manager = IPython.keyboard_manager;\n",
       "\n",
       "    // Check for shift+enter\n",
       "    if (event.shiftKey && event.which == 13) {\n",
       "        this.canvas_div.blur();\n",
       "        event.shiftKey = false;\n",
       "        // Send a \"J\" for go to next cell\n",
       "        event.which = 74;\n",
       "        event.keyCode = 74;\n",
       "        manager.command_mode();\n",
       "        manager.handle_keydown(event);\n",
       "    }\n",
       "}\n",
       "\n",
       "mpl.figure.prototype.handle_save = function(fig, msg) {\n",
       "    fig.ondownload(fig, null);\n",
       "}\n",
       "\n",
       "\n",
       "mpl.find_output_cell = function(html_output) {\n",
       "    // Return the cell and output element which can be found *uniquely* in the notebook.\n",
       "    // Note - this is a bit hacky, but it is done because the \"notebook_saving.Notebook\"\n",
       "    // IPython event is triggered only after the cells have been serialised, which for\n",
       "    // our purposes (turning an active figure into a static one), is too late.\n",
       "    var cells = IPython.notebook.get_cells();\n",
       "    var ncells = cells.length;\n",
       "    for (var i=0; i<ncells; i++) {\n",
       "        var cell = cells[i];\n",
       "        if (cell.cell_type === 'code'){\n",
       "            for (var j=0; j<cell.output_area.outputs.length; j++) {\n",
       "                var data = cell.output_area.outputs[j];\n",
       "                if (data.data) {\n",
       "                    // IPython >= 3 moved mimebundle to data attribute of output\n",
       "                    data = data.data;\n",
       "                }\n",
       "                if (data['text/html'] == html_output) {\n",
       "                    return [cell, data, j];\n",
       "                }\n",
       "            }\n",
       "        }\n",
       "    }\n",
       "}\n",
       "\n",
       "// Register the function which deals with the matplotlib target/channel.\n",
       "// The kernel may be null if the page has been refreshed.\n",
       "if (IPython.notebook.kernel != null) {\n",
       "    IPython.notebook.kernel.comm_manager.register_target('matplotlib', mpl.mpl_figure_comm);\n",
       "}\n"
      ],
      "text/plain": [
       "<IPython.core.display.Javascript object>"
      ]
     },
     "metadata": {},
     "output_type": "display_data"
    },
    {
     "data": {
      "text/html": [
       "<img src=\"data:image/png;base64,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\" width=\"640\">"
      ],
      "text/plain": [
       "<IPython.core.display.HTML object>"
      ]
     },
     "metadata": {},
     "output_type": "display_data"
    },
    {
     "data": {
      "text/plain": [
       "<matplotlib.legend.Legend at 0x19da2b89a48>"
      ]
     },
     "execution_count": 22,
     "metadata": {},
     "output_type": "execute_result"
    }
   ],
   "source": [
    "plt.figure()\n",
    "y = range(25, 27)\n",
    "z1 = [1307.0800000000004, 1299.96]\n",
    "a1 = [1307.0800000000004, 1299.96+20]\n",
    "plt.plot(y,z1, label = \"EEL\")\n",
    "plt.plot(y,a1,label = \"Total EL\")\n",
    "#plt.plot(y,np.linspace(0,100,num = 2), label = \"Bin costs\")\n",
    "ax = plt.gca()\n",
    "ax.set_xlabel('Bins')\n",
    "plt.grid()\n",
    "plt.title='model 1'\n",
    "plt.legend()"
   ]
  },
  {
   "cell_type": "markdown",
   "metadata": {},
   "source": [
    "#### Model 2"
   ]
  },
  {
   "cell_type": "code",
   "execution_count": null,
   "metadata": {},
   "outputs": [],
   "source": []
  },
  {
   "cell_type": "code",
   "execution_count": 171,
   "metadata": {},
   "outputs": [
    {
     "data": {
      "text/plain": [
       "1313.2600000000002"
      ]
     },
     "execution_count": 171,
     "metadata": {},
     "output_type": "execute_result"
    }
   ],
   "source": [
    "eel_pat(100,PR_2(100,25,item_1))"
   ]
  },
  {
   "cell_type": "code",
   "execution_count": 172,
   "metadata": {},
   "outputs": [
    {
     "data": {
      "text/plain": [
       "1273.7200000000003"
      ]
     },
     "execution_count": 172,
     "metadata": {},
     "output_type": "execute_result"
    }
   ],
   "source": [
    "eel_pat(100,PR_2(100,26,item_1))"
   ]
  },
  {
   "cell_type": "code",
   "execution_count": 176,
   "metadata": {},
   "outputs": [
    {
     "data": {
      "text/plain": [
       "1277.02"
      ]
     },
     "execution_count": 176,
     "metadata": {},
     "output_type": "execute_result"
    }
   ],
   "source": [
    "eel_pat(100,PR_2(100,27,item_1))"
   ]
  },
  {
   "cell_type": "code",
   "execution_count": 9,
   "metadata": {},
   "outputs": [
    {
     "data": {
      "text/plain": [
       "[1525.68, 1555.5600000000002, 1532.2600000000002]"
      ]
     },
     "execution_count": 9,
     "metadata": {},
     "output_type": "execute_result"
    }
   ],
   "source": [
    "[eel_pat(100,PR_1(100,m,item_6)) for m in range(28,31)]"
   ]
  },
  {
   "cell_type": "markdown",
   "metadata": {},
   "source": [
    "### Group 1, Instance 2"
   ]
  },
  {
   "cell_type": "markdown",
   "metadata": {},
   "source": [
    "#### Model 1"
   ]
  },
  {
   "cell_type": "code",
   "execution_count": null,
   "metadata": {},
   "outputs": [],
   "source": [
    "i = 0\n",
    "c1 = []\n",
    "while i<10:\n",
    "    c1.append(eel_pat(100, pattern_set_2))\n",
    "c1"
   ]
  },
  {
   "cell_type": "code",
   "execution_count": 46,
   "metadata": {
    "scrolled": true
   },
   "outputs": [
    {
     "data": {
      "text/plain": [
       "1359.1000000000001"
      ]
     },
     "execution_count": 46,
     "metadata": {},
     "output_type": "execute_result"
    }
   ],
   "source": [
    "eel_pat(100,pattern_set_2)"
   ]
  },
  {
   "cell_type": "code",
   "execution_count": 71,
   "metadata": {},
   "outputs": [
    {
     "data": {
      "text/plain": [
       "1359.1000000000001"
      ]
     },
     "execution_count": 71,
     "metadata": {},
     "output_type": "execute_result"
    }
   ],
   "source": [
    "eel_pat(100,pattern_set_2)"
   ]
  },
  {
   "cell_type": "code",
   "execution_count": 29,
   "metadata": {},
   "outputs": [],
   "source": []
  },
  {
   "cell_type": "code",
   "execution_count": 25,
   "metadata": {},
   "outputs": [],
   "source": [
    "import statistics"
   ]
  },
  {
   "cell_type": "code",
   "execution_count": 26,
   "metadata": {},
   "outputs": [
    {
     "data": {
      "text/plain": [
       "[[883.24,\n",
       "  696.42,\n",
       "  674.8,\n",
       "  732.1600000000001,\n",
       "  688.34,\n",
       "  426.20000000000005,\n",
       "  856.54,\n",
       "  938.38,\n",
       "  573.4399999999999,\n",
       "  757.1399999999999],\n",
       " 426.20000000000005,\n",
       " 938.38,\n",
       " 722.6659999999999,\n",
       " 22870.68320444444]"
      ]
     },
     "execution_count": 26,
     "metadata": {},
     "output_type": "execute_result"
    }
   ],
   "source": [
    "p_eel(100,PR_1(100,25,item_2))"
   ]
  },
  {
   "cell_type": "code",
   "execution_count": 43,
   "metadata": {},
   "outputs": [
    {
     "data": {
      "text/plain": [
       "[[698.56,\n",
       "  670.6199999999998,\n",
       "  759.18,\n",
       "  710.98,\n",
       "  525.5400000000001,\n",
       "  643.4799999999999,\n",
       "  455.88000000000005,\n",
       "  774.9799999999998,\n",
       "  634.3999999999999,\n",
       "  615.94],\n",
       " 455.88000000000005,\n",
       " 774.9799999999998,\n",
       " 648.9559999999999,\n",
       " 9850.001315555543]"
      ]
     },
     "execution_count": 43,
     "metadata": {},
     "output_type": "execute_result"
    }
   ],
   "source": [
    "p_eel(100,PR_2(100,25,item_2))"
   ]
  },
  {
   "cell_type": "code",
   "execution_count": null,
   "metadata": {},
   "outputs": [],
   "source": [
    "#p_eel(eel_pat(100,PR_1(100,25,item_2)))"
   ]
  },
  {
   "cell_type": "code",
   "execution_count": 44,
   "metadata": {},
   "outputs": [],
   "source": [
    "pattern_set_2"
   ]
  },
  {
   "cell_type": "code",
   "execution_count": 46,
   "metadata": {},
   "outputs": [
    {
     "data": {
      "text/plain": [
       "(21.419999999999995, 1345.7999999999997)"
      ]
     },
     "execution_count": 46,
     "metadata": {},
     "output_type": "execute_result"
    }
   ],
   "source": [
    "lo_pat(L,PR_1(L,25,item_2)), pl_pat(L,PR_1(L,25,item_2))"
   ]
  },
  {
   "cell_type": "code",
   "execution_count": 180,
   "metadata": {},
   "outputs": [
    {
     "data": {
      "text/plain": [
       "1367.22"
      ]
     },
     "execution_count": 180,
     "metadata": {},
     "output_type": "execute_result"
    }
   ],
   "source": [
    "\n",
    "eel_pat(100,PR_1(100,25,item_2))"
   ]
  },
  {
   "cell_type": "code",
   "execution_count": 72,
   "metadata": {},
   "outputs": [
    {
     "data": {
      "text/plain": [
       "1367.22"
      ]
     },
     "execution_count": 72,
     "metadata": {},
     "output_type": "execute_result"
    }
   ],
   "source": [
    "eel_pat(100,PR_1(100,25,item_2))"
   ]
  },
  {
   "cell_type": "code",
   "execution_count": 47,
   "metadata": {},
   "outputs": [
    {
     "data": {
      "text/plain": [
       "(65.85999999999999, 1273.8)"
      ]
     },
     "execution_count": 47,
     "metadata": {},
     "output_type": "execute_result"
    }
   ],
   "source": [
    "lo_pat(L,PR_1(L,26,item_2)), pl_pat(L,PR_1(L,26,item_2))"
   ]
  },
  {
   "cell_type": "code",
   "execution_count": 48,
   "metadata": {},
   "outputs": [
    {
     "data": {
      "text/plain": [
       "(162.66000000000003, 1264.1399999999996)"
      ]
     },
     "execution_count": 48,
     "metadata": {},
     "output_type": "execute_result"
    }
   ],
   "source": [
    "lo_pat(L,PR_1(L,27,item_2)), pl_pat(L,PR_1(L,27,item_2))"
   ]
  },
  {
   "cell_type": "code",
   "execution_count": 49,
   "metadata": {},
   "outputs": [
    {
     "data": {
      "text/plain": [
       "(161.02, 1261.7600000000002)"
      ]
     },
     "execution_count": 49,
     "metadata": {},
     "output_type": "execute_result"
    }
   ],
   "source": [
    "lo_pat(L,PR_1(L,28,item_2)), pl_pat(L,PR_1(L,28,item_2))"
   ]
  },
  {
   "cell_type": "code",
   "execution_count": 27,
   "metadata": {},
   "outputs": [
    {
     "data": {
      "text/plain": [
       "[[615.92,\n",
       "  647.5600000000001,\n",
       "  557.0,\n",
       "  887.5200000000002,\n",
       "  788.2200000000001,\n",
       "  635.6599999999999,\n",
       "  662.3400000000001,\n",
       "  447.79999999999995,\n",
       "  505.58,\n",
       "  591.06],\n",
       " 447.79999999999995,\n",
       " 887.5200000000002,\n",
       " 633.866,\n",
       " 16478.63004888891]"
      ]
     },
     "execution_count": 27,
     "metadata": {},
     "output_type": "execute_result"
    }
   ],
   "source": [
    "p_eel(100,PR_1(100,26,item_2))"
   ]
  },
  {
   "cell_type": "code",
   "execution_count": 44,
   "metadata": {},
   "outputs": [
    {
     "data": {
      "text/plain": [
       "[[639.28,\n",
       "  876.52,\n",
       "  714.9799999999998,\n",
       "  648.1199999999999,\n",
       "  724.8999999999999,\n",
       "  765.04,\n",
       "  540.84,\n",
       "  653.42,\n",
       "  514.0799999999999,\n",
       "  558.42],\n",
       " 514.0799999999999,\n",
       " 876.52,\n",
       " 663.56,\n",
       " 12382.931555555553]"
      ]
     },
     "execution_count": 44,
     "metadata": {},
     "output_type": "execute_result"
    }
   ],
   "source": [
    "p_eel(100,PR_2(100,26,item_2))"
   ]
  },
  {
   "cell_type": "code",
   "execution_count": 181,
   "metadata": {},
   "outputs": [
    {
     "data": {
      "text/plain": [
       "1339.6599999999999"
      ]
     },
     "execution_count": 181,
     "metadata": {},
     "output_type": "execute_result"
    }
   ],
   "source": [
    "eel_pat(100,PR_1(100,26,item_2))"
   ]
  },
  {
   "cell_type": "code",
   "execution_count": null,
   "metadata": {},
   "outputs": [],
   "source": [
    "p_eel(eel_pat(100,PR_1(100,26,item_2)))"
   ]
  },
  {
   "cell_type": "code",
   "execution_count": null,
   "metadata": {},
   "outputs": [],
   "source": []
  },
  {
   "cell_type": "code",
   "execution_count": 182,
   "metadata": {},
   "outputs": [
    {
     "data": {
      "text/plain": [
       "1426.7999999999997"
      ]
     },
     "execution_count": 182,
     "metadata": {},
     "output_type": "execute_result"
    }
   ],
   "source": [
    "eel_pat(100,PR_1(100,27,item_2))"
   ]
  },
  {
   "cell_type": "code",
   "execution_count": 11,
   "metadata": {},
   "outputs": [
    {
     "data": {
      "text/plain": [
       "27"
      ]
     },
     "execution_count": 11,
     "metadata": {},
     "output_type": "execute_result"
    }
   ],
   "source": [
    "len(PR_1(100,27,item_2))"
   ]
  },
  {
   "cell_type": "code",
   "execution_count": 12,
   "metadata": {},
   "outputs": [
    {
     "data": {
      "text/plain": [
       "27"
      ]
     },
     "execution_count": 12,
     "metadata": {},
     "output_type": "execute_result"
    }
   ],
   "source": [
    "len(PR_1(100, 28, item_2))"
   ]
  },
  {
   "cell_type": "code",
   "execution_count": 21,
   "metadata": {},
   "outputs": [
    {
     "data": {
      "application/javascript": [
       "/* Put everything inside the global mpl namespace */\n",
       "window.mpl = {};\n",
       "\n",
       "\n",
       "mpl.get_websocket_type = function() {\n",
       "    if (typeof(WebSocket) !== 'undefined') {\n",
       "        return WebSocket;\n",
       "    } else if (typeof(MozWebSocket) !== 'undefined') {\n",
       "        return MozWebSocket;\n",
       "    } else {\n",
       "        alert('Your browser does not have WebSocket support. ' +\n",
       "              'Please try Chrome, Safari or Firefox ≥ 6. ' +\n",
       "              'Firefox 4 and 5 are also supported but you ' +\n",
       "              'have to enable WebSockets in about:config.');\n",
       "    };\n",
       "}\n",
       "\n",
       "mpl.figure = function(figure_id, websocket, ondownload, parent_element) {\n",
       "    this.id = figure_id;\n",
       "\n",
       "    this.ws = websocket;\n",
       "\n",
       "    this.supports_binary = (this.ws.binaryType != undefined);\n",
       "\n",
       "    if (!this.supports_binary) {\n",
       "        var warnings = document.getElementById(\"mpl-warnings\");\n",
       "        if (warnings) {\n",
       "            warnings.style.display = 'block';\n",
       "            warnings.textContent = (\n",
       "                \"This browser does not support binary websocket messages. \" +\n",
       "                    \"Performance may be slow.\");\n",
       "        }\n",
       "    }\n",
       "\n",
       "    this.imageObj = new Image();\n",
       "\n",
       "    this.context = undefined;\n",
       "    this.message = undefined;\n",
       "    this.canvas = undefined;\n",
       "    this.rubberband_canvas = undefined;\n",
       "    this.rubberband_context = undefined;\n",
       "    this.format_dropdown = undefined;\n",
       "\n",
       "    this.image_mode = 'full';\n",
       "\n",
       "    this.root = $('<div/>');\n",
       "    this._root_extra_style(this.root)\n",
       "    this.root.attr('style', 'display: inline-block');\n",
       "\n",
       "    $(parent_element).append(this.root);\n",
       "\n",
       "    this._init_header(this);\n",
       "    this._init_canvas(this);\n",
       "    this._init_toolbar(this);\n",
       "\n",
       "    var fig = this;\n",
       "\n",
       "    this.waiting = false;\n",
       "\n",
       "    this.ws.onopen =  function () {\n",
       "            fig.send_message(\"supports_binary\", {value: fig.supports_binary});\n",
       "            fig.send_message(\"send_image_mode\", {});\n",
       "            if (mpl.ratio != 1) {\n",
       "                fig.send_message(\"set_dpi_ratio\", {'dpi_ratio': mpl.ratio});\n",
       "            }\n",
       "            fig.send_message(\"refresh\", {});\n",
       "        }\n",
       "\n",
       "    this.imageObj.onload = function() {\n",
       "            if (fig.image_mode == 'full') {\n",
       "                // Full images could contain transparency (where diff images\n",
       "                // almost always do), so we need to clear the canvas so that\n",
       "                // there is no ghosting.\n",
       "                fig.context.clearRect(0, 0, fig.canvas.width, fig.canvas.height);\n",
       "            }\n",
       "            fig.context.drawImage(fig.imageObj, 0, 0);\n",
       "        };\n",
       "\n",
       "    this.imageObj.onunload = function() {\n",
       "        fig.ws.close();\n",
       "    }\n",
       "\n",
       "    this.ws.onmessage = this._make_on_message_function(this);\n",
       "\n",
       "    this.ondownload = ondownload;\n",
       "}\n",
       "\n",
       "mpl.figure.prototype._init_header = function() {\n",
       "    var titlebar = $(\n",
       "        '<div class=\"ui-dialog-titlebar ui-widget-header ui-corner-all ' +\n",
       "        'ui-helper-clearfix\"/>');\n",
       "    var titletext = $(\n",
       "        '<div class=\"ui-dialog-title\" style=\"width: 100%; ' +\n",
       "        'text-align: center; padding: 3px;\"/>');\n",
       "    titlebar.append(titletext)\n",
       "    this.root.append(titlebar);\n",
       "    this.header = titletext[0];\n",
       "}\n",
       "\n",
       "\n",
       "\n",
       "mpl.figure.prototype._canvas_extra_style = function(canvas_div) {\n",
       "\n",
       "}\n",
       "\n",
       "\n",
       "mpl.figure.prototype._root_extra_style = function(canvas_div) {\n",
       "\n",
       "}\n",
       "\n",
       "mpl.figure.prototype._init_canvas = function() {\n",
       "    var fig = this;\n",
       "\n",
       "    var canvas_div = $('<div/>');\n",
       "\n",
       "    canvas_div.attr('style', 'position: relative; clear: both; outline: 0');\n",
       "\n",
       "    function canvas_keyboard_event(event) {\n",
       "        return fig.key_event(event, event['data']);\n",
       "    }\n",
       "\n",
       "    canvas_div.keydown('key_press', canvas_keyboard_event);\n",
       "    canvas_div.keyup('key_release', canvas_keyboard_event);\n",
       "    this.canvas_div = canvas_div\n",
       "    this._canvas_extra_style(canvas_div)\n",
       "    this.root.append(canvas_div);\n",
       "\n",
       "    var canvas = $('<canvas/>');\n",
       "    canvas.addClass('mpl-canvas');\n",
       "    canvas.attr('style', \"left: 0; top: 0; z-index: 0; outline: 0\")\n",
       "\n",
       "    this.canvas = canvas[0];\n",
       "    this.context = canvas[0].getContext(\"2d\");\n",
       "\n",
       "    var backingStore = this.context.backingStorePixelRatio ||\n",
       "\tthis.context.webkitBackingStorePixelRatio ||\n",
       "\tthis.context.mozBackingStorePixelRatio ||\n",
       "\tthis.context.msBackingStorePixelRatio ||\n",
       "\tthis.context.oBackingStorePixelRatio ||\n",
       "\tthis.context.backingStorePixelRatio || 1;\n",
       "\n",
       "    mpl.ratio = (window.devicePixelRatio || 1) / backingStore;\n",
       "\n",
       "    var rubberband = $('<canvas/>');\n",
       "    rubberband.attr('style', \"position: absolute; left: 0; top: 0; z-index: 1;\")\n",
       "\n",
       "    var pass_mouse_events = true;\n",
       "\n",
       "    canvas_div.resizable({\n",
       "        start: function(event, ui) {\n",
       "            pass_mouse_events = false;\n",
       "        },\n",
       "        resize: function(event, ui) {\n",
       "            fig.request_resize(ui.size.width, ui.size.height);\n",
       "        },\n",
       "        stop: function(event, ui) {\n",
       "            pass_mouse_events = true;\n",
       "            fig.request_resize(ui.size.width, ui.size.height);\n",
       "        },\n",
       "    });\n",
       "\n",
       "    function mouse_event_fn(event) {\n",
       "        if (pass_mouse_events)\n",
       "            return fig.mouse_event(event, event['data']);\n",
       "    }\n",
       "\n",
       "    rubberband.mousedown('button_press', mouse_event_fn);\n",
       "    rubberband.mouseup('button_release', mouse_event_fn);\n",
       "    // Throttle sequential mouse events to 1 every 20ms.\n",
       "    rubberband.mousemove('motion_notify', mouse_event_fn);\n",
       "\n",
       "    rubberband.mouseenter('figure_enter', mouse_event_fn);\n",
       "    rubberband.mouseleave('figure_leave', mouse_event_fn);\n",
       "\n",
       "    canvas_div.on(\"wheel\", function (event) {\n",
       "        event = event.originalEvent;\n",
       "        event['data'] = 'scroll'\n",
       "        if (event.deltaY < 0) {\n",
       "            event.step = 1;\n",
       "        } else {\n",
       "            event.step = -1;\n",
       "        }\n",
       "        mouse_event_fn(event);\n",
       "    });\n",
       "\n",
       "    canvas_div.append(canvas);\n",
       "    canvas_div.append(rubberband);\n",
       "\n",
       "    this.rubberband = rubberband;\n",
       "    this.rubberband_canvas = rubberband[0];\n",
       "    this.rubberband_context = rubberband[0].getContext(\"2d\");\n",
       "    this.rubberband_context.strokeStyle = \"#000000\";\n",
       "\n",
       "    this._resize_canvas = function(width, height) {\n",
       "        // Keep the size of the canvas, canvas container, and rubber band\n",
       "        // canvas in synch.\n",
       "        canvas_div.css('width', width)\n",
       "        canvas_div.css('height', height)\n",
       "\n",
       "        canvas.attr('width', width * mpl.ratio);\n",
       "        canvas.attr('height', height * mpl.ratio);\n",
       "        canvas.attr('style', 'width: ' + width + 'px; height: ' + height + 'px;');\n",
       "\n",
       "        rubberband.attr('width', width);\n",
       "        rubberband.attr('height', height);\n",
       "    }\n",
       "\n",
       "    // Set the figure to an initial 600x600px, this will subsequently be updated\n",
       "    // upon first draw.\n",
       "    this._resize_canvas(600, 600);\n",
       "\n",
       "    // Disable right mouse context menu.\n",
       "    $(this.rubberband_canvas).bind(\"contextmenu\",function(e){\n",
       "        return false;\n",
       "    });\n",
       "\n",
       "    function set_focus () {\n",
       "        canvas.focus();\n",
       "        canvas_div.focus();\n",
       "    }\n",
       "\n",
       "    window.setTimeout(set_focus, 100);\n",
       "}\n",
       "\n",
       "mpl.figure.prototype._init_toolbar = function() {\n",
       "    var fig = this;\n",
       "\n",
       "    var nav_element = $('<div/>');\n",
       "    nav_element.attr('style', 'width: 100%');\n",
       "    this.root.append(nav_element);\n",
       "\n",
       "    // Define a callback function for later on.\n",
       "    function toolbar_event(event) {\n",
       "        return fig.toolbar_button_onclick(event['data']);\n",
       "    }\n",
       "    function toolbar_mouse_event(event) {\n",
       "        return fig.toolbar_button_onmouseover(event['data']);\n",
       "    }\n",
       "\n",
       "    for(var toolbar_ind in mpl.toolbar_items) {\n",
       "        var name = mpl.toolbar_items[toolbar_ind][0];\n",
       "        var tooltip = mpl.toolbar_items[toolbar_ind][1];\n",
       "        var image = mpl.toolbar_items[toolbar_ind][2];\n",
       "        var method_name = mpl.toolbar_items[toolbar_ind][3];\n",
       "\n",
       "        if (!name) {\n",
       "            // put a spacer in here.\n",
       "            continue;\n",
       "        }\n",
       "        var button = $('<button/>');\n",
       "        button.addClass('ui-button ui-widget ui-state-default ui-corner-all ' +\n",
       "                        'ui-button-icon-only');\n",
       "        button.attr('role', 'button');\n",
       "        button.attr('aria-disabled', 'false');\n",
       "        button.click(method_name, toolbar_event);\n",
       "        button.mouseover(tooltip, toolbar_mouse_event);\n",
       "\n",
       "        var icon_img = $('<span/>');\n",
       "        icon_img.addClass('ui-button-icon-primary ui-icon');\n",
       "        icon_img.addClass(image);\n",
       "        icon_img.addClass('ui-corner-all');\n",
       "\n",
       "        var tooltip_span = $('<span/>');\n",
       "        tooltip_span.addClass('ui-button-text');\n",
       "        tooltip_span.html(tooltip);\n",
       "\n",
       "        button.append(icon_img);\n",
       "        button.append(tooltip_span);\n",
       "\n",
       "        nav_element.append(button);\n",
       "    }\n",
       "\n",
       "    var fmt_picker_span = $('<span/>');\n",
       "\n",
       "    var fmt_picker = $('<select/>');\n",
       "    fmt_picker.addClass('mpl-toolbar-option ui-widget ui-widget-content');\n",
       "    fmt_picker_span.append(fmt_picker);\n",
       "    nav_element.append(fmt_picker_span);\n",
       "    this.format_dropdown = fmt_picker[0];\n",
       "\n",
       "    for (var ind in mpl.extensions) {\n",
       "        var fmt = mpl.extensions[ind];\n",
       "        var option = $(\n",
       "            '<option/>', {selected: fmt === mpl.default_extension}).html(fmt);\n",
       "        fmt_picker.append(option);\n",
       "    }\n",
       "\n",
       "    // Add hover states to the ui-buttons\n",
       "    $( \".ui-button\" ).hover(\n",
       "        function() { $(this).addClass(\"ui-state-hover\");},\n",
       "        function() { $(this).removeClass(\"ui-state-hover\");}\n",
       "    );\n",
       "\n",
       "    var status_bar = $('<span class=\"mpl-message\"/>');\n",
       "    nav_element.append(status_bar);\n",
       "    this.message = status_bar[0];\n",
       "}\n",
       "\n",
       "mpl.figure.prototype.request_resize = function(x_pixels, y_pixels) {\n",
       "    // Request matplotlib to resize the figure. Matplotlib will then trigger a resize in the client,\n",
       "    // which will in turn request a refresh of the image.\n",
       "    this.send_message('resize', {'width': x_pixels, 'height': y_pixels});\n",
       "}\n",
       "\n",
       "mpl.figure.prototype.send_message = function(type, properties) {\n",
       "    properties['type'] = type;\n",
       "    properties['figure_id'] = this.id;\n",
       "    this.ws.send(JSON.stringify(properties));\n",
       "}\n",
       "\n",
       "mpl.figure.prototype.send_draw_message = function() {\n",
       "    if (!this.waiting) {\n",
       "        this.waiting = true;\n",
       "        this.ws.send(JSON.stringify({type: \"draw\", figure_id: this.id}));\n",
       "    }\n",
       "}\n",
       "\n",
       "\n",
       "mpl.figure.prototype.handle_save = function(fig, msg) {\n",
       "    var format_dropdown = fig.format_dropdown;\n",
       "    var format = format_dropdown.options[format_dropdown.selectedIndex].value;\n",
       "    fig.ondownload(fig, format);\n",
       "}\n",
       "\n",
       "\n",
       "mpl.figure.prototype.handle_resize = function(fig, msg) {\n",
       "    var size = msg['size'];\n",
       "    if (size[0] != fig.canvas.width || size[1] != fig.canvas.height) {\n",
       "        fig._resize_canvas(size[0], size[1]);\n",
       "        fig.send_message(\"refresh\", {});\n",
       "    };\n",
       "}\n",
       "\n",
       "mpl.figure.prototype.handle_rubberband = function(fig, msg) {\n",
       "    var x0 = msg['x0'] / mpl.ratio;\n",
       "    var y0 = (fig.canvas.height - msg['y0']) / mpl.ratio;\n",
       "    var x1 = msg['x1'] / mpl.ratio;\n",
       "    var y1 = (fig.canvas.height - msg['y1']) / mpl.ratio;\n",
       "    x0 = Math.floor(x0) + 0.5;\n",
       "    y0 = Math.floor(y0) + 0.5;\n",
       "    x1 = Math.floor(x1) + 0.5;\n",
       "    y1 = Math.floor(y1) + 0.5;\n",
       "    var min_x = Math.min(x0, x1);\n",
       "    var min_y = Math.min(y0, y1);\n",
       "    var width = Math.abs(x1 - x0);\n",
       "    var height = Math.abs(y1 - y0);\n",
       "\n",
       "    fig.rubberband_context.clearRect(\n",
       "        0, 0, fig.canvas.width / mpl.ratio, fig.canvas.height / mpl.ratio);\n",
       "\n",
       "    fig.rubberband_context.strokeRect(min_x, min_y, width, height);\n",
       "}\n",
       "\n",
       "mpl.figure.prototype.handle_figure_label = function(fig, msg) {\n",
       "    // Updates the figure title.\n",
       "    fig.header.textContent = msg['label'];\n",
       "}\n",
       "\n",
       "mpl.figure.prototype.handle_cursor = function(fig, msg) {\n",
       "    var cursor = msg['cursor'];\n",
       "    switch(cursor)\n",
       "    {\n",
       "    case 0:\n",
       "        cursor = 'pointer';\n",
       "        break;\n",
       "    case 1:\n",
       "        cursor = 'default';\n",
       "        break;\n",
       "    case 2:\n",
       "        cursor = 'crosshair';\n",
       "        break;\n",
       "    case 3:\n",
       "        cursor = 'move';\n",
       "        break;\n",
       "    }\n",
       "    fig.rubberband_canvas.style.cursor = cursor;\n",
       "}\n",
       "\n",
       "mpl.figure.prototype.handle_message = function(fig, msg) {\n",
       "    fig.message.textContent = msg['message'];\n",
       "}\n",
       "\n",
       "mpl.figure.prototype.handle_draw = function(fig, msg) {\n",
       "    // Request the server to send over a new figure.\n",
       "    fig.send_draw_message();\n",
       "}\n",
       "\n",
       "mpl.figure.prototype.handle_image_mode = function(fig, msg) {\n",
       "    fig.image_mode = msg['mode'];\n",
       "}\n",
       "\n",
       "mpl.figure.prototype.updated_canvas_event = function() {\n",
       "    // Called whenever the canvas gets updated.\n",
       "    this.send_message(\"ack\", {});\n",
       "}\n",
       "\n",
       "// A function to construct a web socket function for onmessage handling.\n",
       "// Called in the figure constructor.\n",
       "mpl.figure.prototype._make_on_message_function = function(fig) {\n",
       "    return function socket_on_message(evt) {\n",
       "        if (evt.data instanceof Blob) {\n",
       "            /* FIXME: We get \"Resource interpreted as Image but\n",
       "             * transferred with MIME type text/plain:\" errors on\n",
       "             * Chrome.  But how to set the MIME type?  It doesn't seem\n",
       "             * to be part of the websocket stream */\n",
       "            evt.data.type = \"image/png\";\n",
       "\n",
       "            /* Free the memory for the previous frames */\n",
       "            if (fig.imageObj.src) {\n",
       "                (window.URL || window.webkitURL).revokeObjectURL(\n",
       "                    fig.imageObj.src);\n",
       "            }\n",
       "\n",
       "            fig.imageObj.src = (window.URL || window.webkitURL).createObjectURL(\n",
       "                evt.data);\n",
       "            fig.updated_canvas_event();\n",
       "            fig.waiting = false;\n",
       "            return;\n",
       "        }\n",
       "        else if (typeof evt.data === 'string' && evt.data.slice(0, 21) == \"data:image/png;base64\") {\n",
       "            fig.imageObj.src = evt.data;\n",
       "            fig.updated_canvas_event();\n",
       "            fig.waiting = false;\n",
       "            return;\n",
       "        }\n",
       "\n",
       "        var msg = JSON.parse(evt.data);\n",
       "        var msg_type = msg['type'];\n",
       "\n",
       "        // Call the  \"handle_{type}\" callback, which takes\n",
       "        // the figure and JSON message as its only arguments.\n",
       "        try {\n",
       "            var callback = fig[\"handle_\" + msg_type];\n",
       "        } catch (e) {\n",
       "            console.log(\"No handler for the '\" + msg_type + \"' message type: \", msg);\n",
       "            return;\n",
       "        }\n",
       "\n",
       "        if (callback) {\n",
       "            try {\n",
       "                // console.log(\"Handling '\" + msg_type + \"' message: \", msg);\n",
       "                callback(fig, msg);\n",
       "            } catch (e) {\n",
       "                console.log(\"Exception inside the 'handler_\" + msg_type + \"' callback:\", e, e.stack, msg);\n",
       "            }\n",
       "        }\n",
       "    };\n",
       "}\n",
       "\n",
       "// from http://stackoverflow.com/questions/1114465/getting-mouse-location-in-canvas\n",
       "mpl.findpos = function(e) {\n",
       "    //this section is from http://www.quirksmode.org/js/events_properties.html\n",
       "    var targ;\n",
       "    if (!e)\n",
       "        e = window.event;\n",
       "    if (e.target)\n",
       "        targ = e.target;\n",
       "    else if (e.srcElement)\n",
       "        targ = e.srcElement;\n",
       "    if (targ.nodeType == 3) // defeat Safari bug\n",
       "        targ = targ.parentNode;\n",
       "\n",
       "    // jQuery normalizes the pageX and pageY\n",
       "    // pageX,Y are the mouse positions relative to the document\n",
       "    // offset() returns the position of the element relative to the document\n",
       "    var x = e.pageX - $(targ).offset().left;\n",
       "    var y = e.pageY - $(targ).offset().top;\n",
       "\n",
       "    return {\"x\": x, \"y\": y};\n",
       "};\n",
       "\n",
       "/*\n",
       " * return a copy of an object with only non-object keys\n",
       " * we need this to avoid circular references\n",
       " * http://stackoverflow.com/a/24161582/3208463\n",
       " */\n",
       "function simpleKeys (original) {\n",
       "  return Object.keys(original).reduce(function (obj, key) {\n",
       "    if (typeof original[key] !== 'object')\n",
       "        obj[key] = original[key]\n",
       "    return obj;\n",
       "  }, {});\n",
       "}\n",
       "\n",
       "mpl.figure.prototype.mouse_event = function(event, name) {\n",
       "    var canvas_pos = mpl.findpos(event)\n",
       "\n",
       "    if (name === 'button_press')\n",
       "    {\n",
       "        this.canvas.focus();\n",
       "        this.canvas_div.focus();\n",
       "    }\n",
       "\n",
       "    var x = canvas_pos.x * mpl.ratio;\n",
       "    var y = canvas_pos.y * mpl.ratio;\n",
       "\n",
       "    this.send_message(name, {x: x, y: y, button: event.button,\n",
       "                             step: event.step,\n",
       "                             guiEvent: simpleKeys(event)});\n",
       "\n",
       "    /* This prevents the web browser from automatically changing to\n",
       "     * the text insertion cursor when the button is pressed.  We want\n",
       "     * to control all of the cursor setting manually through the\n",
       "     * 'cursor' event from matplotlib */\n",
       "    event.preventDefault();\n",
       "    return false;\n",
       "}\n",
       "\n",
       "mpl.figure.prototype._key_event_extra = function(event, name) {\n",
       "    // Handle any extra behaviour associated with a key event\n",
       "}\n",
       "\n",
       "mpl.figure.prototype.key_event = function(event, name) {\n",
       "\n",
       "    // Prevent repeat events\n",
       "    if (name == 'key_press')\n",
       "    {\n",
       "        if (event.which === this._key)\n",
       "            return;\n",
       "        else\n",
       "            this._key = event.which;\n",
       "    }\n",
       "    if (name == 'key_release')\n",
       "        this._key = null;\n",
       "\n",
       "    var value = '';\n",
       "    if (event.ctrlKey && event.which != 17)\n",
       "        value += \"ctrl+\";\n",
       "    if (event.altKey && event.which != 18)\n",
       "        value += \"alt+\";\n",
       "    if (event.shiftKey && event.which != 16)\n",
       "        value += \"shift+\";\n",
       "\n",
       "    value += 'k';\n",
       "    value += event.which.toString();\n",
       "\n",
       "    this._key_event_extra(event, name);\n",
       "\n",
       "    this.send_message(name, {key: value,\n",
       "                             guiEvent: simpleKeys(event)});\n",
       "    return false;\n",
       "}\n",
       "\n",
       "mpl.figure.prototype.toolbar_button_onclick = function(name) {\n",
       "    if (name == 'download') {\n",
       "        this.handle_save(this, null);\n",
       "    } else {\n",
       "        this.send_message(\"toolbar_button\", {name: name});\n",
       "    }\n",
       "};\n",
       "\n",
       "mpl.figure.prototype.toolbar_button_onmouseover = function(tooltip) {\n",
       "    this.message.textContent = tooltip;\n",
       "};\n",
       "mpl.toolbar_items = [[\"Home\", \"Reset original view\", \"fa fa-home icon-home\", \"home\"], [\"Back\", \"Back to previous view\", \"fa fa-arrow-left icon-arrow-left\", \"back\"], [\"Forward\", \"Forward to next view\", \"fa fa-arrow-right icon-arrow-right\", \"forward\"], [\"\", \"\", \"\", \"\"], [\"Pan\", \"Pan axes with left mouse, zoom with right\", \"fa fa-arrows icon-move\", \"pan\"], [\"Zoom\", \"Zoom to rectangle\", \"fa fa-square-o icon-check-empty\", \"zoom\"], [\"\", \"\", \"\", \"\"], [\"Download\", \"Download plot\", \"fa fa-floppy-o icon-save\", \"download\"]];\n",
       "\n",
       "mpl.extensions = [\"eps\", \"jpeg\", \"pdf\", \"png\", \"ps\", \"raw\", \"svg\", \"tif\"];\n",
       "\n",
       "mpl.default_extension = \"png\";var comm_websocket_adapter = function(comm) {\n",
       "    // Create a \"websocket\"-like object which calls the given IPython comm\n",
       "    // object with the appropriate methods. Currently this is a non binary\n",
       "    // socket, so there is still some room for performance tuning.\n",
       "    var ws = {};\n",
       "\n",
       "    ws.close = function() {\n",
       "        comm.close()\n",
       "    };\n",
       "    ws.send = function(m) {\n",
       "        //console.log('sending', m);\n",
       "        comm.send(m);\n",
       "    };\n",
       "    // Register the callback with on_msg.\n",
       "    comm.on_msg(function(msg) {\n",
       "        //console.log('receiving', msg['content']['data'], msg);\n",
       "        // Pass the mpl event to the overridden (by mpl) onmessage function.\n",
       "        ws.onmessage(msg['content']['data'])\n",
       "    });\n",
       "    return ws;\n",
       "}\n",
       "\n",
       "mpl.mpl_figure_comm = function(comm, msg) {\n",
       "    // This is the function which gets called when the mpl process\n",
       "    // starts-up an IPython Comm through the \"matplotlib\" channel.\n",
       "\n",
       "    var id = msg.content.data.id;\n",
       "    // Get hold of the div created by the display call when the Comm\n",
       "    // socket was opened in Python.\n",
       "    var element = $(\"#\" + id);\n",
       "    var ws_proxy = comm_websocket_adapter(comm)\n",
       "\n",
       "    function ondownload(figure, format) {\n",
       "        window.open(figure.imageObj.src);\n",
       "    }\n",
       "\n",
       "    var fig = new mpl.figure(id, ws_proxy,\n",
       "                           ondownload,\n",
       "                           element.get(0));\n",
       "\n",
       "    // Call onopen now - mpl needs it, as it is assuming we've passed it a real\n",
       "    // web socket which is closed, not our websocket->open comm proxy.\n",
       "    ws_proxy.onopen();\n",
       "\n",
       "    fig.parent_element = element.get(0);\n",
       "    fig.cell_info = mpl.find_output_cell(\"<div id='\" + id + \"'></div>\");\n",
       "    if (!fig.cell_info) {\n",
       "        console.error(\"Failed to find cell for figure\", id, fig);\n",
       "        return;\n",
       "    }\n",
       "\n",
       "    var output_index = fig.cell_info[2]\n",
       "    var cell = fig.cell_info[0];\n",
       "\n",
       "};\n",
       "\n",
       "mpl.figure.prototype.handle_close = function(fig, msg) {\n",
       "    var width = fig.canvas.width/mpl.ratio\n",
       "    fig.root.unbind('remove')\n",
       "\n",
       "    // Update the output cell to use the data from the current canvas.\n",
       "    fig.push_to_output();\n",
       "    var dataURL = fig.canvas.toDataURL();\n",
       "    // Re-enable the keyboard manager in IPython - without this line, in FF,\n",
       "    // the notebook keyboard shortcuts fail.\n",
       "    IPython.keyboard_manager.enable()\n",
       "    $(fig.parent_element).html('<img src=\"' + dataURL + '\" width=\"' + width + '\">');\n",
       "    fig.close_ws(fig, msg);\n",
       "}\n",
       "\n",
       "mpl.figure.prototype.close_ws = function(fig, msg){\n",
       "    fig.send_message('closing', msg);\n",
       "    // fig.ws.close()\n",
       "}\n",
       "\n",
       "mpl.figure.prototype.push_to_output = function(remove_interactive) {\n",
       "    // Turn the data on the canvas into data in the output cell.\n",
       "    var width = this.canvas.width/mpl.ratio\n",
       "    var dataURL = this.canvas.toDataURL();\n",
       "    this.cell_info[1]['text/html'] = '<img src=\"' + dataURL + '\" width=\"' + width + '\">';\n",
       "}\n",
       "\n",
       "mpl.figure.prototype.updated_canvas_event = function() {\n",
       "    // Tell IPython that the notebook contents must change.\n",
       "    IPython.notebook.set_dirty(true);\n",
       "    this.send_message(\"ack\", {});\n",
       "    var fig = this;\n",
       "    // Wait a second, then push the new image to the DOM so\n",
       "    // that it is saved nicely (might be nice to debounce this).\n",
       "    setTimeout(function () { fig.push_to_output() }, 1000);\n",
       "}\n",
       "\n",
       "mpl.figure.prototype._init_toolbar = function() {\n",
       "    var fig = this;\n",
       "\n",
       "    var nav_element = $('<div/>');\n",
       "    nav_element.attr('style', 'width: 100%');\n",
       "    this.root.append(nav_element);\n",
       "\n",
       "    // Define a callback function for later on.\n",
       "    function toolbar_event(event) {\n",
       "        return fig.toolbar_button_onclick(event['data']);\n",
       "    }\n",
       "    function toolbar_mouse_event(event) {\n",
       "        return fig.toolbar_button_onmouseover(event['data']);\n",
       "    }\n",
       "\n",
       "    for(var toolbar_ind in mpl.toolbar_items){\n",
       "        var name = mpl.toolbar_items[toolbar_ind][0];\n",
       "        var tooltip = mpl.toolbar_items[toolbar_ind][1];\n",
       "        var image = mpl.toolbar_items[toolbar_ind][2];\n",
       "        var method_name = mpl.toolbar_items[toolbar_ind][3];\n",
       "\n",
       "        if (!name) { continue; };\n",
       "\n",
       "        var button = $('<button class=\"btn btn-default\" href=\"#\" title=\"' + name + '\"><i class=\"fa ' + image + ' fa-lg\"></i></button>');\n",
       "        button.click(method_name, toolbar_event);\n",
       "        button.mouseover(tooltip, toolbar_mouse_event);\n",
       "        nav_element.append(button);\n",
       "    }\n",
       "\n",
       "    // Add the status bar.\n",
       "    var status_bar = $('<span class=\"mpl-message\" style=\"text-align:right; float: right;\"/>');\n",
       "    nav_element.append(status_bar);\n",
       "    this.message = status_bar[0];\n",
       "\n",
       "    // Add the close button to the window.\n",
       "    var buttongrp = $('<div class=\"btn-group inline pull-right\"></div>');\n",
       "    var button = $('<button class=\"btn btn-mini btn-primary\" href=\"#\" title=\"Stop Interaction\"><i class=\"fa fa-power-off icon-remove icon-large\"></i></button>');\n",
       "    button.click(function (evt) { fig.handle_close(fig, {}); } );\n",
       "    button.mouseover('Stop Interaction', toolbar_mouse_event);\n",
       "    buttongrp.append(button);\n",
       "    var titlebar = this.root.find($('.ui-dialog-titlebar'));\n",
       "    titlebar.prepend(buttongrp);\n",
       "}\n",
       "\n",
       "mpl.figure.prototype._root_extra_style = function(el){\n",
       "    var fig = this\n",
       "    el.on(\"remove\", function(){\n",
       "\tfig.close_ws(fig, {});\n",
       "    });\n",
       "}\n",
       "\n",
       "mpl.figure.prototype._canvas_extra_style = function(el){\n",
       "    // this is important to make the div 'focusable\n",
       "    el.attr('tabindex', 0)\n",
       "    // reach out to IPython and tell the keyboard manager to turn it's self\n",
       "    // off when our div gets focus\n",
       "\n",
       "    // location in version 3\n",
       "    if (IPython.notebook.keyboard_manager) {\n",
       "        IPython.notebook.keyboard_manager.register_events(el);\n",
       "    }\n",
       "    else {\n",
       "        // location in version 2\n",
       "        IPython.keyboard_manager.register_events(el);\n",
       "    }\n",
       "\n",
       "}\n",
       "\n",
       "mpl.figure.prototype._key_event_extra = function(event, name) {\n",
       "    var manager = IPython.notebook.keyboard_manager;\n",
       "    if (!manager)\n",
       "        manager = IPython.keyboard_manager;\n",
       "\n",
       "    // Check for shift+enter\n",
       "    if (event.shiftKey && event.which == 13) {\n",
       "        this.canvas_div.blur();\n",
       "        event.shiftKey = false;\n",
       "        // Send a \"J\" for go to next cell\n",
       "        event.which = 74;\n",
       "        event.keyCode = 74;\n",
       "        manager.command_mode();\n",
       "        manager.handle_keydown(event);\n",
       "    }\n",
       "}\n",
       "\n",
       "mpl.figure.prototype.handle_save = function(fig, msg) {\n",
       "    fig.ondownload(fig, null);\n",
       "}\n",
       "\n",
       "\n",
       "mpl.find_output_cell = function(html_output) {\n",
       "    // Return the cell and output element which can be found *uniquely* in the notebook.\n",
       "    // Note - this is a bit hacky, but it is done because the \"notebook_saving.Notebook\"\n",
       "    // IPython event is triggered only after the cells have been serialised, which for\n",
       "    // our purposes (turning an active figure into a static one), is too late.\n",
       "    var cells = IPython.notebook.get_cells();\n",
       "    var ncells = cells.length;\n",
       "    for (var i=0; i<ncells; i++) {\n",
       "        var cell = cells[i];\n",
       "        if (cell.cell_type === 'code'){\n",
       "            for (var j=0; j<cell.output_area.outputs.length; j++) {\n",
       "                var data = cell.output_area.outputs[j];\n",
       "                if (data.data) {\n",
       "                    // IPython >= 3 moved mimebundle to data attribute of output\n",
       "                    data = data.data;\n",
       "                }\n",
       "                if (data['text/html'] == html_output) {\n",
       "                    return [cell, data, j];\n",
       "                }\n",
       "            }\n",
       "        }\n",
       "    }\n",
       "}\n",
       "\n",
       "// Register the function which deals with the matplotlib target/channel.\n",
       "// The kernel may be null if the page has been refreshed.\n",
       "if (IPython.notebook.kernel != null) {\n",
       "    IPython.notebook.kernel.comm_manager.register_target('matplotlib', mpl.mpl_figure_comm);\n",
       "}\n"
      ],
      "text/plain": [
       "<IPython.core.display.Javascript object>"
      ]
     },
     "metadata": {},
     "output_type": "display_data"
    },
    {
     "data": {
      "text/html": [
       "<img src=\"data:image/png;base64,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\" width=\"640\">"
      ],
      "text/plain": [
       "<IPython.core.display.HTML object>"
      ]
     },
     "metadata": {},
     "output_type": "display_data"
    },
    {
     "data": {
      "text/plain": [
       "<matplotlib.legend.Legend at 0x19da2b60308>"
      ]
     },
     "execution_count": 21,
     "metadata": {},
     "output_type": "execute_result"
    }
   ],
   "source": [
    "plt.figure()\n",
    "y = range(25, 27)\n",
    "z1 = [1367.22, 1339.6599999999999]\n",
    "a1 = [1367.22, 1339.6599999999999+20]\n",
    "plt.plot(y,z1, label = \"EEL\")\n",
    "plt.plot(y,a1,label = \"Total EL\")\n",
    "#plt.plot(y,np.linspace(0,200,num = 2), label = \"Bin costs\")\n",
    "ax = plt.gca()\n",
    "ax.set_xlabel('Bins')\n",
    "plt.grid()\n",
    "plt.title='model 1'\n",
    "plt.legend()"
   ]
  },
  {
   "cell_type": "markdown",
   "metadata": {},
   "source": [
    "#### Model 2"
   ]
  },
  {
   "cell_type": "code",
   "execution_count": 183,
   "metadata": {},
   "outputs": [
    {
     "data": {
      "text/plain": [
       "1345.2999999999997"
      ]
     },
     "execution_count": 183,
     "metadata": {},
     "output_type": "execute_result"
    }
   ],
   "source": [
    "eel_pat(100,PR_2(100,25,item_2))"
   ]
  },
  {
   "cell_type": "code",
   "execution_count": 184,
   "metadata": {},
   "outputs": [
    {
     "data": {
      "text/plain": [
       "1316.28"
      ]
     },
     "execution_count": 184,
     "metadata": {},
     "output_type": "execute_result"
    }
   ],
   "source": [
    "eel_pat(100,PR_2(100,26,item_2))"
   ]
  },
  {
   "cell_type": "code",
   "execution_count": null,
   "metadata": {},
   "outputs": [],
   "source": [
    "eel_pat(100,PR_2(100,27,item_2))"
   ]
  },
  {
   "cell_type": "markdown",
   "metadata": {},
   "source": [
    "### Group 1, Instance 3\n",
    "\n",
    "#### Model 1"
   ]
  },
  {
   "cell_type": "code",
   "execution_count": 10,
   "metadata": {},
   "outputs": [
    {
     "data": {
      "text/plain": [
       "1717.3600000000001"
      ]
     },
     "execution_count": 10,
     "metadata": {},
     "output_type": "execute_result"
    }
   ],
   "source": [
    "eel_pat(100,pattern_set_3)"
   ]
  },
  {
   "cell_type": "code",
   "execution_count": 11,
   "metadata": {},
   "outputs": [
    {
     "data": {
      "text/plain": [
       "1631.44"
      ]
     },
     "execution_count": 11,
     "metadata": {},
     "output_type": "execute_result"
    }
   ],
   "source": [
    "eel_pat(100,PR_1(100,31,item_3))"
   ]
  },
  {
   "cell_type": "code",
   "execution_count": 12,
   "metadata": {
    "scrolled": true
   },
   "outputs": [
    {
     "data": {
      "text/plain": [
       "1727.1399999999999"
      ]
     },
     "execution_count": 12,
     "metadata": {},
     "output_type": "execute_result"
    }
   ],
   "source": [
    "eel_pat(100,PR_1(100,32,item_3))"
   ]
  },
  {
   "cell_type": "code",
   "execution_count": 119,
   "metadata": {},
   "outputs": [
    {
     "data": {
      "application/javascript": [
       "/* Put everything inside the global mpl namespace */\n",
       "window.mpl = {};\n",
       "\n",
       "\n",
       "mpl.get_websocket_type = function() {\n",
       "    if (typeof(WebSocket) !== 'undefined') {\n",
       "        return WebSocket;\n",
       "    } else if (typeof(MozWebSocket) !== 'undefined') {\n",
       "        return MozWebSocket;\n",
       "    } else {\n",
       "        alert('Your browser does not have WebSocket support. ' +\n",
       "              'Please try Chrome, Safari or Firefox ≥ 6. ' +\n",
       "              'Firefox 4 and 5 are also supported but you ' +\n",
       "              'have to enable WebSockets in about:config.');\n",
       "    };\n",
       "}\n",
       "\n",
       "mpl.figure = function(figure_id, websocket, ondownload, parent_element) {\n",
       "    this.id = figure_id;\n",
       "\n",
       "    this.ws = websocket;\n",
       "\n",
       "    this.supports_binary = (this.ws.binaryType != undefined);\n",
       "\n",
       "    if (!this.supports_binary) {\n",
       "        var warnings = document.getElementById(\"mpl-warnings\");\n",
       "        if (warnings) {\n",
       "            warnings.style.display = 'block';\n",
       "            warnings.textContent = (\n",
       "                \"This browser does not support binary websocket messages. \" +\n",
       "                    \"Performance may be slow.\");\n",
       "        }\n",
       "    }\n",
       "\n",
       "    this.imageObj = new Image();\n",
       "\n",
       "    this.context = undefined;\n",
       "    this.message = undefined;\n",
       "    this.canvas = undefined;\n",
       "    this.rubberband_canvas = undefined;\n",
       "    this.rubberband_context = undefined;\n",
       "    this.format_dropdown = undefined;\n",
       "\n",
       "    this.image_mode = 'full';\n",
       "\n",
       "    this.root = $('<div/>');\n",
       "    this._root_extra_style(this.root)\n",
       "    this.root.attr('style', 'display: inline-block');\n",
       "\n",
       "    $(parent_element).append(this.root);\n",
       "\n",
       "    this._init_header(this);\n",
       "    this._init_canvas(this);\n",
       "    this._init_toolbar(this);\n",
       "\n",
       "    var fig = this;\n",
       "\n",
       "    this.waiting = false;\n",
       "\n",
       "    this.ws.onopen =  function () {\n",
       "            fig.send_message(\"supports_binary\", {value: fig.supports_binary});\n",
       "            fig.send_message(\"send_image_mode\", {});\n",
       "            if (mpl.ratio != 1) {\n",
       "                fig.send_message(\"set_dpi_ratio\", {'dpi_ratio': mpl.ratio});\n",
       "            }\n",
       "            fig.send_message(\"refresh\", {});\n",
       "        }\n",
       "\n",
       "    this.imageObj.onload = function() {\n",
       "            if (fig.image_mode == 'full') {\n",
       "                // Full images could contain transparency (where diff images\n",
       "                // almost always do), so we need to clear the canvas so that\n",
       "                // there is no ghosting.\n",
       "                fig.context.clearRect(0, 0, fig.canvas.width, fig.canvas.height);\n",
       "            }\n",
       "            fig.context.drawImage(fig.imageObj, 0, 0);\n",
       "        };\n",
       "\n",
       "    this.imageObj.onunload = function() {\n",
       "        fig.ws.close();\n",
       "    }\n",
       "\n",
       "    this.ws.onmessage = this._make_on_message_function(this);\n",
       "\n",
       "    this.ondownload = ondownload;\n",
       "}\n",
       "\n",
       "mpl.figure.prototype._init_header = function() {\n",
       "    var titlebar = $(\n",
       "        '<div class=\"ui-dialog-titlebar ui-widget-header ui-corner-all ' +\n",
       "        'ui-helper-clearfix\"/>');\n",
       "    var titletext = $(\n",
       "        '<div class=\"ui-dialog-title\" style=\"width: 100%; ' +\n",
       "        'text-align: center; padding: 3px;\"/>');\n",
       "    titlebar.append(titletext)\n",
       "    this.root.append(titlebar);\n",
       "    this.header = titletext[0];\n",
       "}\n",
       "\n",
       "\n",
       "\n",
       "mpl.figure.prototype._canvas_extra_style = function(canvas_div) {\n",
       "\n",
       "}\n",
       "\n",
       "\n",
       "mpl.figure.prototype._root_extra_style = function(canvas_div) {\n",
       "\n",
       "}\n",
       "\n",
       "mpl.figure.prototype._init_canvas = function() {\n",
       "    var fig = this;\n",
       "\n",
       "    var canvas_div = $('<div/>');\n",
       "\n",
       "    canvas_div.attr('style', 'position: relative; clear: both; outline: 0');\n",
       "\n",
       "    function canvas_keyboard_event(event) {\n",
       "        return fig.key_event(event, event['data']);\n",
       "    }\n",
       "\n",
       "    canvas_div.keydown('key_press', canvas_keyboard_event);\n",
       "    canvas_div.keyup('key_release', canvas_keyboard_event);\n",
       "    this.canvas_div = canvas_div\n",
       "    this._canvas_extra_style(canvas_div)\n",
       "    this.root.append(canvas_div);\n",
       "\n",
       "    var canvas = $('<canvas/>');\n",
       "    canvas.addClass('mpl-canvas');\n",
       "    canvas.attr('style', \"left: 0; top: 0; z-index: 0; outline: 0\")\n",
       "\n",
       "    this.canvas = canvas[0];\n",
       "    this.context = canvas[0].getContext(\"2d\");\n",
       "\n",
       "    var backingStore = this.context.backingStorePixelRatio ||\n",
       "\tthis.context.webkitBackingStorePixelRatio ||\n",
       "\tthis.context.mozBackingStorePixelRatio ||\n",
       "\tthis.context.msBackingStorePixelRatio ||\n",
       "\tthis.context.oBackingStorePixelRatio ||\n",
       "\tthis.context.backingStorePixelRatio || 1;\n",
       "\n",
       "    mpl.ratio = (window.devicePixelRatio || 1) / backingStore;\n",
       "\n",
       "    var rubberband = $('<canvas/>');\n",
       "    rubberband.attr('style', \"position: absolute; left: 0; top: 0; z-index: 1;\")\n",
       "\n",
       "    var pass_mouse_events = true;\n",
       "\n",
       "    canvas_div.resizable({\n",
       "        start: function(event, ui) {\n",
       "            pass_mouse_events = false;\n",
       "        },\n",
       "        resize: function(event, ui) {\n",
       "            fig.request_resize(ui.size.width, ui.size.height);\n",
       "        },\n",
       "        stop: function(event, ui) {\n",
       "            pass_mouse_events = true;\n",
       "            fig.request_resize(ui.size.width, ui.size.height);\n",
       "        },\n",
       "    });\n",
       "\n",
       "    function mouse_event_fn(event) {\n",
       "        if (pass_mouse_events)\n",
       "            return fig.mouse_event(event, event['data']);\n",
       "    }\n",
       "\n",
       "    rubberband.mousedown('button_press', mouse_event_fn);\n",
       "    rubberband.mouseup('button_release', mouse_event_fn);\n",
       "    // Throttle sequential mouse events to 1 every 20ms.\n",
       "    rubberband.mousemove('motion_notify', mouse_event_fn);\n",
       "\n",
       "    rubberband.mouseenter('figure_enter', mouse_event_fn);\n",
       "    rubberband.mouseleave('figure_leave', mouse_event_fn);\n",
       "\n",
       "    canvas_div.on(\"wheel\", function (event) {\n",
       "        event = event.originalEvent;\n",
       "        event['data'] = 'scroll'\n",
       "        if (event.deltaY < 0) {\n",
       "            event.step = 1;\n",
       "        } else {\n",
       "            event.step = -1;\n",
       "        }\n",
       "        mouse_event_fn(event);\n",
       "    });\n",
       "\n",
       "    canvas_div.append(canvas);\n",
       "    canvas_div.append(rubberband);\n",
       "\n",
       "    this.rubberband = rubberband;\n",
       "    this.rubberband_canvas = rubberband[0];\n",
       "    this.rubberband_context = rubberband[0].getContext(\"2d\");\n",
       "    this.rubberband_context.strokeStyle = \"#000000\";\n",
       "\n",
       "    this._resize_canvas = function(width, height) {\n",
       "        // Keep the size of the canvas, canvas container, and rubber band\n",
       "        // canvas in synch.\n",
       "        canvas_div.css('width', width)\n",
       "        canvas_div.css('height', height)\n",
       "\n",
       "        canvas.attr('width', width * mpl.ratio);\n",
       "        canvas.attr('height', height * mpl.ratio);\n",
       "        canvas.attr('style', 'width: ' + width + 'px; height: ' + height + 'px;');\n",
       "\n",
       "        rubberband.attr('width', width);\n",
       "        rubberband.attr('height', height);\n",
       "    }\n",
       "\n",
       "    // Set the figure to an initial 600x600px, this will subsequently be updated\n",
       "    // upon first draw.\n",
       "    this._resize_canvas(600, 600);\n",
       "\n",
       "    // Disable right mouse context menu.\n",
       "    $(this.rubberband_canvas).bind(\"contextmenu\",function(e){\n",
       "        return false;\n",
       "    });\n",
       "\n",
       "    function set_focus () {\n",
       "        canvas.focus();\n",
       "        canvas_div.focus();\n",
       "    }\n",
       "\n",
       "    window.setTimeout(set_focus, 100);\n",
       "}\n",
       "\n",
       "mpl.figure.prototype._init_toolbar = function() {\n",
       "    var fig = this;\n",
       "\n",
       "    var nav_element = $('<div/>');\n",
       "    nav_element.attr('style', 'width: 100%');\n",
       "    this.root.append(nav_element);\n",
       "\n",
       "    // Define a callback function for later on.\n",
       "    function toolbar_event(event) {\n",
       "        return fig.toolbar_button_onclick(event['data']);\n",
       "    }\n",
       "    function toolbar_mouse_event(event) {\n",
       "        return fig.toolbar_button_onmouseover(event['data']);\n",
       "    }\n",
       "\n",
       "    for(var toolbar_ind in mpl.toolbar_items) {\n",
       "        var name = mpl.toolbar_items[toolbar_ind][0];\n",
       "        var tooltip = mpl.toolbar_items[toolbar_ind][1];\n",
       "        var image = mpl.toolbar_items[toolbar_ind][2];\n",
       "        var method_name = mpl.toolbar_items[toolbar_ind][3];\n",
       "\n",
       "        if (!name) {\n",
       "            // put a spacer in here.\n",
       "            continue;\n",
       "        }\n",
       "        var button = $('<button/>');\n",
       "        button.addClass('ui-button ui-widget ui-state-default ui-corner-all ' +\n",
       "                        'ui-button-icon-only');\n",
       "        button.attr('role', 'button');\n",
       "        button.attr('aria-disabled', 'false');\n",
       "        button.click(method_name, toolbar_event);\n",
       "        button.mouseover(tooltip, toolbar_mouse_event);\n",
       "\n",
       "        var icon_img = $('<span/>');\n",
       "        icon_img.addClass('ui-button-icon-primary ui-icon');\n",
       "        icon_img.addClass(image);\n",
       "        icon_img.addClass('ui-corner-all');\n",
       "\n",
       "        var tooltip_span = $('<span/>');\n",
       "        tooltip_span.addClass('ui-button-text');\n",
       "        tooltip_span.html(tooltip);\n",
       "\n",
       "        button.append(icon_img);\n",
       "        button.append(tooltip_span);\n",
       "\n",
       "        nav_element.append(button);\n",
       "    }\n",
       "\n",
       "    var fmt_picker_span = $('<span/>');\n",
       "\n",
       "    var fmt_picker = $('<select/>');\n",
       "    fmt_picker.addClass('mpl-toolbar-option ui-widget ui-widget-content');\n",
       "    fmt_picker_span.append(fmt_picker);\n",
       "    nav_element.append(fmt_picker_span);\n",
       "    this.format_dropdown = fmt_picker[0];\n",
       "\n",
       "    for (var ind in mpl.extensions) {\n",
       "        var fmt = mpl.extensions[ind];\n",
       "        var option = $(\n",
       "            '<option/>', {selected: fmt === mpl.default_extension}).html(fmt);\n",
       "        fmt_picker.append(option);\n",
       "    }\n",
       "\n",
       "    // Add hover states to the ui-buttons\n",
       "    $( \".ui-button\" ).hover(\n",
       "        function() { $(this).addClass(\"ui-state-hover\");},\n",
       "        function() { $(this).removeClass(\"ui-state-hover\");}\n",
       "    );\n",
       "\n",
       "    var status_bar = $('<span class=\"mpl-message\"/>');\n",
       "    nav_element.append(status_bar);\n",
       "    this.message = status_bar[0];\n",
       "}\n",
       "\n",
       "mpl.figure.prototype.request_resize = function(x_pixels, y_pixels) {\n",
       "    // Request matplotlib to resize the figure. Matplotlib will then trigger a resize in the client,\n",
       "    // which will in turn request a refresh of the image.\n",
       "    this.send_message('resize', {'width': x_pixels, 'height': y_pixels});\n",
       "}\n",
       "\n",
       "mpl.figure.prototype.send_message = function(type, properties) {\n",
       "    properties['type'] = type;\n",
       "    properties['figure_id'] = this.id;\n",
       "    this.ws.send(JSON.stringify(properties));\n",
       "}\n",
       "\n",
       "mpl.figure.prototype.send_draw_message = function() {\n",
       "    if (!this.waiting) {\n",
       "        this.waiting = true;\n",
       "        this.ws.send(JSON.stringify({type: \"draw\", figure_id: this.id}));\n",
       "    }\n",
       "}\n",
       "\n",
       "\n",
       "mpl.figure.prototype.handle_save = function(fig, msg) {\n",
       "    var format_dropdown = fig.format_dropdown;\n",
       "    var format = format_dropdown.options[format_dropdown.selectedIndex].value;\n",
       "    fig.ondownload(fig, format);\n",
       "}\n",
       "\n",
       "\n",
       "mpl.figure.prototype.handle_resize = function(fig, msg) {\n",
       "    var size = msg['size'];\n",
       "    if (size[0] != fig.canvas.width || size[1] != fig.canvas.height) {\n",
       "        fig._resize_canvas(size[0], size[1]);\n",
       "        fig.send_message(\"refresh\", {});\n",
       "    };\n",
       "}\n",
       "\n",
       "mpl.figure.prototype.handle_rubberband = function(fig, msg) {\n",
       "    var x0 = msg['x0'] / mpl.ratio;\n",
       "    var y0 = (fig.canvas.height - msg['y0']) / mpl.ratio;\n",
       "    var x1 = msg['x1'] / mpl.ratio;\n",
       "    var y1 = (fig.canvas.height - msg['y1']) / mpl.ratio;\n",
       "    x0 = Math.floor(x0) + 0.5;\n",
       "    y0 = Math.floor(y0) + 0.5;\n",
       "    x1 = Math.floor(x1) + 0.5;\n",
       "    y1 = Math.floor(y1) + 0.5;\n",
       "    var min_x = Math.min(x0, x1);\n",
       "    var min_y = Math.min(y0, y1);\n",
       "    var width = Math.abs(x1 - x0);\n",
       "    var height = Math.abs(y1 - y0);\n",
       "\n",
       "    fig.rubberband_context.clearRect(\n",
       "        0, 0, fig.canvas.width / mpl.ratio, fig.canvas.height / mpl.ratio);\n",
       "\n",
       "    fig.rubberband_context.strokeRect(min_x, min_y, width, height);\n",
       "}\n",
       "\n",
       "mpl.figure.prototype.handle_figure_label = function(fig, msg) {\n",
       "    // Updates the figure title.\n",
       "    fig.header.textContent = msg['label'];\n",
       "}\n",
       "\n",
       "mpl.figure.prototype.handle_cursor = function(fig, msg) {\n",
       "    var cursor = msg['cursor'];\n",
       "    switch(cursor)\n",
       "    {\n",
       "    case 0:\n",
       "        cursor = 'pointer';\n",
       "        break;\n",
       "    case 1:\n",
       "        cursor = 'default';\n",
       "        break;\n",
       "    case 2:\n",
       "        cursor = 'crosshair';\n",
       "        break;\n",
       "    case 3:\n",
       "        cursor = 'move';\n",
       "        break;\n",
       "    }\n",
       "    fig.rubberband_canvas.style.cursor = cursor;\n",
       "}\n",
       "\n",
       "mpl.figure.prototype.handle_message = function(fig, msg) {\n",
       "    fig.message.textContent = msg['message'];\n",
       "}\n",
       "\n",
       "mpl.figure.prototype.handle_draw = function(fig, msg) {\n",
       "    // Request the server to send over a new figure.\n",
       "    fig.send_draw_message();\n",
       "}\n",
       "\n",
       "mpl.figure.prototype.handle_image_mode = function(fig, msg) {\n",
       "    fig.image_mode = msg['mode'];\n",
       "}\n",
       "\n",
       "mpl.figure.prototype.updated_canvas_event = function() {\n",
       "    // Called whenever the canvas gets updated.\n",
       "    this.send_message(\"ack\", {});\n",
       "}\n",
       "\n",
       "// A function to construct a web socket function for onmessage handling.\n",
       "// Called in the figure constructor.\n",
       "mpl.figure.prototype._make_on_message_function = function(fig) {\n",
       "    return function socket_on_message(evt) {\n",
       "        if (evt.data instanceof Blob) {\n",
       "            /* FIXME: We get \"Resource interpreted as Image but\n",
       "             * transferred with MIME type text/plain:\" errors on\n",
       "             * Chrome.  But how to set the MIME type?  It doesn't seem\n",
       "             * to be part of the websocket stream */\n",
       "            evt.data.type = \"image/png\";\n",
       "\n",
       "            /* Free the memory for the previous frames */\n",
       "            if (fig.imageObj.src) {\n",
       "                (window.URL || window.webkitURL).revokeObjectURL(\n",
       "                    fig.imageObj.src);\n",
       "            }\n",
       "\n",
       "            fig.imageObj.src = (window.URL || window.webkitURL).createObjectURL(\n",
       "                evt.data);\n",
       "            fig.updated_canvas_event();\n",
       "            fig.waiting = false;\n",
       "            return;\n",
       "        }\n",
       "        else if (typeof evt.data === 'string' && evt.data.slice(0, 21) == \"data:image/png;base64\") {\n",
       "            fig.imageObj.src = evt.data;\n",
       "            fig.updated_canvas_event();\n",
       "            fig.waiting = false;\n",
       "            return;\n",
       "        }\n",
       "\n",
       "        var msg = JSON.parse(evt.data);\n",
       "        var msg_type = msg['type'];\n",
       "\n",
       "        // Call the  \"handle_{type}\" callback, which takes\n",
       "        // the figure and JSON message as its only arguments.\n",
       "        try {\n",
       "            var callback = fig[\"handle_\" + msg_type];\n",
       "        } catch (e) {\n",
       "            console.log(\"No handler for the '\" + msg_type + \"' message type: \", msg);\n",
       "            return;\n",
       "        }\n",
       "\n",
       "        if (callback) {\n",
       "            try {\n",
       "                // console.log(\"Handling '\" + msg_type + \"' message: \", msg);\n",
       "                callback(fig, msg);\n",
       "            } catch (e) {\n",
       "                console.log(\"Exception inside the 'handler_\" + msg_type + \"' callback:\", e, e.stack, msg);\n",
       "            }\n",
       "        }\n",
       "    };\n",
       "}\n",
       "\n",
       "// from http://stackoverflow.com/questions/1114465/getting-mouse-location-in-canvas\n",
       "mpl.findpos = function(e) {\n",
       "    //this section is from http://www.quirksmode.org/js/events_properties.html\n",
       "    var targ;\n",
       "    if (!e)\n",
       "        e = window.event;\n",
       "    if (e.target)\n",
       "        targ = e.target;\n",
       "    else if (e.srcElement)\n",
       "        targ = e.srcElement;\n",
       "    if (targ.nodeType == 3) // defeat Safari bug\n",
       "        targ = targ.parentNode;\n",
       "\n",
       "    // jQuery normalizes the pageX and pageY\n",
       "    // pageX,Y are the mouse positions relative to the document\n",
       "    // offset() returns the position of the element relative to the document\n",
       "    var x = e.pageX - $(targ).offset().left;\n",
       "    var y = e.pageY - $(targ).offset().top;\n",
       "\n",
       "    return {\"x\": x, \"y\": y};\n",
       "};\n",
       "\n",
       "/*\n",
       " * return a copy of an object with only non-object keys\n",
       " * we need this to avoid circular references\n",
       " * http://stackoverflow.com/a/24161582/3208463\n",
       " */\n",
       "function simpleKeys (original) {\n",
       "  return Object.keys(original).reduce(function (obj, key) {\n",
       "    if (typeof original[key] !== 'object')\n",
       "        obj[key] = original[key]\n",
       "    return obj;\n",
       "  }, {});\n",
       "}\n",
       "\n",
       "mpl.figure.prototype.mouse_event = function(event, name) {\n",
       "    var canvas_pos = mpl.findpos(event)\n",
       "\n",
       "    if (name === 'button_press')\n",
       "    {\n",
       "        this.canvas.focus();\n",
       "        this.canvas_div.focus();\n",
       "    }\n",
       "\n",
       "    var x = canvas_pos.x * mpl.ratio;\n",
       "    var y = canvas_pos.y * mpl.ratio;\n",
       "\n",
       "    this.send_message(name, {x: x, y: y, button: event.button,\n",
       "                             step: event.step,\n",
       "                             guiEvent: simpleKeys(event)});\n",
       "\n",
       "    /* This prevents the web browser from automatically changing to\n",
       "     * the text insertion cursor when the button is pressed.  We want\n",
       "     * to control all of the cursor setting manually through the\n",
       "     * 'cursor' event from matplotlib */\n",
       "    event.preventDefault();\n",
       "    return false;\n",
       "}\n",
       "\n",
       "mpl.figure.prototype._key_event_extra = function(event, name) {\n",
       "    // Handle any extra behaviour associated with a key event\n",
       "}\n",
       "\n",
       "mpl.figure.prototype.key_event = function(event, name) {\n",
       "\n",
       "    // Prevent repeat events\n",
       "    if (name == 'key_press')\n",
       "    {\n",
       "        if (event.which === this._key)\n",
       "            return;\n",
       "        else\n",
       "            this._key = event.which;\n",
       "    }\n",
       "    if (name == 'key_release')\n",
       "        this._key = null;\n",
       "\n",
       "    var value = '';\n",
       "    if (event.ctrlKey && event.which != 17)\n",
       "        value += \"ctrl+\";\n",
       "    if (event.altKey && event.which != 18)\n",
       "        value += \"alt+\";\n",
       "    if (event.shiftKey && event.which != 16)\n",
       "        value += \"shift+\";\n",
       "\n",
       "    value += 'k';\n",
       "    value += event.which.toString();\n",
       "\n",
       "    this._key_event_extra(event, name);\n",
       "\n",
       "    this.send_message(name, {key: value,\n",
       "                             guiEvent: simpleKeys(event)});\n",
       "    return false;\n",
       "}\n",
       "\n",
       "mpl.figure.prototype.toolbar_button_onclick = function(name) {\n",
       "    if (name == 'download') {\n",
       "        this.handle_save(this, null);\n",
       "    } else {\n",
       "        this.send_message(\"toolbar_button\", {name: name});\n",
       "    }\n",
       "};\n",
       "\n",
       "mpl.figure.prototype.toolbar_button_onmouseover = function(tooltip) {\n",
       "    this.message.textContent = tooltip;\n",
       "};\n",
       "mpl.toolbar_items = [[\"Home\", \"Reset original view\", \"fa fa-home icon-home\", \"home\"], [\"Back\", \"Back to previous view\", \"fa fa-arrow-left icon-arrow-left\", \"back\"], [\"Forward\", \"Forward to next view\", \"fa fa-arrow-right icon-arrow-right\", \"forward\"], [\"\", \"\", \"\", \"\"], [\"Pan\", \"Pan axes with left mouse, zoom with right\", \"fa fa-arrows icon-move\", \"pan\"], [\"Zoom\", \"Zoom to rectangle\", \"fa fa-square-o icon-check-empty\", \"zoom\"], [\"\", \"\", \"\", \"\"], [\"Download\", \"Download plot\", \"fa fa-floppy-o icon-save\", \"download\"]];\n",
       "\n",
       "mpl.extensions = [\"eps\", \"jpeg\", \"pdf\", \"png\", \"ps\", \"raw\", \"svg\", \"tif\"];\n",
       "\n",
       "mpl.default_extension = \"png\";var comm_websocket_adapter = function(comm) {\n",
       "    // Create a \"websocket\"-like object which calls the given IPython comm\n",
       "    // object with the appropriate methods. Currently this is a non binary\n",
       "    // socket, so there is still some room for performance tuning.\n",
       "    var ws = {};\n",
       "\n",
       "    ws.close = function() {\n",
       "        comm.close()\n",
       "    };\n",
       "    ws.send = function(m) {\n",
       "        //console.log('sending', m);\n",
       "        comm.send(m);\n",
       "    };\n",
       "    // Register the callback with on_msg.\n",
       "    comm.on_msg(function(msg) {\n",
       "        //console.log('receiving', msg['content']['data'], msg);\n",
       "        // Pass the mpl event to the overridden (by mpl) onmessage function.\n",
       "        ws.onmessage(msg['content']['data'])\n",
       "    });\n",
       "    return ws;\n",
       "}\n",
       "\n",
       "mpl.mpl_figure_comm = function(comm, msg) {\n",
       "    // This is the function which gets called when the mpl process\n",
       "    // starts-up an IPython Comm through the \"matplotlib\" channel.\n",
       "\n",
       "    var id = msg.content.data.id;\n",
       "    // Get hold of the div created by the display call when the Comm\n",
       "    // socket was opened in Python.\n",
       "    var element = $(\"#\" + id);\n",
       "    var ws_proxy = comm_websocket_adapter(comm)\n",
       "\n",
       "    function ondownload(figure, format) {\n",
       "        window.open(figure.imageObj.src);\n",
       "    }\n",
       "\n",
       "    var fig = new mpl.figure(id, ws_proxy,\n",
       "                           ondownload,\n",
       "                           element.get(0));\n",
       "\n",
       "    // Call onopen now - mpl needs it, as it is assuming we've passed it a real\n",
       "    // web socket which is closed, not our websocket->open comm proxy.\n",
       "    ws_proxy.onopen();\n",
       "\n",
       "    fig.parent_element = element.get(0);\n",
       "    fig.cell_info = mpl.find_output_cell(\"<div id='\" + id + \"'></div>\");\n",
       "    if (!fig.cell_info) {\n",
       "        console.error(\"Failed to find cell for figure\", id, fig);\n",
       "        return;\n",
       "    }\n",
       "\n",
       "    var output_index = fig.cell_info[2]\n",
       "    var cell = fig.cell_info[0];\n",
       "\n",
       "};\n",
       "\n",
       "mpl.figure.prototype.handle_close = function(fig, msg) {\n",
       "    var width = fig.canvas.width/mpl.ratio\n",
       "    fig.root.unbind('remove')\n",
       "\n",
       "    // Update the output cell to use the data from the current canvas.\n",
       "    fig.push_to_output();\n",
       "    var dataURL = fig.canvas.toDataURL();\n",
       "    // Re-enable the keyboard manager in IPython - without this line, in FF,\n",
       "    // the notebook keyboard shortcuts fail.\n",
       "    IPython.keyboard_manager.enable()\n",
       "    $(fig.parent_element).html('<img src=\"' + dataURL + '\" width=\"' + width + '\">');\n",
       "    fig.close_ws(fig, msg);\n",
       "}\n",
       "\n",
       "mpl.figure.prototype.close_ws = function(fig, msg){\n",
       "    fig.send_message('closing', msg);\n",
       "    // fig.ws.close()\n",
       "}\n",
       "\n",
       "mpl.figure.prototype.push_to_output = function(remove_interactive) {\n",
       "    // Turn the data on the canvas into data in the output cell.\n",
       "    var width = this.canvas.width/mpl.ratio\n",
       "    var dataURL = this.canvas.toDataURL();\n",
       "    this.cell_info[1]['text/html'] = '<img src=\"' + dataURL + '\" width=\"' + width + '\">';\n",
       "}\n",
       "\n",
       "mpl.figure.prototype.updated_canvas_event = function() {\n",
       "    // Tell IPython that the notebook contents must change.\n",
       "    IPython.notebook.set_dirty(true);\n",
       "    this.send_message(\"ack\", {});\n",
       "    var fig = this;\n",
       "    // Wait a second, then push the new image to the DOM so\n",
       "    // that it is saved nicely (might be nice to debounce this).\n",
       "    setTimeout(function () { fig.push_to_output() }, 1000);\n",
       "}\n",
       "\n",
       "mpl.figure.prototype._init_toolbar = function() {\n",
       "    var fig = this;\n",
       "\n",
       "    var nav_element = $('<div/>');\n",
       "    nav_element.attr('style', 'width: 100%');\n",
       "    this.root.append(nav_element);\n",
       "\n",
       "    // Define a callback function for later on.\n",
       "    function toolbar_event(event) {\n",
       "        return fig.toolbar_button_onclick(event['data']);\n",
       "    }\n",
       "    function toolbar_mouse_event(event) {\n",
       "        return fig.toolbar_button_onmouseover(event['data']);\n",
       "    }\n",
       "\n",
       "    for(var toolbar_ind in mpl.toolbar_items){\n",
       "        var name = mpl.toolbar_items[toolbar_ind][0];\n",
       "        var tooltip = mpl.toolbar_items[toolbar_ind][1];\n",
       "        var image = mpl.toolbar_items[toolbar_ind][2];\n",
       "        var method_name = mpl.toolbar_items[toolbar_ind][3];\n",
       "\n",
       "        if (!name) { continue; };\n",
       "\n",
       "        var button = $('<button class=\"btn btn-default\" href=\"#\" title=\"' + name + '\"><i class=\"fa ' + image + ' fa-lg\"></i></button>');\n",
       "        button.click(method_name, toolbar_event);\n",
       "        button.mouseover(tooltip, toolbar_mouse_event);\n",
       "        nav_element.append(button);\n",
       "    }\n",
       "\n",
       "    // Add the status bar.\n",
       "    var status_bar = $('<span class=\"mpl-message\" style=\"text-align:right; float: right;\"/>');\n",
       "    nav_element.append(status_bar);\n",
       "    this.message = status_bar[0];\n",
       "\n",
       "    // Add the close button to the window.\n",
       "    var buttongrp = $('<div class=\"btn-group inline pull-right\"></div>');\n",
       "    var button = $('<button class=\"btn btn-mini btn-primary\" href=\"#\" title=\"Stop Interaction\"><i class=\"fa fa-power-off icon-remove icon-large\"></i></button>');\n",
       "    button.click(function (evt) { fig.handle_close(fig, {}); } );\n",
       "    button.mouseover('Stop Interaction', toolbar_mouse_event);\n",
       "    buttongrp.append(button);\n",
       "    var titlebar = this.root.find($('.ui-dialog-titlebar'));\n",
       "    titlebar.prepend(buttongrp);\n",
       "}\n",
       "\n",
       "mpl.figure.prototype._root_extra_style = function(el){\n",
       "    var fig = this\n",
       "    el.on(\"remove\", function(){\n",
       "\tfig.close_ws(fig, {});\n",
       "    });\n",
       "}\n",
       "\n",
       "mpl.figure.prototype._canvas_extra_style = function(el){\n",
       "    // this is important to make the div 'focusable\n",
       "    el.attr('tabindex', 0)\n",
       "    // reach out to IPython and tell the keyboard manager to turn it's self\n",
       "    // off when our div gets focus\n",
       "\n",
       "    // location in version 3\n",
       "    if (IPython.notebook.keyboard_manager) {\n",
       "        IPython.notebook.keyboard_manager.register_events(el);\n",
       "    }\n",
       "    else {\n",
       "        // location in version 2\n",
       "        IPython.keyboard_manager.register_events(el);\n",
       "    }\n",
       "\n",
       "}\n",
       "\n",
       "mpl.figure.prototype._key_event_extra = function(event, name) {\n",
       "    var manager = IPython.notebook.keyboard_manager;\n",
       "    if (!manager)\n",
       "        manager = IPython.keyboard_manager;\n",
       "\n",
       "    // Check for shift+enter\n",
       "    if (event.shiftKey && event.which == 13) {\n",
       "        this.canvas_div.blur();\n",
       "        event.shiftKey = false;\n",
       "        // Send a \"J\" for go to next cell\n",
       "        event.which = 74;\n",
       "        event.keyCode = 74;\n",
       "        manager.command_mode();\n",
       "        manager.handle_keydown(event);\n",
       "    }\n",
       "}\n",
       "\n",
       "mpl.figure.prototype.handle_save = function(fig, msg) {\n",
       "    fig.ondownload(fig, null);\n",
       "}\n",
       "\n",
       "\n",
       "mpl.find_output_cell = function(html_output) {\n",
       "    // Return the cell and output element which can be found *uniquely* in the notebook.\n",
       "    // Note - this is a bit hacky, but it is done because the \"notebook_saving.Notebook\"\n",
       "    // IPython event is triggered only after the cells have been serialised, which for\n",
       "    // our purposes (turning an active figure into a static one), is too late.\n",
       "    var cells = IPython.notebook.get_cells();\n",
       "    var ncells = cells.length;\n",
       "    for (var i=0; i<ncells; i++) {\n",
       "        var cell = cells[i];\n",
       "        if (cell.cell_type === 'code'){\n",
       "            for (var j=0; j<cell.output_area.outputs.length; j++) {\n",
       "                var data = cell.output_area.outputs[j];\n",
       "                if (data.data) {\n",
       "                    // IPython >= 3 moved mimebundle to data attribute of output\n",
       "                    data = data.data;\n",
       "                }\n",
       "                if (data['text/html'] == html_output) {\n",
       "                    return [cell, data, j];\n",
       "                }\n",
       "            }\n",
       "        }\n",
       "    }\n",
       "}\n",
       "\n",
       "// Register the function which deals with the matplotlib target/channel.\n",
       "// The kernel may be null if the page has been refreshed.\n",
       "if (IPython.notebook.kernel != null) {\n",
       "    IPython.notebook.kernel.comm_manager.register_target('matplotlib', mpl.mpl_figure_comm);\n",
       "}\n"
      ],
      "text/plain": [
       "<IPython.core.display.Javascript object>"
      ]
     },
     "metadata": {},
     "output_type": "display_data"
    },
    {
     "data": {
      "text/html": [
       "<img src=\"data:image/png;base64,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\" width=\"640\">"
      ],
      "text/plain": [
       "<IPython.core.display.HTML object>"
      ]
     },
     "metadata": {},
     "output_type": "display_data"
    },
    {
     "data": {
      "text/plain": [
       "<matplotlib.legend.Legend at 0x198c04b0a48>"
      ]
     },
     "execution_count": 119,
     "metadata": {},
     "output_type": "execute_result"
    }
   ],
   "source": [
    "plt.figure()\n",
    "y = range(25, 27)\n",
    "z1 = [1717.3600000000001, 1631.44]\n",
    "a1 = [1717.3600000000001, 1631.44+100]\n",
    "plt.plot(y,z1, label = \"EEL\")\n",
    "plt.plot(y,a1,label = \"Total EL\")\n",
    "plt.plot(y,np.linspace(0,200,num = 2), label = \"Bin costs\")\n",
    "ax = plt.gca()\n",
    "ax.set_xlabel('Bins')\n",
    "plt.grid()\n",
    "plt.title='model 1'\n",
    "plt.legend()"
   ]
  },
  {
   "cell_type": "markdown",
   "metadata": {},
   "source": [
    "#### Model 2"
   ]
  },
  {
   "cell_type": "code",
   "execution_count": 13,
   "metadata": {},
   "outputs": [
    {
     "data": {
      "text/plain": [
       "1621.9200000000003"
      ]
     },
     "execution_count": 13,
     "metadata": {},
     "output_type": "execute_result"
    }
   ],
   "source": [
    "eel_pat(100,PR_2(100,31,item_3))"
   ]
  },
  {
   "cell_type": "code",
   "execution_count": 14,
   "metadata": {},
   "outputs": [
    {
     "data": {
      "text/plain": [
       "1632.2800000000004"
      ]
     },
     "execution_count": 14,
     "metadata": {},
     "output_type": "execute_result"
    }
   ],
   "source": [
    "eel_pat(100,PR_2(100,32,item_3))"
   ]
  },
  {
   "cell_type": "markdown",
   "metadata": {},
   "source": [
    "### Group 1, Instance 4\n",
    "\n",
    "#### Model 1"
   ]
  },
  {
   "cell_type": "code",
   "execution_count": 16,
   "metadata": {},
   "outputs": [
    {
     "data": {
      "text/plain": [
       "882.08"
      ]
     },
     "execution_count": 16,
     "metadata": {},
     "output_type": "execute_result"
    }
   ],
   "source": [
    "eel_pat(100,pattern_set_4)"
   ]
  },
  {
   "cell_type": "code",
   "execution_count": 28,
   "metadata": {},
   "outputs": [
    {
     "data": {
      "text/plain": [
       "[[412.08,\n",
       "  506.69999999999993,\n",
       "  297.68000000000006,\n",
       "  308.26,\n",
       "  436.53999999999996,\n",
       "  348.78,\n",
       "  610.3600000000001,\n",
       "  463.52000000000004,\n",
       "  504.4,\n",
       "  456.76000000000005],\n",
       " 297.68000000000006,\n",
       " 610.3600000000001,\n",
       " 434.50800000000004,\n",
       " 9430.471484444448]"
      ]
     },
     "execution_count": 28,
     "metadata": {},
     "output_type": "execute_result"
    }
   ],
   "source": [
    "p_eel(100,PR_1(100,20,item_4))"
   ]
  },
  {
   "cell_type": "code",
   "execution_count": 45,
   "metadata": {},
   "outputs": [
    {
     "data": {
      "text/plain": [
       "[[411.44,\n",
       "  281.6599999999999,\n",
       "  433.5000000000001,\n",
       "  463.85999999999996,\n",
       "  536.36,\n",
       "  454.13999999999993,\n",
       "  333.63999999999993,\n",
       "  582.3200000000002,\n",
       "  639.04,\n",
       "  457.50000000000006],\n",
       " 281.6599999999999,\n",
       " 639.04,\n",
       " 459.346,\n",
       " 11525.766048888898]"
      ]
     },
     "execution_count": 45,
     "metadata": {},
     "output_type": "execute_result"
    }
   ],
   "source": [
    "p_eel(100,PR_2(100,20,item_4))"
   ]
  },
  {
   "cell_type": "code",
   "execution_count": 17,
   "metadata": {},
   "outputs": [
    {
     "data": {
      "text/plain": [
       "867.5400000000001"
      ]
     },
     "execution_count": 17,
     "metadata": {},
     "output_type": "execute_result"
    }
   ],
   "source": [
    "eel_pat(100,PR_1(100,20,item_4))"
   ]
  },
  {
   "cell_type": "code",
   "execution_count": 29,
   "metadata": {},
   "outputs": [
    {
     "data": {
      "text/plain": [
       "[[581.2400000000001,\n",
       "  179.72000000000003,\n",
       "  451.76000000000005,\n",
       "  423.21999999999997,\n",
       "  129.82,\n",
       "  578.6999999999999,\n",
       "  449.59999999999997,\n",
       "  468.46000000000004,\n",
       "  416.66,\n",
       "  505.78000000000003],\n",
       " 129.82,\n",
       " 581.2400000000001,\n",
       " 418.49600000000004,\n",
       " 22745.91998222222]"
      ]
     },
     "execution_count": 29,
     "metadata": {},
     "output_type": "execute_result"
    }
   ],
   "source": [
    "p_eel(100,PR_1(100,21,item_4))"
   ]
  },
  {
   "cell_type": "code",
   "execution_count": 46,
   "metadata": {},
   "outputs": [
    {
     "data": {
      "text/plain": [
       "[[364.35999999999996,\n",
       "  484.2,\n",
       "  438.17999999999995,\n",
       "  339.4,\n",
       "  511.70000000000005,\n",
       "  470.25999999999993,\n",
       "  603.5200000000001,\n",
       "  356.9199999999999,\n",
       "  450.79999999999995,\n",
       "  549.24],\n",
       " 339.4,\n",
       " 603.5200000000001,\n",
       " 456.858,\n",
       " 7411.605817777786]"
      ]
     },
     "execution_count": 46,
     "metadata": {},
     "output_type": "execute_result"
    }
   ],
   "source": [
    "p_eel(100,PR_2(100,21,item_4))"
   ]
  },
  {
   "cell_type": "code",
   "execution_count": 18,
   "metadata": {},
   "outputs": [
    {
     "data": {
      "text/plain": [
       "844.8000000000003"
      ]
     },
     "execution_count": 18,
     "metadata": {},
     "output_type": "execute_result"
    }
   ],
   "source": [
    "eel_pat(100,PR_1(100,21,item_4))"
   ]
  },
  {
   "cell_type": "code",
   "execution_count": 30,
   "metadata": {},
   "outputs": [
    {
     "data": {
      "text/plain": [
       "[[580.9799999999999,\n",
       "  546.34,\n",
       "  460.0399999999999,\n",
       "  573.02,\n",
       "  480.88,\n",
       "  462.94,\n",
       "  224.24000000000004,\n",
       "  521.88,\n",
       "  397.3399999999999,\n",
       "  405.24],\n",
       " 224.24000000000004,\n",
       " 580.9799999999999,\n",
       " 465.28999999999996,\n",
       " 11262.877799999997]"
      ]
     },
     "execution_count": 30,
     "metadata": {},
     "output_type": "execute_result"
    }
   ],
   "source": [
    "p_eel(100,PR_1(100,22,item_4))"
   ]
  },
  {
   "cell_type": "code",
   "execution_count": 47,
   "metadata": {},
   "outputs": [
    {
     "data": {
      "text/plain": [
       "[[444.62000000000006,\n",
       "  359.11999999999995,\n",
       "  325.71999999999997,\n",
       "  409.06,\n",
       "  448.59999999999997,\n",
       "  460.06,\n",
       "  547.38,\n",
       "  368.74000000000007,\n",
       "  416.19999999999993,\n",
       "  463.38000000000005],\n",
       " 325.71999999999997,\n",
       " 547.38,\n",
       " 424.288,\n",
       " 4034.370151111112]"
      ]
     },
     "execution_count": 47,
     "metadata": {},
     "output_type": "execute_result"
    }
   ],
   "source": [
    "p_eel(100,PR_2(100,22,item_4))"
   ]
  },
  {
   "cell_type": "code",
   "execution_count": 19,
   "metadata": {},
   "outputs": [
    {
     "data": {
      "text/plain": [
       "814.34"
      ]
     },
     "execution_count": 19,
     "metadata": {},
     "output_type": "execute_result"
    }
   ],
   "source": [
    "eel_pat(100,PR_1(100,22,item_4))"
   ]
  },
  {
   "cell_type": "code",
   "execution_count": 26,
   "metadata": {},
   "outputs": [
    {
     "data": {
      "application/javascript": [
       "/* Put everything inside the global mpl namespace */\n",
       "window.mpl = {};\n",
       "\n",
       "\n",
       "mpl.get_websocket_type = function() {\n",
       "    if (typeof(WebSocket) !== 'undefined') {\n",
       "        return WebSocket;\n",
       "    } else if (typeof(MozWebSocket) !== 'undefined') {\n",
       "        return MozWebSocket;\n",
       "    } else {\n",
       "        alert('Your browser does not have WebSocket support. ' +\n",
       "              'Please try Chrome, Safari or Firefox ≥ 6. ' +\n",
       "              'Firefox 4 and 5 are also supported but you ' +\n",
       "              'have to enable WebSockets in about:config.');\n",
       "    };\n",
       "}\n",
       "\n",
       "mpl.figure = function(figure_id, websocket, ondownload, parent_element) {\n",
       "    this.id = figure_id;\n",
       "\n",
       "    this.ws = websocket;\n",
       "\n",
       "    this.supports_binary = (this.ws.binaryType != undefined);\n",
       "\n",
       "    if (!this.supports_binary) {\n",
       "        var warnings = document.getElementById(\"mpl-warnings\");\n",
       "        if (warnings) {\n",
       "            warnings.style.display = 'block';\n",
       "            warnings.textContent = (\n",
       "                \"This browser does not support binary websocket messages. \" +\n",
       "                    \"Performance may be slow.\");\n",
       "        }\n",
       "    }\n",
       "\n",
       "    this.imageObj = new Image();\n",
       "\n",
       "    this.context = undefined;\n",
       "    this.message = undefined;\n",
       "    this.canvas = undefined;\n",
       "    this.rubberband_canvas = undefined;\n",
       "    this.rubberband_context = undefined;\n",
       "    this.format_dropdown = undefined;\n",
       "\n",
       "    this.image_mode = 'full';\n",
       "\n",
       "    this.root = $('<div/>');\n",
       "    this._root_extra_style(this.root)\n",
       "    this.root.attr('style', 'display: inline-block');\n",
       "\n",
       "    $(parent_element).append(this.root);\n",
       "\n",
       "    this._init_header(this);\n",
       "    this._init_canvas(this);\n",
       "    this._init_toolbar(this);\n",
       "\n",
       "    var fig = this;\n",
       "\n",
       "    this.waiting = false;\n",
       "\n",
       "    this.ws.onopen =  function () {\n",
       "            fig.send_message(\"supports_binary\", {value: fig.supports_binary});\n",
       "            fig.send_message(\"send_image_mode\", {});\n",
       "            if (mpl.ratio != 1) {\n",
       "                fig.send_message(\"set_dpi_ratio\", {'dpi_ratio': mpl.ratio});\n",
       "            }\n",
       "            fig.send_message(\"refresh\", {});\n",
       "        }\n",
       "\n",
       "    this.imageObj.onload = function() {\n",
       "            if (fig.image_mode == 'full') {\n",
       "                // Full images could contain transparency (where diff images\n",
       "                // almost always do), so we need to clear the canvas so that\n",
       "                // there is no ghosting.\n",
       "                fig.context.clearRect(0, 0, fig.canvas.width, fig.canvas.height);\n",
       "            }\n",
       "            fig.context.drawImage(fig.imageObj, 0, 0);\n",
       "        };\n",
       "\n",
       "    this.imageObj.onunload = function() {\n",
       "        fig.ws.close();\n",
       "    }\n",
       "\n",
       "    this.ws.onmessage = this._make_on_message_function(this);\n",
       "\n",
       "    this.ondownload = ondownload;\n",
       "}\n",
       "\n",
       "mpl.figure.prototype._init_header = function() {\n",
       "    var titlebar = $(\n",
       "        '<div class=\"ui-dialog-titlebar ui-widget-header ui-corner-all ' +\n",
       "        'ui-helper-clearfix\"/>');\n",
       "    var titletext = $(\n",
       "        '<div class=\"ui-dialog-title\" style=\"width: 100%; ' +\n",
       "        'text-align: center; padding: 3px;\"/>');\n",
       "    titlebar.append(titletext)\n",
       "    this.root.append(titlebar);\n",
       "    this.header = titletext[0];\n",
       "}\n",
       "\n",
       "\n",
       "\n",
       "mpl.figure.prototype._canvas_extra_style = function(canvas_div) {\n",
       "\n",
       "}\n",
       "\n",
       "\n",
       "mpl.figure.prototype._root_extra_style = function(canvas_div) {\n",
       "\n",
       "}\n",
       "\n",
       "mpl.figure.prototype._init_canvas = function() {\n",
       "    var fig = this;\n",
       "\n",
       "    var canvas_div = $('<div/>');\n",
       "\n",
       "    canvas_div.attr('style', 'position: relative; clear: both; outline: 0');\n",
       "\n",
       "    function canvas_keyboard_event(event) {\n",
       "        return fig.key_event(event, event['data']);\n",
       "    }\n",
       "\n",
       "    canvas_div.keydown('key_press', canvas_keyboard_event);\n",
       "    canvas_div.keyup('key_release', canvas_keyboard_event);\n",
       "    this.canvas_div = canvas_div\n",
       "    this._canvas_extra_style(canvas_div)\n",
       "    this.root.append(canvas_div);\n",
       "\n",
       "    var canvas = $('<canvas/>');\n",
       "    canvas.addClass('mpl-canvas');\n",
       "    canvas.attr('style', \"left: 0; top: 0; z-index: 0; outline: 0\")\n",
       "\n",
       "    this.canvas = canvas[0];\n",
       "    this.context = canvas[0].getContext(\"2d\");\n",
       "\n",
       "    var backingStore = this.context.backingStorePixelRatio ||\n",
       "\tthis.context.webkitBackingStorePixelRatio ||\n",
       "\tthis.context.mozBackingStorePixelRatio ||\n",
       "\tthis.context.msBackingStorePixelRatio ||\n",
       "\tthis.context.oBackingStorePixelRatio ||\n",
       "\tthis.context.backingStorePixelRatio || 1;\n",
       "\n",
       "    mpl.ratio = (window.devicePixelRatio || 1) / backingStore;\n",
       "\n",
       "    var rubberband = $('<canvas/>');\n",
       "    rubberband.attr('style', \"position: absolute; left: 0; top: 0; z-index: 1;\")\n",
       "\n",
       "    var pass_mouse_events = true;\n",
       "\n",
       "    canvas_div.resizable({\n",
       "        start: function(event, ui) {\n",
       "            pass_mouse_events = false;\n",
       "        },\n",
       "        resize: function(event, ui) {\n",
       "            fig.request_resize(ui.size.width, ui.size.height);\n",
       "        },\n",
       "        stop: function(event, ui) {\n",
       "            pass_mouse_events = true;\n",
       "            fig.request_resize(ui.size.width, ui.size.height);\n",
       "        },\n",
       "    });\n",
       "\n",
       "    function mouse_event_fn(event) {\n",
       "        if (pass_mouse_events)\n",
       "            return fig.mouse_event(event, event['data']);\n",
       "    }\n",
       "\n",
       "    rubberband.mousedown('button_press', mouse_event_fn);\n",
       "    rubberband.mouseup('button_release', mouse_event_fn);\n",
       "    // Throttle sequential mouse events to 1 every 20ms.\n",
       "    rubberband.mousemove('motion_notify', mouse_event_fn);\n",
       "\n",
       "    rubberband.mouseenter('figure_enter', mouse_event_fn);\n",
       "    rubberband.mouseleave('figure_leave', mouse_event_fn);\n",
       "\n",
       "    canvas_div.on(\"wheel\", function (event) {\n",
       "        event = event.originalEvent;\n",
       "        event['data'] = 'scroll'\n",
       "        if (event.deltaY < 0) {\n",
       "            event.step = 1;\n",
       "        } else {\n",
       "            event.step = -1;\n",
       "        }\n",
       "        mouse_event_fn(event);\n",
       "    });\n",
       "\n",
       "    canvas_div.append(canvas);\n",
       "    canvas_div.append(rubberband);\n",
       "\n",
       "    this.rubberband = rubberband;\n",
       "    this.rubberband_canvas = rubberband[0];\n",
       "    this.rubberband_context = rubberband[0].getContext(\"2d\");\n",
       "    this.rubberband_context.strokeStyle = \"#000000\";\n",
       "\n",
       "    this._resize_canvas = function(width, height) {\n",
       "        // Keep the size of the canvas, canvas container, and rubber band\n",
       "        // canvas in synch.\n",
       "        canvas_div.css('width', width)\n",
       "        canvas_div.css('height', height)\n",
       "\n",
       "        canvas.attr('width', width * mpl.ratio);\n",
       "        canvas.attr('height', height * mpl.ratio);\n",
       "        canvas.attr('style', 'width: ' + width + 'px; height: ' + height + 'px;');\n",
       "\n",
       "        rubberband.attr('width', width);\n",
       "        rubberband.attr('height', height);\n",
       "    }\n",
       "\n",
       "    // Set the figure to an initial 600x600px, this will subsequently be updated\n",
       "    // upon first draw.\n",
       "    this._resize_canvas(600, 600);\n",
       "\n",
       "    // Disable right mouse context menu.\n",
       "    $(this.rubberband_canvas).bind(\"contextmenu\",function(e){\n",
       "        return false;\n",
       "    });\n",
       "\n",
       "    function set_focus () {\n",
       "        canvas.focus();\n",
       "        canvas_div.focus();\n",
       "    }\n",
       "\n",
       "    window.setTimeout(set_focus, 100);\n",
       "}\n",
       "\n",
       "mpl.figure.prototype._init_toolbar = function() {\n",
       "    var fig = this;\n",
       "\n",
       "    var nav_element = $('<div/>');\n",
       "    nav_element.attr('style', 'width: 100%');\n",
       "    this.root.append(nav_element);\n",
       "\n",
       "    // Define a callback function for later on.\n",
       "    function toolbar_event(event) {\n",
       "        return fig.toolbar_button_onclick(event['data']);\n",
       "    }\n",
       "    function toolbar_mouse_event(event) {\n",
       "        return fig.toolbar_button_onmouseover(event['data']);\n",
       "    }\n",
       "\n",
       "    for(var toolbar_ind in mpl.toolbar_items) {\n",
       "        var name = mpl.toolbar_items[toolbar_ind][0];\n",
       "        var tooltip = mpl.toolbar_items[toolbar_ind][1];\n",
       "        var image = mpl.toolbar_items[toolbar_ind][2];\n",
       "        var method_name = mpl.toolbar_items[toolbar_ind][3];\n",
       "\n",
       "        if (!name) {\n",
       "            // put a spacer in here.\n",
       "            continue;\n",
       "        }\n",
       "        var button = $('<button/>');\n",
       "        button.addClass('ui-button ui-widget ui-state-default ui-corner-all ' +\n",
       "                        'ui-button-icon-only');\n",
       "        button.attr('role', 'button');\n",
       "        button.attr('aria-disabled', 'false');\n",
       "        button.click(method_name, toolbar_event);\n",
       "        button.mouseover(tooltip, toolbar_mouse_event);\n",
       "\n",
       "        var icon_img = $('<span/>');\n",
       "        icon_img.addClass('ui-button-icon-primary ui-icon');\n",
       "        icon_img.addClass(image);\n",
       "        icon_img.addClass('ui-corner-all');\n",
       "\n",
       "        var tooltip_span = $('<span/>');\n",
       "        tooltip_span.addClass('ui-button-text');\n",
       "        tooltip_span.html(tooltip);\n",
       "\n",
       "        button.append(icon_img);\n",
       "        button.append(tooltip_span);\n",
       "\n",
       "        nav_element.append(button);\n",
       "    }\n",
       "\n",
       "    var fmt_picker_span = $('<span/>');\n",
       "\n",
       "    var fmt_picker = $('<select/>');\n",
       "    fmt_picker.addClass('mpl-toolbar-option ui-widget ui-widget-content');\n",
       "    fmt_picker_span.append(fmt_picker);\n",
       "    nav_element.append(fmt_picker_span);\n",
       "    this.format_dropdown = fmt_picker[0];\n",
       "\n",
       "    for (var ind in mpl.extensions) {\n",
       "        var fmt = mpl.extensions[ind];\n",
       "        var option = $(\n",
       "            '<option/>', {selected: fmt === mpl.default_extension}).html(fmt);\n",
       "        fmt_picker.append(option);\n",
       "    }\n",
       "\n",
       "    // Add hover states to the ui-buttons\n",
       "    $( \".ui-button\" ).hover(\n",
       "        function() { $(this).addClass(\"ui-state-hover\");},\n",
       "        function() { $(this).removeClass(\"ui-state-hover\");}\n",
       "    );\n",
       "\n",
       "    var status_bar = $('<span class=\"mpl-message\"/>');\n",
       "    nav_element.append(status_bar);\n",
       "    this.message = status_bar[0];\n",
       "}\n",
       "\n",
       "mpl.figure.prototype.request_resize = function(x_pixels, y_pixels) {\n",
       "    // Request matplotlib to resize the figure. Matplotlib will then trigger a resize in the client,\n",
       "    // which will in turn request a refresh of the image.\n",
       "    this.send_message('resize', {'width': x_pixels, 'height': y_pixels});\n",
       "}\n",
       "\n",
       "mpl.figure.prototype.send_message = function(type, properties) {\n",
       "    properties['type'] = type;\n",
       "    properties['figure_id'] = this.id;\n",
       "    this.ws.send(JSON.stringify(properties));\n",
       "}\n",
       "\n",
       "mpl.figure.prototype.send_draw_message = function() {\n",
       "    if (!this.waiting) {\n",
       "        this.waiting = true;\n",
       "        this.ws.send(JSON.stringify({type: \"draw\", figure_id: this.id}));\n",
       "    }\n",
       "}\n",
       "\n",
       "\n",
       "mpl.figure.prototype.handle_save = function(fig, msg) {\n",
       "    var format_dropdown = fig.format_dropdown;\n",
       "    var format = format_dropdown.options[format_dropdown.selectedIndex].value;\n",
       "    fig.ondownload(fig, format);\n",
       "}\n",
       "\n",
       "\n",
       "mpl.figure.prototype.handle_resize = function(fig, msg) {\n",
       "    var size = msg['size'];\n",
       "    if (size[0] != fig.canvas.width || size[1] != fig.canvas.height) {\n",
       "        fig._resize_canvas(size[0], size[1]);\n",
       "        fig.send_message(\"refresh\", {});\n",
       "    };\n",
       "}\n",
       "\n",
       "mpl.figure.prototype.handle_rubberband = function(fig, msg) {\n",
       "    var x0 = msg['x0'] / mpl.ratio;\n",
       "    var y0 = (fig.canvas.height - msg['y0']) / mpl.ratio;\n",
       "    var x1 = msg['x1'] / mpl.ratio;\n",
       "    var y1 = (fig.canvas.height - msg['y1']) / mpl.ratio;\n",
       "    x0 = Math.floor(x0) + 0.5;\n",
       "    y0 = Math.floor(y0) + 0.5;\n",
       "    x1 = Math.floor(x1) + 0.5;\n",
       "    y1 = Math.floor(y1) + 0.5;\n",
       "    var min_x = Math.min(x0, x1);\n",
       "    var min_y = Math.min(y0, y1);\n",
       "    var width = Math.abs(x1 - x0);\n",
       "    var height = Math.abs(y1 - y0);\n",
       "\n",
       "    fig.rubberband_context.clearRect(\n",
       "        0, 0, fig.canvas.width / mpl.ratio, fig.canvas.height / mpl.ratio);\n",
       "\n",
       "    fig.rubberband_context.strokeRect(min_x, min_y, width, height);\n",
       "}\n",
       "\n",
       "mpl.figure.prototype.handle_figure_label = function(fig, msg) {\n",
       "    // Updates the figure title.\n",
       "    fig.header.textContent = msg['label'];\n",
       "}\n",
       "\n",
       "mpl.figure.prototype.handle_cursor = function(fig, msg) {\n",
       "    var cursor = msg['cursor'];\n",
       "    switch(cursor)\n",
       "    {\n",
       "    case 0:\n",
       "        cursor = 'pointer';\n",
       "        break;\n",
       "    case 1:\n",
       "        cursor = 'default';\n",
       "        break;\n",
       "    case 2:\n",
       "        cursor = 'crosshair';\n",
       "        break;\n",
       "    case 3:\n",
       "        cursor = 'move';\n",
       "        break;\n",
       "    }\n",
       "    fig.rubberband_canvas.style.cursor = cursor;\n",
       "}\n",
       "\n",
       "mpl.figure.prototype.handle_message = function(fig, msg) {\n",
       "    fig.message.textContent = msg['message'];\n",
       "}\n",
       "\n",
       "mpl.figure.prototype.handle_draw = function(fig, msg) {\n",
       "    // Request the server to send over a new figure.\n",
       "    fig.send_draw_message();\n",
       "}\n",
       "\n",
       "mpl.figure.prototype.handle_image_mode = function(fig, msg) {\n",
       "    fig.image_mode = msg['mode'];\n",
       "}\n",
       "\n",
       "mpl.figure.prototype.updated_canvas_event = function() {\n",
       "    // Called whenever the canvas gets updated.\n",
       "    this.send_message(\"ack\", {});\n",
       "}\n",
       "\n",
       "// A function to construct a web socket function for onmessage handling.\n",
       "// Called in the figure constructor.\n",
       "mpl.figure.prototype._make_on_message_function = function(fig) {\n",
       "    return function socket_on_message(evt) {\n",
       "        if (evt.data instanceof Blob) {\n",
       "            /* FIXME: We get \"Resource interpreted as Image but\n",
       "             * transferred with MIME type text/plain:\" errors on\n",
       "             * Chrome.  But how to set the MIME type?  It doesn't seem\n",
       "             * to be part of the websocket stream */\n",
       "            evt.data.type = \"image/png\";\n",
       "\n",
       "            /* Free the memory for the previous frames */\n",
       "            if (fig.imageObj.src) {\n",
       "                (window.URL || window.webkitURL).revokeObjectURL(\n",
       "                    fig.imageObj.src);\n",
       "            }\n",
       "\n",
       "            fig.imageObj.src = (window.URL || window.webkitURL).createObjectURL(\n",
       "                evt.data);\n",
       "            fig.updated_canvas_event();\n",
       "            fig.waiting = false;\n",
       "            return;\n",
       "        }\n",
       "        else if (typeof evt.data === 'string' && evt.data.slice(0, 21) == \"data:image/png;base64\") {\n",
       "            fig.imageObj.src = evt.data;\n",
       "            fig.updated_canvas_event();\n",
       "            fig.waiting = false;\n",
       "            return;\n",
       "        }\n",
       "\n",
       "        var msg = JSON.parse(evt.data);\n",
       "        var msg_type = msg['type'];\n",
       "\n",
       "        // Call the  \"handle_{type}\" callback, which takes\n",
       "        // the figure and JSON message as its only arguments.\n",
       "        try {\n",
       "            var callback = fig[\"handle_\" + msg_type];\n",
       "        } catch (e) {\n",
       "            console.log(\"No handler for the '\" + msg_type + \"' message type: \", msg);\n",
       "            return;\n",
       "        }\n",
       "\n",
       "        if (callback) {\n",
       "            try {\n",
       "                // console.log(\"Handling '\" + msg_type + \"' message: \", msg);\n",
       "                callback(fig, msg);\n",
       "            } catch (e) {\n",
       "                console.log(\"Exception inside the 'handler_\" + msg_type + \"' callback:\", e, e.stack, msg);\n",
       "            }\n",
       "        }\n",
       "    };\n",
       "}\n",
       "\n",
       "// from http://stackoverflow.com/questions/1114465/getting-mouse-location-in-canvas\n",
       "mpl.findpos = function(e) {\n",
       "    //this section is from http://www.quirksmode.org/js/events_properties.html\n",
       "    var targ;\n",
       "    if (!e)\n",
       "        e = window.event;\n",
       "    if (e.target)\n",
       "        targ = e.target;\n",
       "    else if (e.srcElement)\n",
       "        targ = e.srcElement;\n",
       "    if (targ.nodeType == 3) // defeat Safari bug\n",
       "        targ = targ.parentNode;\n",
       "\n",
       "    // jQuery normalizes the pageX and pageY\n",
       "    // pageX,Y are the mouse positions relative to the document\n",
       "    // offset() returns the position of the element relative to the document\n",
       "    var x = e.pageX - $(targ).offset().left;\n",
       "    var y = e.pageY - $(targ).offset().top;\n",
       "\n",
       "    return {\"x\": x, \"y\": y};\n",
       "};\n",
       "\n",
       "/*\n",
       " * return a copy of an object with only non-object keys\n",
       " * we need this to avoid circular references\n",
       " * http://stackoverflow.com/a/24161582/3208463\n",
       " */\n",
       "function simpleKeys (original) {\n",
       "  return Object.keys(original).reduce(function (obj, key) {\n",
       "    if (typeof original[key] !== 'object')\n",
       "        obj[key] = original[key]\n",
       "    return obj;\n",
       "  }, {});\n",
       "}\n",
       "\n",
       "mpl.figure.prototype.mouse_event = function(event, name) {\n",
       "    var canvas_pos = mpl.findpos(event)\n",
       "\n",
       "    if (name === 'button_press')\n",
       "    {\n",
       "        this.canvas.focus();\n",
       "        this.canvas_div.focus();\n",
       "    }\n",
       "\n",
       "    var x = canvas_pos.x * mpl.ratio;\n",
       "    var y = canvas_pos.y * mpl.ratio;\n",
       "\n",
       "    this.send_message(name, {x: x, y: y, button: event.button,\n",
       "                             step: event.step,\n",
       "                             guiEvent: simpleKeys(event)});\n",
       "\n",
       "    /* This prevents the web browser from automatically changing to\n",
       "     * the text insertion cursor when the button is pressed.  We want\n",
       "     * to control all of the cursor setting manually through the\n",
       "     * 'cursor' event from matplotlib */\n",
       "    event.preventDefault();\n",
       "    return false;\n",
       "}\n",
       "\n",
       "mpl.figure.prototype._key_event_extra = function(event, name) {\n",
       "    // Handle any extra behaviour associated with a key event\n",
       "}\n",
       "\n",
       "mpl.figure.prototype.key_event = function(event, name) {\n",
       "\n",
       "    // Prevent repeat events\n",
       "    if (name == 'key_press')\n",
       "    {\n",
       "        if (event.which === this._key)\n",
       "            return;\n",
       "        else\n",
       "            this._key = event.which;\n",
       "    }\n",
       "    if (name == 'key_release')\n",
       "        this._key = null;\n",
       "\n",
       "    var value = '';\n",
       "    if (event.ctrlKey && event.which != 17)\n",
       "        value += \"ctrl+\";\n",
       "    if (event.altKey && event.which != 18)\n",
       "        value += \"alt+\";\n",
       "    if (event.shiftKey && event.which != 16)\n",
       "        value += \"shift+\";\n",
       "\n",
       "    value += 'k';\n",
       "    value += event.which.toString();\n",
       "\n",
       "    this._key_event_extra(event, name);\n",
       "\n",
       "    this.send_message(name, {key: value,\n",
       "                             guiEvent: simpleKeys(event)});\n",
       "    return false;\n",
       "}\n",
       "\n",
       "mpl.figure.prototype.toolbar_button_onclick = function(name) {\n",
       "    if (name == 'download') {\n",
       "        this.handle_save(this, null);\n",
       "    } else {\n",
       "        this.send_message(\"toolbar_button\", {name: name});\n",
       "    }\n",
       "};\n",
       "\n",
       "mpl.figure.prototype.toolbar_button_onmouseover = function(tooltip) {\n",
       "    this.message.textContent = tooltip;\n",
       "};\n",
       "mpl.toolbar_items = [[\"Home\", \"Reset original view\", \"fa fa-home icon-home\", \"home\"], [\"Back\", \"Back to previous view\", \"fa fa-arrow-left icon-arrow-left\", \"back\"], [\"Forward\", \"Forward to next view\", \"fa fa-arrow-right icon-arrow-right\", \"forward\"], [\"\", \"\", \"\", \"\"], [\"Pan\", \"Pan axes with left mouse, zoom with right\", \"fa fa-arrows icon-move\", \"pan\"], [\"Zoom\", \"Zoom to rectangle\", \"fa fa-square-o icon-check-empty\", \"zoom\"], [\"\", \"\", \"\", \"\"], [\"Download\", \"Download plot\", \"fa fa-floppy-o icon-save\", \"download\"]];\n",
       "\n",
       "mpl.extensions = [\"eps\", \"jpeg\", \"pdf\", \"png\", \"ps\", \"raw\", \"svg\", \"tif\"];\n",
       "\n",
       "mpl.default_extension = \"png\";var comm_websocket_adapter = function(comm) {\n",
       "    // Create a \"websocket\"-like object which calls the given IPython comm\n",
       "    // object with the appropriate methods. Currently this is a non binary\n",
       "    // socket, so there is still some room for performance tuning.\n",
       "    var ws = {};\n",
       "\n",
       "    ws.close = function() {\n",
       "        comm.close()\n",
       "    };\n",
       "    ws.send = function(m) {\n",
       "        //console.log('sending', m);\n",
       "        comm.send(m);\n",
       "    };\n",
       "    // Register the callback with on_msg.\n",
       "    comm.on_msg(function(msg) {\n",
       "        //console.log('receiving', msg['content']['data'], msg);\n",
       "        // Pass the mpl event to the overridden (by mpl) onmessage function.\n",
       "        ws.onmessage(msg['content']['data'])\n",
       "    });\n",
       "    return ws;\n",
       "}\n",
       "\n",
       "mpl.mpl_figure_comm = function(comm, msg) {\n",
       "    // This is the function which gets called when the mpl process\n",
       "    // starts-up an IPython Comm through the \"matplotlib\" channel.\n",
       "\n",
       "    var id = msg.content.data.id;\n",
       "    // Get hold of the div created by the display call when the Comm\n",
       "    // socket was opened in Python.\n",
       "    var element = $(\"#\" + id);\n",
       "    var ws_proxy = comm_websocket_adapter(comm)\n",
       "\n",
       "    function ondownload(figure, format) {\n",
       "        window.open(figure.imageObj.src);\n",
       "    }\n",
       "\n",
       "    var fig = new mpl.figure(id, ws_proxy,\n",
       "                           ondownload,\n",
       "                           element.get(0));\n",
       "\n",
       "    // Call onopen now - mpl needs it, as it is assuming we've passed it a real\n",
       "    // web socket which is closed, not our websocket->open comm proxy.\n",
       "    ws_proxy.onopen();\n",
       "\n",
       "    fig.parent_element = element.get(0);\n",
       "    fig.cell_info = mpl.find_output_cell(\"<div id='\" + id + \"'></div>\");\n",
       "    if (!fig.cell_info) {\n",
       "        console.error(\"Failed to find cell for figure\", id, fig);\n",
       "        return;\n",
       "    }\n",
       "\n",
       "    var output_index = fig.cell_info[2]\n",
       "    var cell = fig.cell_info[0];\n",
       "\n",
       "};\n",
       "\n",
       "mpl.figure.prototype.handle_close = function(fig, msg) {\n",
       "    var width = fig.canvas.width/mpl.ratio\n",
       "    fig.root.unbind('remove')\n",
       "\n",
       "    // Update the output cell to use the data from the current canvas.\n",
       "    fig.push_to_output();\n",
       "    var dataURL = fig.canvas.toDataURL();\n",
       "    // Re-enable the keyboard manager in IPython - without this line, in FF,\n",
       "    // the notebook keyboard shortcuts fail.\n",
       "    IPython.keyboard_manager.enable()\n",
       "    $(fig.parent_element).html('<img src=\"' + dataURL + '\" width=\"' + width + '\">');\n",
       "    fig.close_ws(fig, msg);\n",
       "}\n",
       "\n",
       "mpl.figure.prototype.close_ws = function(fig, msg){\n",
       "    fig.send_message('closing', msg);\n",
       "    // fig.ws.close()\n",
       "}\n",
       "\n",
       "mpl.figure.prototype.push_to_output = function(remove_interactive) {\n",
       "    // Turn the data on the canvas into data in the output cell.\n",
       "    var width = this.canvas.width/mpl.ratio\n",
       "    var dataURL = this.canvas.toDataURL();\n",
       "    this.cell_info[1]['text/html'] = '<img src=\"' + dataURL + '\" width=\"' + width + '\">';\n",
       "}\n",
       "\n",
       "mpl.figure.prototype.updated_canvas_event = function() {\n",
       "    // Tell IPython that the notebook contents must change.\n",
       "    IPython.notebook.set_dirty(true);\n",
       "    this.send_message(\"ack\", {});\n",
       "    var fig = this;\n",
       "    // Wait a second, then push the new image to the DOM so\n",
       "    // that it is saved nicely (might be nice to debounce this).\n",
       "    setTimeout(function () { fig.push_to_output() }, 1000);\n",
       "}\n",
       "\n",
       "mpl.figure.prototype._init_toolbar = function() {\n",
       "    var fig = this;\n",
       "\n",
       "    var nav_element = $('<div/>');\n",
       "    nav_element.attr('style', 'width: 100%');\n",
       "    this.root.append(nav_element);\n",
       "\n",
       "    // Define a callback function for later on.\n",
       "    function toolbar_event(event) {\n",
       "        return fig.toolbar_button_onclick(event['data']);\n",
       "    }\n",
       "    function toolbar_mouse_event(event) {\n",
       "        return fig.toolbar_button_onmouseover(event['data']);\n",
       "    }\n",
       "\n",
       "    for(var toolbar_ind in mpl.toolbar_items){\n",
       "        var name = mpl.toolbar_items[toolbar_ind][0];\n",
       "        var tooltip = mpl.toolbar_items[toolbar_ind][1];\n",
       "        var image = mpl.toolbar_items[toolbar_ind][2];\n",
       "        var method_name = mpl.toolbar_items[toolbar_ind][3];\n",
       "\n",
       "        if (!name) { continue; };\n",
       "\n",
       "        var button = $('<button class=\"btn btn-default\" href=\"#\" title=\"' + name + '\"><i class=\"fa ' + image + ' fa-lg\"></i></button>');\n",
       "        button.click(method_name, toolbar_event);\n",
       "        button.mouseover(tooltip, toolbar_mouse_event);\n",
       "        nav_element.append(button);\n",
       "    }\n",
       "\n",
       "    // Add the status bar.\n",
       "    var status_bar = $('<span class=\"mpl-message\" style=\"text-align:right; float: right;\"/>');\n",
       "    nav_element.append(status_bar);\n",
       "    this.message = status_bar[0];\n",
       "\n",
       "    // Add the close button to the window.\n",
       "    var buttongrp = $('<div class=\"btn-group inline pull-right\"></div>');\n",
       "    var button = $('<button class=\"btn btn-mini btn-primary\" href=\"#\" title=\"Stop Interaction\"><i class=\"fa fa-power-off icon-remove icon-large\"></i></button>');\n",
       "    button.click(function (evt) { fig.handle_close(fig, {}); } );\n",
       "    button.mouseover('Stop Interaction', toolbar_mouse_event);\n",
       "    buttongrp.append(button);\n",
       "    var titlebar = this.root.find($('.ui-dialog-titlebar'));\n",
       "    titlebar.prepend(buttongrp);\n",
       "}\n",
       "\n",
       "mpl.figure.prototype._root_extra_style = function(el){\n",
       "    var fig = this\n",
       "    el.on(\"remove\", function(){\n",
       "\tfig.close_ws(fig, {});\n",
       "    });\n",
       "}\n",
       "\n",
       "mpl.figure.prototype._canvas_extra_style = function(el){\n",
       "    // this is important to make the div 'focusable\n",
       "    el.attr('tabindex', 0)\n",
       "    // reach out to IPython and tell the keyboard manager to turn it's self\n",
       "    // off when our div gets focus\n",
       "\n",
       "    // location in version 3\n",
       "    if (IPython.notebook.keyboard_manager) {\n",
       "        IPython.notebook.keyboard_manager.register_events(el);\n",
       "    }\n",
       "    else {\n",
       "        // location in version 2\n",
       "        IPython.keyboard_manager.register_events(el);\n",
       "    }\n",
       "\n",
       "}\n",
       "\n",
       "mpl.figure.prototype._key_event_extra = function(event, name) {\n",
       "    var manager = IPython.notebook.keyboard_manager;\n",
       "    if (!manager)\n",
       "        manager = IPython.keyboard_manager;\n",
       "\n",
       "    // Check for shift+enter\n",
       "    if (event.shiftKey && event.which == 13) {\n",
       "        this.canvas_div.blur();\n",
       "        event.shiftKey = false;\n",
       "        // Send a \"J\" for go to next cell\n",
       "        event.which = 74;\n",
       "        event.keyCode = 74;\n",
       "        manager.command_mode();\n",
       "        manager.handle_keydown(event);\n",
       "    }\n",
       "}\n",
       "\n",
       "mpl.figure.prototype.handle_save = function(fig, msg) {\n",
       "    fig.ondownload(fig, null);\n",
       "}\n",
       "\n",
       "\n",
       "mpl.find_output_cell = function(html_output) {\n",
       "    // Return the cell and output element which can be found *uniquely* in the notebook.\n",
       "    // Note - this is a bit hacky, but it is done because the \"notebook_saving.Notebook\"\n",
       "    // IPython event is triggered only after the cells have been serialised, which for\n",
       "    // our purposes (turning an active figure into a static one), is too late.\n",
       "    var cells = IPython.notebook.get_cells();\n",
       "    var ncells = cells.length;\n",
       "    for (var i=0; i<ncells; i++) {\n",
       "        var cell = cells[i];\n",
       "        if (cell.cell_type === 'code'){\n",
       "            for (var j=0; j<cell.output_area.outputs.length; j++) {\n",
       "                var data = cell.output_area.outputs[j];\n",
       "                if (data.data) {\n",
       "                    // IPython >= 3 moved mimebundle to data attribute of output\n",
       "                    data = data.data;\n",
       "                }\n",
       "                if (data['text/html'] == html_output) {\n",
       "                    return [cell, data, j];\n",
       "                }\n",
       "            }\n",
       "        }\n",
       "    }\n",
       "}\n",
       "\n",
       "// Register the function which deals with the matplotlib target/channel.\n",
       "// The kernel may be null if the page has been refreshed.\n",
       "if (IPython.notebook.kernel != null) {\n",
       "    IPython.notebook.kernel.comm_manager.register_target('matplotlib', mpl.mpl_figure_comm);\n",
       "}\n"
      ],
      "text/plain": [
       "<IPython.core.display.Javascript object>"
      ]
     },
     "metadata": {},
     "output_type": "display_data"
    },
    {
     "data": {
      "text/html": [
       "<img src=\"data:image/png;base64,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\" width=\"640\">"
      ],
      "text/plain": [
       "<IPython.core.display.HTML object>"
      ]
     },
     "metadata": {},
     "output_type": "display_data"
    },
    {
     "data": {
      "text/plain": [
       "<matplotlib.legend.Legend at 0x19da5cddcc8>"
      ]
     },
     "execution_count": 26,
     "metadata": {},
     "output_type": "execute_result"
    }
   ],
   "source": [
    "plt.figure()\n",
    "y = range(20, 23)\n",
    "z = [867.5400000000001, 844.8000000000003, 814.34]\n",
    "a = [867.5400000000001, 844.8000000000003+20, 814.34+40]\n",
    "\n",
    "plt.plot(y,z, label = \"EEL\")\n",
    "plt.plot(y,a,label = \"Total EL\")\n",
    "#plt.plot(y,np.linspace(0,200,num = 3), label = \"Bin costs\")\n",
    "ax = plt.gca()\n",
    "ax.set_xlabel('Bins')\n",
    "ax.grid()\n",
    "plt.legend()"
   ]
  },
  {
   "cell_type": "code",
   "execution_count": 20,
   "metadata": {},
   "outputs": [
    {
     "data": {
      "text/plain": [
       "880.44"
      ]
     },
     "execution_count": 20,
     "metadata": {},
     "output_type": "execute_result"
    }
   ],
   "source": [
    "eel_pat(100,PR_1(100,23,item_4))"
   ]
  },
  {
   "cell_type": "markdown",
   "metadata": {},
   "source": [
    "#### Model 2"
   ]
  },
  {
   "cell_type": "code",
   "execution_count": 21,
   "metadata": {},
   "outputs": [
    {
     "data": {
      "text/plain": [
       "878.74"
      ]
     },
     "execution_count": 21,
     "metadata": {},
     "output_type": "execute_result"
    }
   ],
   "source": [
    "eel_pat(100,PR_2(100,20,item_4))"
   ]
  },
  {
   "cell_type": "code",
   "execution_count": 22,
   "metadata": {},
   "outputs": [
    {
     "data": {
      "text/plain": [
       "847.36"
      ]
     },
     "execution_count": 22,
     "metadata": {},
     "output_type": "execute_result"
    }
   ],
   "source": [
    "eel_pat(100,PR_2(100,21,item_4))"
   ]
  },
  {
   "cell_type": "code",
   "execution_count": 23,
   "metadata": {},
   "outputs": [
    {
     "data": {
      "text/plain": [
       "817.9999999999999"
      ]
     },
     "execution_count": 23,
     "metadata": {},
     "output_type": "execute_result"
    }
   ],
   "source": [
    "eel_pat(100,PR_2(100,22,item_4))"
   ]
  },
  {
   "cell_type": "code",
   "execution_count": 20,
   "metadata": {},
   "outputs": [
    {
     "data": {
      "text/plain": [
       "850.82"
      ]
     },
     "execution_count": 20,
     "metadata": {},
     "output_type": "execute_result"
    }
   ],
   "source": [
    "eel_pat(100,PR_2(100,23,item_4))"
   ]
  },
  {
   "cell_type": "markdown",
   "metadata": {},
   "source": [
    "### Group 1, Instance 5"
   ]
  },
  {
   "cell_type": "markdown",
   "metadata": {},
   "source": [
    "#### Model 1"
   ]
  },
  {
   "cell_type": "code",
   "execution_count": 56,
   "metadata": {},
   "outputs": [
    {
     "data": {
      "text/plain": [
       "1309.7399999999998"
      ]
     },
     "execution_count": 56,
     "metadata": {},
     "output_type": "execute_result"
    }
   ],
   "source": [
    "eel_pat(100,pattern_set_5)"
   ]
  },
  {
   "cell_type": "code",
   "execution_count": 13,
   "metadata": {
    "scrolled": true
   },
   "outputs": [
    {
     "data": {
      "text/plain": [
       "1306.8"
      ]
     },
     "execution_count": 13,
     "metadata": {},
     "output_type": "execute_result"
    }
   ],
   "source": [
    "eel_pat(100,PR_1(100,26,item_5))"
   ]
  },
  {
   "cell_type": "code",
   "execution_count": 14,
   "metadata": {},
   "outputs": [
    {
     "data": {
      "text/plain": [
       "1285.04"
      ]
     },
     "execution_count": 14,
     "metadata": {},
     "output_type": "execute_result"
    }
   ],
   "source": [
    "eel_pat(100,PR_1(100,27,item_5))"
   ]
  },
  {
   "cell_type": "code",
   "execution_count": 15,
   "metadata": {},
   "outputs": [
    {
     "data": {
      "text/plain": [
       "1262.6399999999999"
      ]
     },
     "execution_count": 15,
     "metadata": {},
     "output_type": "execute_result"
    }
   ],
   "source": [
    "eel_pat(100,PR_1(100,28,item_5))"
   ]
  },
  {
   "cell_type": "code",
   "execution_count": 19,
   "metadata": {},
   "outputs": [
    {
     "data": {
      "text/plain": [
       "1286.04"
      ]
     },
     "execution_count": 19,
     "metadata": {},
     "output_type": "execute_result"
    }
   ],
   "source": [
    "eel_pat(100,PR_1(100,29,item_5))"
   ]
  },
  {
   "cell_type": "code",
   "execution_count": 63,
   "metadata": {},
   "outputs": [
    {
     "data": {
      "text/plain": [
       "[[696.5999999999999,\n",
       "  806.44,\n",
       "  561.7199999999999,\n",
       "  525.2199999999998,\n",
       "  838.86,\n",
       "  483.1599999999999,\n",
       "  587.6800000000001,\n",
       "  579.92,\n",
       "  781.16,\n",
       "  720.8],\n",
       " 483.1599999999999,\n",
       " 838.86,\n",
       " 658.156,\n",
       " 15984.166293333345]"
      ]
     },
     "execution_count": 63,
     "metadata": {},
     "output_type": "execute_result"
    }
   ],
   "source": [
    "p_eel(100,PR_1(100,26,item_5))"
   ]
  },
  {
   "cell_type": "code",
   "execution_count": 64,
   "metadata": {},
   "outputs": [
    {
     "data": {
      "text/plain": [
       "[[572.8000000000001,\n",
       "  498.93999999999994,\n",
       "  592.3799999999998,\n",
       "  553.5799999999999,\n",
       "  613.56,\n",
       "  675.16,\n",
       "  735.9199999999997,\n",
       "  697.2399999999998,\n",
       "  634.3,\n",
       "  692.3999999999999],\n",
       " 498.93999999999994,\n",
       " 735.9199999999997,\n",
       " 626.6279999999999,\n",
       " 5505.817084444436]"
      ]
     },
     "execution_count": 64,
     "metadata": {},
     "output_type": "execute_result"
    }
   ],
   "source": [
    "p_eel(100,PR_1(100,27,item_5))"
   ]
  },
  {
   "cell_type": "markdown",
   "metadata": {},
   "source": [
    "#### Model 2"
   ]
  },
  {
   "cell_type": "code",
   "execution_count": 26,
   "metadata": {},
   "outputs": [
    {
     "data": {
      "text/plain": [
       "882.08"
      ]
     },
     "execution_count": 26,
     "metadata": {},
     "output_type": "execute_result"
    }
   ],
   "source": [
    "eel_pat(100,pattern_set_5)"
   ]
  },
  {
   "cell_type": "code",
   "execution_count": 16,
   "metadata": {},
   "outputs": [
    {
     "data": {
      "text/plain": [
       "1284.96"
      ]
     },
     "execution_count": 16,
     "metadata": {},
     "output_type": "execute_result"
    }
   ],
   "source": [
    "eel_pat(100,PR_2(100,26,item_5))"
   ]
  },
  {
   "cell_type": "code",
   "execution_count": 18,
   "metadata": {},
   "outputs": [
    {
     "data": {
      "text/plain": [
       "1254.1800000000005"
      ]
     },
     "execution_count": 18,
     "metadata": {},
     "output_type": "execute_result"
    }
   ],
   "source": [
    "eel_pat(100,PR_2(100,27,item_5))"
   ]
  },
  {
   "cell_type": "code",
   "execution_count": 20,
   "metadata": {
    "scrolled": true
   },
   "outputs": [
    {
     "data": {
      "text/plain": [
       "1258.8799999999999"
      ]
     },
     "execution_count": 20,
     "metadata": {},
     "output_type": "execute_result"
    }
   ],
   "source": [
    "eel_pat(100,PR_2(100,28,item_5))"
   ]
  },
  {
   "cell_type": "code",
   "execution_count": 25,
   "metadata": {},
   "outputs": [
    {
     "data": {
      "text/plain": [
       "[[665.9799999999998,\n",
       "  850.72,\n",
       "  518.4,\n",
       "  585.3,\n",
       "  821.32,\n",
       "  462.84000000000003,\n",
       "  709.3399999999997,\n",
       "  473.98,\n",
       "  664.4199999999998,\n",
       "  901.72],\n",
       " 462.84000000000003,\n",
       " 901.72,\n",
       " 665.4019999999999,\n",
       " 24681.210173333333]"
      ]
     },
     "execution_count": 25,
     "metadata": {},
     "output_type": "execute_result"
    }
   ],
   "source": [
    "p_eel(100,PR_2(100,26,item_5))"
   ]
  },
  {
   "cell_type": "code",
   "execution_count": 26,
   "metadata": {},
   "outputs": [
    {
     "data": {
      "text/plain": [
       "[[630.2799999999999,\n",
       "  768.1,\n",
       "  554.4399999999999,\n",
       "  698.6399999999999,\n",
       "  547.9199999999998,\n",
       "  574.2599999999999,\n",
       "  648.3399999999998,\n",
       "  756.02,\n",
       "  869.16,\n",
       "  596.08],\n",
       " 547.9199999999998,\n",
       " 869.16,\n",
       " 664.324,\n",
       " 11346.73598222223]"
      ]
     },
     "execution_count": 26,
     "metadata": {},
     "output_type": "execute_result"
    }
   ],
   "source": [
    "p_eel(100,PR_2(100,27,item_5))"
   ]
  },
  {
   "cell_type": "code",
   "execution_count": 37,
   "metadata": {},
   "outputs": [
    {
     "data": {
      "text/plain": [
       "880.44"
      ]
     },
     "execution_count": 37,
     "metadata": {},
     "output_type": "execute_result"
    }
   ],
   "source": [
    "eel_pat(100,PR_1(100,23,item_5))"
   ]
  },
  {
   "cell_type": "code",
   "execution_count": null,
   "metadata": {},
   "outputs": [],
   "source": [
    "plt.figure()\n",
    "y = range(20, 23)\n",
    "z = [867.5400000000001, 844.8000000000003, 814.34]\n",
    "a = [867.5400000000001, 844.8000000000003+100, 814.34+200]\n",
    "\n",
    "plt.plot(y,z, label = \"EEL\")\n",
    "plt.plot(y,a,label = \"Total EL\")\n",
    "plt.plot(y,np.linspace(0,200,num = 3), label = \"Bin costs\")\n",
    "ax = plt.gca()\n",
    "ax.set_xlabel('Bins')\n",
    "ax.grid()\n",
    "plt.legend()"
   ]
  },
  {
   "cell_type": "markdown",
   "metadata": {},
   "source": [
    "#### Model 2"
   ]
  },
  {
   "cell_type": "code",
   "execution_count": 34,
   "metadata": {},
   "outputs": [
    {
     "data": {
      "text/plain": [
       "878.74"
      ]
     },
     "execution_count": 34,
     "metadata": {},
     "output_type": "execute_result"
    }
   ],
   "source": [
    "eel_pat(100,PR_2(100,20,item_5))"
   ]
  },
  {
   "cell_type": "code",
   "execution_count": 35,
   "metadata": {},
   "outputs": [
    {
     "data": {
      "text/plain": [
       "847.36"
      ]
     },
     "execution_count": 35,
     "metadata": {},
     "output_type": "execute_result"
    }
   ],
   "source": [
    "eel_pat(100,PR_2(100,21,item_5))"
   ]
  },
  {
   "cell_type": "code",
   "execution_count": 36,
   "metadata": {},
   "outputs": [
    {
     "data": {
      "text/plain": [
       "817.9999999999999"
      ]
     },
     "execution_count": 36,
     "metadata": {},
     "output_type": "execute_result"
    }
   ],
   "source": [
    "eel_pat(100,PR_2(100,22,item_5))"
   ]
  },
  {
   "cell_type": "code",
   "execution_count": 38,
   "metadata": {},
   "outputs": [
    {
     "data": {
      "text/plain": [
       "850.82"
      ]
     },
     "execution_count": 38,
     "metadata": {},
     "output_type": "execute_result"
    }
   ],
   "source": [
    "eel_pat(100,PR_2(100,23,item_5))"
   ]
  },
  {
   "cell_type": "code",
   "execution_count": 131,
   "metadata": {},
   "outputs": [
    {
     "data": {
      "text/plain": [
       "1196.4399999999998"
      ]
     },
     "execution_count": 131,
     "metadata": {},
     "output_type": "execute_result"
    }
   ],
   "source": [
    "eel_pat(100,pattern_set_7)"
   ]
  },
  {
   "cell_type": "markdown",
   "metadata": {},
   "source": [
    "### Group 1, Instance 6\n",
    "\n",
    "#### Model 1"
   ]
  },
  {
   "cell_type": "code",
   "execution_count": null,
   "metadata": {},
   "outputs": [],
   "source": [
    "[eel_pat(100,PR_1(100,m,item_6)) for m in range(28,31)]"
   ]
  },
  {
   "cell_type": "code",
   "execution_count": 12,
   "metadata": {},
   "outputs": [
    {
     "data": {
      "text/plain": [
       "[1525.68, 1555.5600000000002, 1532.2600000000002]"
      ]
     },
     "execution_count": 12,
     "metadata": {},
     "output_type": "execute_result"
    }
   ],
   "source": [
    "c = [eel_pat(100,PR_1(100,m,item_6)) for m in range(28,31)]\n",
    "c"
   ]
  },
  {
   "cell_type": "markdown",
   "metadata": {},
   "source": [
    "### Group 1, Instance 7\n",
    "\n",
    "#### Model 1"
   ]
  },
  {
   "cell_type": "code",
   "execution_count": 55,
   "metadata": {},
   "outputs": [
    {
     "data": {
      "text/plain": [
       "1228.68"
      ]
     },
     "execution_count": 55,
     "metadata": {},
     "output_type": "execute_result"
    }
   ],
   "source": [
    "eel_pat(100,pattern_set_7)"
   ]
  },
  {
   "cell_type": "code",
   "execution_count": 40,
   "metadata": {},
   "outputs": [
    {
     "data": {
      "text/plain": [
       "[538.9800000000001, 651.24, 691.8600000000001]"
      ]
     },
     "execution_count": 40,
     "metadata": {},
     "output_type": "execute_result"
    }
   ],
   "source": [
    "a = [eel_pat(100,PR_1(100,m,item_7)) for m in range(25,28)]\n",
    "a"
   ]
  },
  {
   "cell_type": "code",
   "execution_count": 28,
   "metadata": {},
   "outputs": [
    {
     "data": {
      "text/plain": [
       "[[565.0200000000002,\n",
       "  499.3800000000001,\n",
       "  536.1400000000001,\n",
       "  622.2199999999999,\n",
       "  532.9200000000002,\n",
       "  436.58,\n",
       "  627.0600000000002,\n",
       "  718.4999999999999,\n",
       "  658.0799999999999,\n",
       "  496.32000000000005],\n",
       " 436.58,\n",
       " 718.4999999999999,\n",
       " 569.2220000000001,\n",
       " 7394.45612888888]"
      ]
     },
     "execution_count": 28,
     "metadata": {},
     "output_type": "execute_result"
    }
   ],
   "source": [
    "p_eel(100,PR_1(100,25,item_7))"
   ]
  },
  {
   "cell_type": "code",
   "execution_count": 27,
   "metadata": {},
   "outputs": [
    {
     "data": {
      "text/plain": [
       "[[759.8,\n",
       "  860.7200000000003,\n",
       "  799.1400000000001,\n",
       "  414.5400000000001,\n",
       "  473.04,\n",
       "  552.3,\n",
       "  774.6600000000001,\n",
       "  530.9199999999998,\n",
       "  505.35999999999996,\n",
       "  585.1400000000001],\n",
       " 414.5400000000001,\n",
       " 860.7200000000003,\n",
       " 625.562,\n",
       " 24875.42155111113]"
      ]
     },
     "execution_count": 27,
     "metadata": {},
     "output_type": "execute_result"
    }
   ],
   "source": [
    "p_eel(100,PR_1(100,26,item_7))"
   ]
  },
  {
   "cell_type": "markdown",
   "metadata": {},
   "source": [
    "#### Model 2"
   ]
  },
  {
   "cell_type": "code",
   "execution_count": 10,
   "metadata": {},
   "outputs": [
    {
     "data": {
      "text/plain": [
       "[1134.0000000000002, 1106.7999999999997, 1110.48]"
      ]
     },
     "execution_count": 10,
     "metadata": {},
     "output_type": "execute_result"
    }
   ],
   "source": [
    "b = [eel_pat(100,PR_2(100,m,item_7)) for m in range(25,28)]\n",
    "b"
   ]
  },
  {
   "cell_type": "code",
   "execution_count": 29,
   "metadata": {},
   "outputs": [
    {
     "data": {
      "text/plain": [
       "[[710.0000000000001,\n",
       "  520.4999999999999,\n",
       "  455.9599999999999,\n",
       "  466.0799999999999,\n",
       "  590.86,\n",
       "  481.96,\n",
       "  797.9399999999999,\n",
       "  687.66,\n",
       "  600.9599999999999,\n",
       "  634.5799999999999],\n",
       " 455.9599999999999,\n",
       " 797.9399999999999,\n",
       " 594.65,\n",
       " 13210.47904444445]"
      ]
     },
     "execution_count": 29,
     "metadata": {},
     "output_type": "execute_result"
    }
   ],
   "source": [
    "p_eel(100,PR_2(100,25,item_7))"
   ]
  },
  {
   "cell_type": "code",
   "execution_count": 30,
   "metadata": {},
   "outputs": [
    {
     "data": {
      "text/plain": [
       "[[488.76,\n",
       "  840.16,\n",
       "  730.9000000000001,\n",
       "  664.68,\n",
       "  505.3,\n",
       "  542.5,\n",
       "  501.7199999999999,\n",
       "  457.74,\n",
       "  561.1999999999999,\n",
       "  583.4399999999999],\n",
       " 457.74,\n",
       " 840.16,\n",
       " 587.64,\n",
       " 14865.851022222225]"
      ]
     },
     "execution_count": 30,
     "metadata": {},
     "output_type": "execute_result"
    }
   ],
   "source": [
    "p_eel(100,PR_2(100,26,item_7))"
   ]
  },
  {
   "cell_type": "markdown",
   "metadata": {},
   "source": [
    "### Group 2\n"
   ]
  },
  {
   "cell_type": "code",
   "execution_count": 17,
   "metadata": {},
   "outputs": [],
   "source": [
    "item_8 = [99, 97, 95, 95, 94, 92, 91, 89, 86, 86, 85, 84, 80, 80, 80, 80, 80, 79, 76, 76, 75, 74, 73, 71, 71, 69, 65, 64, \n",
    "          64, 64, 63, 63, 62, 60, 59, 58, 57, 54, 53, 52, 51, 50, 48, 48, 48, 46, 44, 43, 43, 43, 43, 42, 41, 40, 40, 39,\n",
    "          38, 38,  38, 38, 37, 37, 37, 37, 36, 35, 34, 33, 32, 30, 29, 28, 26, 26, 26, 24, 23, 22, 21, 21, 19, 18, 17, 16,\n",
    "          16, 15, 14, 13, 12, 12, 11, 9, 9, 8, 8, 7, 6, 6, 5, 1]\n",
    "pattern_set_8 = [ [63, 37], [64, 32, 1], [38, 37, 17, 8] , [43, 39, 18], [84, 16], [85, 15] , [69, 26, 5], [86, 14] ,\n",
    "                 [74, 26], [89, 11], [80, 12, 8], [80, 13, 7 ], [50, 38, 12], [80, 19], [91, 9 ], [44, 40, 16], [75, 24],\n",
    "                 [64, 36], [94, 6] , [92, 6] , [48, 43, 9], [71, 29], [62, 38], [63, 37], [60, 40], [65, 35 ], [99],\n",
    "                 [57, 43 ], [97], [95], [76, 23],[79, 21] ,[95],[71, 28] , [52, 48],[59, 41],[73, 26] ,[54, 46], [64, 34],\n",
    "                 [37, 33, 30],[58, 42] , [51, 48] ,[76, 22] ,[53, 43] ,[86] , [80] , [80],[38, 21]]"
   ]
  },
  {
   "cell_type": "markdown",
   "metadata": {},
   "source": [
    "#### Instance 1"
   ]
  },
  {
   "cell_type": "markdown",
   "metadata": {},
   "source": [
    "#### Model 1"
   ]
  },
  {
   "cell_type": "code",
   "execution_count": null,
   "metadata": {},
   "outputs": [],
   "source": []
  },
  {
   "cell_type": "code",
   "execution_count": 11,
   "metadata": {
    "scrolled": true
   },
   "outputs": [
    {
     "data": {
      "text/plain": [
       "2384.7400000000007"
      ]
     },
     "execution_count": 11,
     "metadata": {},
     "output_type": "execute_result"
    }
   ],
   "source": [
    "eel_pat(100,pattern_set_8)"
   ]
  },
  {
   "cell_type": "code",
   "execution_count": 32,
   "metadata": {},
   "outputs": [
    {
     "data": {
      "text/plain": [
       "[[1296.96,\n",
       "  982.2199999999999,\n",
       "  977.26,\n",
       "  1057.9799999999996,\n",
       "  1240.7400000000002,\n",
       "  1255.46,\n",
       "  1018.0600000000001,\n",
       "  1435.8600000000004,\n",
       "  1299.52,\n",
       "  1183.9799999999998],\n",
       " 977.26,\n",
       " 1435.8600000000004,\n",
       " 1174.804,\n",
       " 24876.92300444448]"
      ]
     },
     "execution_count": 32,
     "metadata": {},
     "output_type": "execute_result"
    }
   ],
   "source": [
    "p_eel(100,PR_1(100,48,item_8))"
   ]
  },
  {
   "cell_type": "code",
   "execution_count": null,
   "metadata": {},
   "outputs": [],
   "source": [
    "p_eel(100,PR_2(100,48,item_8))"
   ]
  },
  {
   "cell_type": "code",
   "execution_count": 13,
   "metadata": {},
   "outputs": [
    {
     "data": {
      "text/plain": [
       "[[1246.6999999999996,\n",
       "  1317.6999999999996,\n",
       "  1330.0200000000002,\n",
       "  1220.44,\n",
       "  1134.26,\n",
       "  1164.8599999999997,\n",
       "  1090.86,\n",
       "  1298.78,\n",
       "  1231.0800000000002,\n",
       "  1084.3799999999994],\n",
       " 1084.3799999999994,\n",
       " 1330.0200000000002,\n",
       " 1211.908,\n",
       " 8166.523928888904]"
      ]
     },
     "execution_count": 13,
     "metadata": {},
     "output_type": "execute_result"
    }
   ],
   "source": [
    "p_eel(100,PR_1(100,49,item_8))"
   ]
  },
  {
   "cell_type": "code",
   "execution_count": null,
   "metadata": {},
   "outputs": [],
   "source": [
    "p_eel(100,PR_2(100,49,item_8))"
   ]
  },
  {
   "cell_type": "code",
   "execution_count": 34,
   "metadata": {},
   "outputs": [
    {
     "data": {
      "text/plain": [
       "[[1150.0199999999998,\n",
       "  1108.84,\n",
       "  1307.3599999999994,\n",
       "  1004.1799999999997,\n",
       "  1426.8399999999997,\n",
       "  1284.1399999999996,\n",
       "  1275.5399999999997,\n",
       "  1236.1799999999998,\n",
       "  1267.0399999999997,\n",
       "  1040.6599999999999],\n",
       " 1004.1799999999997,\n",
       " 1426.8399999999997,\n",
       " 1210.0799999999997,\n",
       " 17233.17004444443]"
      ]
     },
     "execution_count": 34,
     "metadata": {},
     "output_type": "execute_result"
    }
   ],
   "source": [
    "p_eel(100,PR_1(100,50,item_8))"
   ]
  },
  {
   "cell_type": "code",
   "execution_count": null,
   "metadata": {},
   "outputs": [],
   "source": [
    "p_eel(100,PR_2(100,50,item_8))"
   ]
  },
  {
   "cell_type": "code",
   "execution_count": 12,
   "metadata": {
    "scrolled": true
   },
   "outputs": [
    {
     "data": {
      "text/plain": [
       "[2294.5400000000004, 2268.8399999999997, 2252.78]"
      ]
     },
     "execution_count": 12,
     "metadata": {},
     "output_type": "execute_result"
    }
   ],
   "source": [
    "a = [eel_pat(100,PR_1(100,m,item_8)) for m in range(48,51)]\n",
    "a"
   ]
  },
  {
   "cell_type": "code",
   "execution_count": null,
   "metadata": {},
   "outputs": [],
   "source": [
    "eel_pat(100,PR_2(100,48,item_8)) "
   ]
  },
  {
   "cell_type": "code",
   "execution_count": 13,
   "metadata": {},
   "outputs": [
    {
     "data": {
      "text/plain": [
       "2294.5400000000004"
      ]
     },
     "execution_count": 13,
     "metadata": {},
     "output_type": "execute_result"
    }
   ],
   "source": [
    "eel_pat(100,PR_1(100,48,item_8))"
   ]
  },
  {
   "cell_type": "code",
   "execution_count": 14,
   "metadata": {},
   "outputs": [],
   "source": [
    "item_9 = [98, 97, 94, 92, 91, 91, 90, 89, 86, 85, 84, 83, 82, 81, 78, 76, 75, 73, 73, 72, 72, 71, 70, 70, 69, 69, 66, 64, \n",
    "          60, 60, 59, 58, 57, 56, 55, 54, 53, 52, 52, 51, 50, 49, 49, 48, 47, 47, 45, 43, 43, 43, 42, 42, 42, 42, 40, 39, \n",
    "          39, 36, 35, 34, 34, 34, 33, 32, 30, 30, 30, 29, 29, 28, 25, 23, 22, 22, 22, 22, 22, 20, 20, 19, 19, 18, 16, 16, \n",
    "          16, 15, 15, 15, 13, 12, 12, 10, 9, 8, 6, 5, 4, 4, 2, 2]\n",
    "\n",
    "pattern_set_9 = [[42, 33, 25], [34, 34, 32], [71, 29], [72, 28], [73, 22, 5], [75, 23, 2], [76, 22, 2], [69, 22, 9], \n",
    "                 [73, 19, 8], [47, 39, 10, 4], [90, 6, 4], [83, 16], [42, 42, 16], [86, 13], [98], [97], [52, 48], [57, 43],\n",
    "                 [55, 45], [85, 15], [84, 16], [82, 18], [81, 19], [64, 36], [78, 22], [60, 40], [51, 49], [53, 47], \n",
    "                 [70, 30], [70, 30], [66, 34], [59, 29, 12], [58, 42], [49, 39, 12], [50, 35, 15], [60, 20, 20], [69, 30], \n",
    "                 [56, 43], [94], [92], [91], [91], [54, 43], [72, 22], [89], [52, 15]]"
   ]
  },
  {
   "cell_type": "code",
   "execution_count": 36,
   "metadata": {},
   "outputs": [
    {
     "data": {
      "text/plain": [
       "[[1150.1999999999996,\n",
       "  788.8600000000001,\n",
       "  815.84,\n",
       "  1077.16,\n",
       "  933.8399999999999,\n",
       "  877.5400000000002,\n",
       "  1144.02,\n",
       "  1099.26,\n",
       "  1070.08,\n",
       "  794.6400000000001],\n",
       " 788.8600000000001,\n",
       " 1150.1999999999996,\n",
       " 975.144,\n",
       " 21986.927182222193]"
      ]
     },
     "execution_count": 36,
     "metadata": {},
     "output_type": "execute_result"
    }
   ],
   "source": [
    "p_eel(100,PR_1(100,46,item_9))"
   ]
  },
  {
   "cell_type": "code",
   "execution_count": null,
   "metadata": {},
   "outputs": [],
   "source": [
    "p_eel(100,PR_2(100,46,item_9))"
   ]
  },
  {
   "cell_type": "code",
   "execution_count": 39,
   "metadata": {
    "scrolled": true
   },
   "outputs": [
    {
     "data": {
      "text/plain": [
       "[[1058.4,\n",
       "  1055.22,\n",
       "  876.58,\n",
       "  931.22,\n",
       "  1213.3000000000004,\n",
       "  1137.0600000000004,\n",
       "  1189.8800000000003,\n",
       "  1052.4399999999998,\n",
       "  1110.7000000000003,\n",
       "  1383.18],\n",
       " 876.58,\n",
       " 1383.18,\n",
       " 1100.7980000000002,\n",
       " 20776.525462222246]"
      ]
     },
     "execution_count": 39,
     "metadata": {},
     "output_type": "execute_result"
    }
   ],
   "source": [
    "p_eel(100,PR_1(100,47,item_9))"
   ]
  },
  {
   "cell_type": "code",
   "execution_count": 1,
   "metadata": {},
   "outputs": [
    {
     "ename": "NameError",
     "evalue": "name 'p_eel' is not defined",
     "output_type": "error",
     "traceback": [
      "\u001b[1;31m---------------------------------------------------------------------------\u001b[0m",
      "\u001b[1;31mNameError\u001b[0m                                 Traceback (most recent call last)",
      "\u001b[1;32m<ipython-input-1-ef985482bd61>\u001b[0m in \u001b[0;36m<module>\u001b[1;34m\u001b[0m\n\u001b[1;32m----> 1\u001b[1;33m \u001b[0mp_eel\u001b[0m\u001b[1;33m(\u001b[0m\u001b[1;36m100\u001b[0m\u001b[1;33m,\u001b[0m\u001b[0mPR_1\u001b[0m\u001b[1;33m(\u001b[0m\u001b[1;36m100\u001b[0m\u001b[1;33m,\u001b[0m\u001b[1;36m47\u001b[0m\u001b[1;33m,\u001b[0m\u001b[0mitem_9\u001b[0m\u001b[1;33m)\u001b[0m\u001b[1;33m)\u001b[0m\u001b[1;33m\u001b[0m\u001b[1;33m\u001b[0m\u001b[0m\n\u001b[0m",
      "\u001b[1;31mNameError\u001b[0m: name 'p_eel' is not defined"
     ]
    }
   ],
   "source": [
    "p_eel(100,PR_1(100,47,item_9))"
   ]
  },
  {
   "cell_type": "code",
   "execution_count": null,
   "metadata": {},
   "outputs": [],
   "source": [
    "p_eel(100,PR_2(100,47,item_9))"
   ]
  },
  {
   "cell_type": "code",
   "execution_count": 40,
   "metadata": {},
   "outputs": [
    {
     "data": {
      "text/plain": [
       "[[957.2199999999997,\n",
       "  924.4399999999998,\n",
       "  1326.5400000000002,\n",
       "  1240.36,\n",
       "  1078.86,\n",
       "  973.4000000000001,\n",
       "  1049.3600000000001,\n",
       "  1081.0799999999997,\n",
       "  1440.5000000000005,\n",
       "  1095.14],\n",
       " 924.4399999999998,\n",
       " 1440.5000000000005,\n",
       " 1116.69,\n",
       " 28311.5430444445]"
      ]
     },
     "execution_count": 40,
     "metadata": {},
     "output_type": "execute_result"
    }
   ],
   "source": [
    "p_eel(100,PR_1(100,48,item_9))"
   ]
  },
  {
   "cell_type": "code",
   "execution_count": null,
   "metadata": {},
   "outputs": [],
   "source": [
    "p_eel(100,PR_2(100,48,item_9))"
   ]
  },
  {
   "cell_type": "markdown",
   "metadata": {},
   "source": [
    "a = [eel_pat(100,PR_1(100,m,item_9)) for m in range(46,50)]\n",
    "a"
   ]
  },
  {
   "cell_type": "code",
   "execution_count": 29,
   "metadata": {},
   "outputs": [
    {
     "data": {
      "text/plain": [
       "2202.24"
      ]
     },
     "execution_count": 29,
     "metadata": {},
     "output_type": "execute_result"
    }
   ],
   "source": [
    "eel_pat(L,pattern_set_8)"
   ]
  },
  {
   "cell_type": "code",
   "execution_count": 19,
   "metadata": {},
   "outputs": [],
   "source": [
    "item_10 = [99\n",
    ", 97\n",
    ", 95\n",
    ", 95\n",
    ", 94\n",
    ", 92\n",
    ", 91\n",
    ", 89\n",
    ", 86\n",
    ", 86\n",
    ", 85\n",
    ", 84\n",
    ", 80\n",
    ", 80\n",
    ", 80\n",
    ", 80\n",
    ", 80\n",
    ", 79\n",
    ", 76\n",
    ", 76\n",
    ", 75\n",
    ", 74\n",
    ", 73\n",
    ", 71\n",
    ", 71\n",
    ", 69\n",
    ", 65\n",
    ", 64\n",
    ", 64\n",
    ", 64\n",
    ", 63\n",
    ", 63\n",
    ", 62\n",
    ", 60\n",
    ", 59\n",
    ", 58\n",
    ", 57\n",
    ", 54\n",
    ", 53\n",
    ", 52\n",
    ", 51\n",
    ", 50\n",
    ", 48\n",
    ", 48\n",
    ", 48\n",
    ", 46\n",
    ", 44\n",
    ", 43\n",
    ", 43\n",
    ", 43\n",
    ", 43\n",
    ", 42\n",
    ", 41\n",
    ", 40\n",
    ", 40\n",
    ", 39\n",
    ", 38\n",
    ", 38\n",
    ", 38\n",
    ", 38\n",
    ", 37\n",
    ", 37\n",
    ", 37\n",
    ", 37\n",
    ", 36\n",
    ", 35\n",
    ", 34\n",
    ", 33\n",
    ", 32\n",
    ", 30\n",
    ", 29\n",
    ", 28\n",
    ", 26\n",
    ", 26\n",
    ", 26\n",
    ", 24\n",
    ", 23\n",
    ", 22\n",
    ", 21\n",
    ", 21\n",
    ", 19\n",
    ", 18\n",
    ", 17\n",
    ", 16\n",
    ", 16\n",
    ", 15\n",
    ", 14\n",
    ", 13\n",
    ", 12\n",
    ", 12\n",
    ", 11\n",
    ", 9\n",
    ", 9\n",
    ", 8\n",
    ", 8\n",
    ", 7\n",
    ", 6\n",
    ", 6\n",
    ", 5\n",
    ", 1]\n",
    "\n",
    "pattern_set_10 = []"
   ]
  },
  {
   "cell_type": "code",
   "execution_count": 20,
   "metadata": {},
   "outputs": [
    {
     "data": {
      "text/plain": [
       "[2294.5400000000004, 2268.8399999999997, 2252.78]"
      ]
     },
     "execution_count": 20,
     "metadata": {},
     "output_type": "execute_result"
    }
   ],
   "source": [
    "a = [eel_pat(100,PR_1(100, m, item_10)) for m in range(48,51)]\n",
    "a"
   ]
  },
  {
   "cell_type": "code",
   "execution_count": 25,
   "metadata": {},
   "outputs": [
    {
     "data": {
      "text/plain": [
       "[[131, 119, 117, 113, 110, 95],\n",
       " [131, 128, 127, 105, 104, 90],\n",
       " [103, 102, 101, 101, 96, 92, 90],\n",
       " [131, 125, 116, 111, 103, 99],\n",
       " [130, 128, 125, 121, 91, 90],\n",
       " [106, 106, 100, 98, 93, 91, 90],\n",
       " [131, 130, 118, 108, 108, 90],\n",
       " [125, 119, 119, 109, 109, 104]]"
      ]
     },
     "execution_count": 25,
     "metadata": {},
     "output_type": "execute_result"
    }
   ],
   "source": [
    "PR_1(L,8,item_7)      hb c         x  "
   ]
  },
  {
   "cell_type": "code",
   "execution_count": 22,
   "metadata": {},
   "outputs": [
    {
     "data": {
      "text/plain": [
       "2521.0"
      ]
     },
     "execution_count": 22,
     "metadata": {},
     "output_type": "execute_result"
    }
   ],
   "source": [
    "eel_pat(100,pattern_set_10)"
   ]
  },
  {
   "cell_type": "markdown",
   "metadata": {},
   "source": [
    "#### Model 2"
   ]
  },
  {
   "cell_type": "code",
   "execution_count": 27,
   "metadata": {},
   "outputs": [
    {
     "data": {
      "text/plain": [
       "[[131, 127, 125, 118, 117, 104, 101, 90],\n",
       " [131, 131, 121, 119, 111, 104, 99, 98],\n",
       " [119, 119, 106, 105, 96, 95, 92, 91, 90],\n",
       " [130, 130, 128, 125, 108, 102, 100, 90],\n",
       " [125, 110, 108, 103, 103, 93, 91, 90, 90],\n",
       " [131, 128, 116, 113, 109, 109, 106, 101]]"
      ]
     },
     "execution_count": 27,
     "metadata": {},
     "output_type": "execute_result"
    }
   ],
   "source": [
    "PR_2(L,6,item_7)"
   ]
  },
  {
   "cell_type": "code",
   "execution_count": 29,
   "metadata": {},
   "outputs": [
    {
     "data": {
      "text/plain": [
       "520.634"
      ]
     },
     "execution_count": 29,
     "metadata": {},
     "output_type": "execute_result"
    }
   ],
   "source": [
    "eel_pat(L, PR_2(L,6,item_7))"
   ]
  },
  {
   "cell_type": "code",
   "execution_count": 35,
   "metadata": {},
   "outputs": [
    {
     "data": {
      "text/plain": [
       "[[131, 131, 127, 116, 95, 93, 90],\n",
       " [125, 119, 119, 113, 111, 104, 92],\n",
       " [131, 130, 110, 109, 106, 106, 90],\n",
       " [104, 101, 101, 100, 99, 98, 90, 90],\n",
       " [130, 125, 119, 108, 108, 103, 90],\n",
       " [128, 125, 121, 109, 105, 103, 91],\n",
       " [131, 128, 118, 117, 102, 96, 91]]"
      ]
     },
     "execution_count": 35,
     "metadata": {},
     "output_type": "execute_result"
    }
   ],
   "source": [
    "PR_2(L,7,item_7)"
   ]
  },
  {
   "cell_type": "code",
   "execution_count": 34,
   "metadata": {},
   "outputs": [
    {
     "data": {
      "text/plain": [
       "1521.0"
      ]
     },
     "execution_count": 34,
     "metadata": {},
     "output_type": "execute_result"
    }
   ],
   "source": [
    "eel_pat(L, PR_2(L,7,item_7))"
   ]
  },
  {
   "cell_type": "markdown",
   "metadata": {},
   "source": [
    "#### Instance 2"
   ]
  },
  {
   "cell_type": "code",
   "execution_count": 61,
   "metadata": {},
   "outputs": [
    {
     "data": {
      "text/plain": [
       "877.512"
      ]
     },
     "execution_count": 61,
     "metadata": {},
     "output_type": "execute_result"
    }
   ],
   "source": [
    "L = 1000\n",
    "eel_pat(L,pattern_set_8)"
   ]
  },
  {
   "cell_type": "code",
   "execution_count": 62,
   "metadata": {},
   "outputs": [
    {
     "data": {
      "text/plain": [
       "453.216"
      ]
     },
     "execution_count": 62,
     "metadata": {},
     "output_type": "execute_result"
    }
   ],
   "source": [
    "eel_pat(L, PR_1(L,6,item_8))"
   ]
  },
  {
   "cell_type": "code",
   "execution_count": null,
   "metadata": {},
   "outputs": [],
   "source": [
    "# Finding the expected economic loss for the first pattern set obtained without puting the defect in consideration\n",
    "eel_2 = [eel_pat(100,PR_2(100,m,items_1)) for m in range(25,40)]\n",
    "eel_2"
   ]
  },
  {
   "cell_type": "code",
   "execution_count": null,
   "metadata": {},
   "outputs": [],
   "source": [
    "len(PR_1(100,32,items_1))"
   ]
  },
  {
   "cell_type": "code",
   "execution_count": null,
   "metadata": {},
   "outputs": [],
   "source": [
    "x_2 = [eel_pat(100,PR_2(100,m,items_1)) for m in range(25,50)]"
   ]
  },
  {
   "cell_type": "code",
   "execution_count": null,
   "metadata": {},
   "outputs": [],
   "source": [
    "xx_2 = [eel_pat_1(100,PR_2(100,m,items_1)) for m in range(25,50)]"
   ]
  },
  {
   "cell_type": "code",
   "execution_count": null,
   "metadata": {},
   "outputs": [],
   "source": [
    "def TLoss(eel):\n",
    "    return [x + 100 for x in eel]"
   ]
  },
  {
   "cell_type": "code",
   "execution_count": 170,
   "metadata": {},
   "outputs": [
    {
     "data": {
      "application/javascript": [
       "/* Put everything inside the global mpl namespace */\n",
       "window.mpl = {};\n",
       "\n",
       "\n",
       "mpl.get_websocket_type = function() {\n",
       "    if (typeof(WebSocket) !== 'undefined') {\n",
       "        return WebSocket;\n",
       "    } else if (typeof(MozWebSocket) !== 'undefined') {\n",
       "        return MozWebSocket;\n",
       "    } else {\n",
       "        alert('Your browser does not have WebSocket support. ' +\n",
       "              'Please try Chrome, Safari or Firefox ≥ 6. ' +\n",
       "              'Firefox 4 and 5 are also supported but you ' +\n",
       "              'have to enable WebSockets in about:config.');\n",
       "    };\n",
       "}\n",
       "\n",
       "mpl.figure = function(figure_id, websocket, ondownload, parent_element) {\n",
       "    this.id = figure_id;\n",
       "\n",
       "    this.ws = websocket;\n",
       "\n",
       "    this.supports_binary = (this.ws.binaryType != undefined);\n",
       "\n",
       "    if (!this.supports_binary) {\n",
       "        var warnings = document.getElementById(\"mpl-warnings\");\n",
       "        if (warnings) {\n",
       "            warnings.style.display = 'block';\n",
       "            warnings.textContent = (\n",
       "                \"This browser does not support binary websocket messages. \" +\n",
       "                    \"Performance may be slow.\");\n",
       "        }\n",
       "    }\n",
       "\n",
       "    this.imageObj = new Image();\n",
       "\n",
       "    this.context = undefined;\n",
       "    this.message = undefined;\n",
       "    this.canvas = undefined;\n",
       "    this.rubberband_canvas = undefined;\n",
       "    this.rubberband_context = undefined;\n",
       "    this.format_dropdown = undefined;\n",
       "\n",
       "    this.image_mode = 'full';\n",
       "\n",
       "    this.root = $('<div/>');\n",
       "    this._root_extra_style(this.root)\n",
       "    this.root.attr('style', 'display: inline-block');\n",
       "\n",
       "    $(parent_element).append(this.root);\n",
       "\n",
       "    this._init_header(this);\n",
       "    this._init_canvas(this);\n",
       "    this._init_toolbar(this);\n",
       "\n",
       "    var fig = this;\n",
       "\n",
       "    this.waiting = false;\n",
       "\n",
       "    this.ws.onopen =  function () {\n",
       "            fig.send_message(\"supports_binary\", {value: fig.supports_binary});\n",
       "            fig.send_message(\"send_image_mode\", {});\n",
       "            if (mpl.ratio != 1) {\n",
       "                fig.send_message(\"set_dpi_ratio\", {'dpi_ratio': mpl.ratio});\n",
       "            }\n",
       "            fig.send_message(\"refresh\", {});\n",
       "        }\n",
       "\n",
       "    this.imageObj.onload = function() {\n",
       "            if (fig.image_mode == 'full') {\n",
       "                // Full images could contain transparency (where diff images\n",
       "                // almost always do), so we need to clear the canvas so that\n",
       "                // there is no ghosting.\n",
       "                fig.context.clearRect(0, 0, fig.canvas.width, fig.canvas.height);\n",
       "            }\n",
       "            fig.context.drawImage(fig.imageObj, 0, 0);\n",
       "        };\n",
       "\n",
       "    this.imageObj.onunload = function() {\n",
       "        fig.ws.close();\n",
       "    }\n",
       "\n",
       "    this.ws.onmessage = this._make_on_message_function(this);\n",
       "\n",
       "    this.ondownload = ondownload;\n",
       "}\n",
       "\n",
       "mpl.figure.prototype._init_header = function() {\n",
       "    var titlebar = $(\n",
       "        '<div class=\"ui-dialog-titlebar ui-widget-header ui-corner-all ' +\n",
       "        'ui-helper-clearfix\"/>');\n",
       "    var titletext = $(\n",
       "        '<div class=\"ui-dialog-title\" style=\"width: 100%; ' +\n",
       "        'text-align: center; padding: 3px;\"/>');\n",
       "    titlebar.append(titletext)\n",
       "    this.root.append(titlebar);\n",
       "    this.header = titletext[0];\n",
       "}\n",
       "\n",
       "\n",
       "\n",
       "mpl.figure.prototype._canvas_extra_style = function(canvas_div) {\n",
       "\n",
       "}\n",
       "\n",
       "\n",
       "mpl.figure.prototype._root_extra_style = function(canvas_div) {\n",
       "\n",
       "}\n",
       "\n",
       "mpl.figure.prototype._init_canvas = function() {\n",
       "    var fig = this;\n",
       "\n",
       "    var canvas_div = $('<div/>');\n",
       "\n",
       "    canvas_div.attr('style', 'position: relative; clear: both; outline: 0');\n",
       "\n",
       "    function canvas_keyboard_event(event) {\n",
       "        return fig.key_event(event, event['data']);\n",
       "    }\n",
       "\n",
       "    canvas_div.keydown('key_press', canvas_keyboard_event);\n",
       "    canvas_div.keyup('key_release', canvas_keyboard_event);\n",
       "    this.canvas_div = canvas_div\n",
       "    this._canvas_extra_style(canvas_div)\n",
       "    this.root.append(canvas_div);\n",
       "\n",
       "    var canvas = $('<canvas/>');\n",
       "    canvas.addClass('mpl-canvas');\n",
       "    canvas.attr('style', \"left: 0; top: 0; z-index: 0; outline: 0\")\n",
       "\n",
       "    this.canvas = canvas[0];\n",
       "    this.context = canvas[0].getContext(\"2d\");\n",
       "\n",
       "    var backingStore = this.context.backingStorePixelRatio ||\n",
       "\tthis.context.webkitBackingStorePixelRatio ||\n",
       "\tthis.context.mozBackingStorePixelRatio ||\n",
       "\tthis.context.msBackingStorePixelRatio ||\n",
       "\tthis.context.oBackingStorePixelRatio ||\n",
       "\tthis.context.backingStorePixelRatio || 1;\n",
       "\n",
       "    mpl.ratio = (window.devicePixelRatio || 1) / backingStore;\n",
       "\n",
       "    var rubberband = $('<canvas/>');\n",
       "    rubberband.attr('style', \"position: absolute; left: 0; top: 0; z-index: 1;\")\n",
       "\n",
       "    var pass_mouse_events = true;\n",
       "\n",
       "    canvas_div.resizable({\n",
       "        start: function(event, ui) {\n",
       "            pass_mouse_events = false;\n",
       "        },\n",
       "        resize: function(event, ui) {\n",
       "            fig.request_resize(ui.size.width, ui.size.height);\n",
       "        },\n",
       "        stop: function(event, ui) {\n",
       "            pass_mouse_events = true;\n",
       "            fig.request_resize(ui.size.width, ui.size.height);\n",
       "        },\n",
       "    });\n",
       "\n",
       "    function mouse_event_fn(event) {\n",
       "        if (pass_mouse_events)\n",
       "            return fig.mouse_event(event, event['data']);\n",
       "    }\n",
       "\n",
       "    rubberband.mousedown('button_press', mouse_event_fn);\n",
       "    rubberband.mouseup('button_release', mouse_event_fn);\n",
       "    // Throttle sequential mouse events to 1 every 20ms.\n",
       "    rubberband.mousemove('motion_notify', mouse_event_fn);\n",
       "\n",
       "    rubberband.mouseenter('figure_enter', mouse_event_fn);\n",
       "    rubberband.mouseleave('figure_leave', mouse_event_fn);\n",
       "\n",
       "    canvas_div.on(\"wheel\", function (event) {\n",
       "        event = event.originalEvent;\n",
       "        event['data'] = 'scroll'\n",
       "        if (event.deltaY < 0) {\n",
       "            event.step = 1;\n",
       "        } else {\n",
       "            event.step = -1;\n",
       "        }\n",
       "        mouse_event_fn(event);\n",
       "    });\n",
       "\n",
       "    canvas_div.append(canvas);\n",
       "    canvas_div.append(rubberband);\n",
       "\n",
       "    this.rubberband = rubberband;\n",
       "    this.rubberband_canvas = rubberband[0];\n",
       "    this.rubberband_context = rubberband[0].getContext(\"2d\");\n",
       "    this.rubberband_context.strokeStyle = \"#000000\";\n",
       "\n",
       "    this._resize_canvas = function(width, height) {\n",
       "        // Keep the size of the canvas, canvas container, and rubber band\n",
       "        // canvas in synch.\n",
       "        canvas_div.css('width', width)\n",
       "        canvas_div.css('height', height)\n",
       "\n",
       "        canvas.attr('width', width * mpl.ratio);\n",
       "        canvas.attr('height', height * mpl.ratio);\n",
       "        canvas.attr('style', 'width: ' + width + 'px; height: ' + height + 'px;');\n",
       "\n",
       "        rubberband.attr('width', width);\n",
       "        rubberband.attr('height', height);\n",
       "    }\n",
       "\n",
       "    // Set the figure to an initial 600x600px, this will subsequently be updated\n",
       "    // upon first draw.\n",
       "    this._resize_canvas(600, 600);\n",
       "\n",
       "    // Disable right mouse context menu.\n",
       "    $(this.rubberband_canvas).bind(\"contextmenu\",function(e){\n",
       "        return false;\n",
       "    });\n",
       "\n",
       "    function set_focus () {\n",
       "        canvas.focus();\n",
       "        canvas_div.focus();\n",
       "    }\n",
       "\n",
       "    window.setTimeout(set_focus, 100);\n",
       "}\n",
       "\n",
       "mpl.figure.prototype._init_toolbar = function() {\n",
       "    var fig = this;\n",
       "\n",
       "    var nav_element = $('<div/>');\n",
       "    nav_element.attr('style', 'width: 100%');\n",
       "    this.root.append(nav_element);\n",
       "\n",
       "    // Define a callback function for later on.\n",
       "    function toolbar_event(event) {\n",
       "        return fig.toolbar_button_onclick(event['data']);\n",
       "    }\n",
       "    function toolbar_mouse_event(event) {\n",
       "        return fig.toolbar_button_onmouseover(event['data']);\n",
       "    }\n",
       "\n",
       "    for(var toolbar_ind in mpl.toolbar_items) {\n",
       "        var name = mpl.toolbar_items[toolbar_ind][0];\n",
       "        var tooltip = mpl.toolbar_items[toolbar_ind][1];\n",
       "        var image = mpl.toolbar_items[toolbar_ind][2];\n",
       "        var method_name = mpl.toolbar_items[toolbar_ind][3];\n",
       "\n",
       "        if (!name) {\n",
       "            // put a spacer in here.\n",
       "            continue;\n",
       "        }\n",
       "        var button = $('<button/>');\n",
       "        button.addClass('ui-button ui-widget ui-state-default ui-corner-all ' +\n",
       "                        'ui-button-icon-only');\n",
       "        button.attr('role', 'button');\n",
       "        button.attr('aria-disabled', 'false');\n",
       "        button.click(method_name, toolbar_event);\n",
       "        button.mouseover(tooltip, toolbar_mouse_event);\n",
       "\n",
       "        var icon_img = $('<span/>');\n",
       "        icon_img.addClass('ui-button-icon-primary ui-icon');\n",
       "        icon_img.addClass(image);\n",
       "        icon_img.addClass('ui-corner-all');\n",
       "\n",
       "        var tooltip_span = $('<span/>');\n",
       "        tooltip_span.addClass('ui-button-text');\n",
       "        tooltip_span.html(tooltip);\n",
       "\n",
       "        button.append(icon_img);\n",
       "        button.append(tooltip_span);\n",
       "\n",
       "        nav_element.append(button);\n",
       "    }\n",
       "\n",
       "    var fmt_picker_span = $('<span/>');\n",
       "\n",
       "    var fmt_picker = $('<select/>');\n",
       "    fmt_picker.addClass('mpl-toolbar-option ui-widget ui-widget-content');\n",
       "    fmt_picker_span.append(fmt_picker);\n",
       "    nav_element.append(fmt_picker_span);\n",
       "    this.format_dropdown = fmt_picker[0];\n",
       "\n",
       "    for (var ind in mpl.extensions) {\n",
       "        var fmt = mpl.extensions[ind];\n",
       "        var option = $(\n",
       "            '<option/>', {selected: fmt === mpl.default_extension}).html(fmt);\n",
       "        fmt_picker.append(option);\n",
       "    }\n",
       "\n",
       "    // Add hover states to the ui-buttons\n",
       "    $( \".ui-button\" ).hover(\n",
       "        function() { $(this).addClass(\"ui-state-hover\");},\n",
       "        function() { $(this).removeClass(\"ui-state-hover\");}\n",
       "    );\n",
       "\n",
       "    var status_bar = $('<span class=\"mpl-message\"/>');\n",
       "    nav_element.append(status_bar);\n",
       "    this.message = status_bar[0];\n",
       "}\n",
       "\n",
       "mpl.figure.prototype.request_resize = function(x_pixels, y_pixels) {\n",
       "    // Request matplotlib to resize the figure. Matplotlib will then trigger a resize in the client,\n",
       "    // which will in turn request a refresh of the image.\n",
       "    this.send_message('resize', {'width': x_pixels, 'height': y_pixels});\n",
       "}\n",
       "\n",
       "mpl.figure.prototype.send_message = function(type, properties) {\n",
       "    properties['type'] = type;\n",
       "    properties['figure_id'] = this.id;\n",
       "    this.ws.send(JSON.stringify(properties));\n",
       "}\n",
       "\n",
       "mpl.figure.prototype.send_draw_message = function() {\n",
       "    if (!this.waiting) {\n",
       "        this.waiting = true;\n",
       "        this.ws.send(JSON.stringify({type: \"draw\", figure_id: this.id}));\n",
       "    }\n",
       "}\n",
       "\n",
       "\n",
       "mpl.figure.prototype.handle_save = function(fig, msg) {\n",
       "    var format_dropdown = fig.format_dropdown;\n",
       "    var format = format_dropdown.options[format_dropdown.selectedIndex].value;\n",
       "    fig.ondownload(fig, format);\n",
       "}\n",
       "\n",
       "\n",
       "mpl.figure.prototype.handle_resize = function(fig, msg) {\n",
       "    var size = msg['size'];\n",
       "    if (size[0] != fig.canvas.width || size[1] != fig.canvas.height) {\n",
       "        fig._resize_canvas(size[0], size[1]);\n",
       "        fig.send_message(\"refresh\", {});\n",
       "    };\n",
       "}\n",
       "\n",
       "mpl.figure.prototype.handle_rubberband = function(fig, msg) {\n",
       "    var x0 = msg['x0'] / mpl.ratio;\n",
       "    var y0 = (fig.canvas.height - msg['y0']) / mpl.ratio;\n",
       "    var x1 = msg['x1'] / mpl.ratio;\n",
       "    var y1 = (fig.canvas.height - msg['y1']) / mpl.ratio;\n",
       "    x0 = Math.floor(x0) + 0.5;\n",
       "    y0 = Math.floor(y0) + 0.5;\n",
       "    x1 = Math.floor(x1) + 0.5;\n",
       "    y1 = Math.floor(y1) + 0.5;\n",
       "    var min_x = Math.min(x0, x1);\n",
       "    var min_y = Math.min(y0, y1);\n",
       "    var width = Math.abs(x1 - x0);\n",
       "    var height = Math.abs(y1 - y0);\n",
       "\n",
       "    fig.rubberband_context.clearRect(\n",
       "        0, 0, fig.canvas.width / mpl.ratio, fig.canvas.height / mpl.ratio);\n",
       "\n",
       "    fig.rubberband_context.strokeRect(min_x, min_y, width, height);\n",
       "}\n",
       "\n",
       "mpl.figure.prototype.handle_figure_label = function(fig, msg) {\n",
       "    // Updates the figure title.\n",
       "    fig.header.textContent = msg['label'];\n",
       "}\n",
       "\n",
       "mpl.figure.prototype.handle_cursor = function(fig, msg) {\n",
       "    var cursor = msg['cursor'];\n",
       "    switch(cursor)\n",
       "    {\n",
       "    case 0:\n",
       "        cursor = 'pointer';\n",
       "        break;\n",
       "    case 1:\n",
       "        cursor = 'default';\n",
       "        break;\n",
       "    case 2:\n",
       "        cursor = 'crosshair';\n",
       "        break;\n",
       "    case 3:\n",
       "        cursor = 'move';\n",
       "        break;\n",
       "    }\n",
       "    fig.rubberband_canvas.style.cursor = cursor;\n",
       "}\n",
       "\n",
       "mpl.figure.prototype.handle_message = function(fig, msg) {\n",
       "    fig.message.textContent = msg['message'];\n",
       "}\n",
       "\n",
       "mpl.figure.prototype.handle_draw = function(fig, msg) {\n",
       "    // Request the server to send over a new figure.\n",
       "    fig.send_draw_message();\n",
       "}\n",
       "\n",
       "mpl.figure.prototype.handle_image_mode = function(fig, msg) {\n",
       "    fig.image_mode = msg['mode'];\n",
       "}\n",
       "\n",
       "mpl.figure.prototype.updated_canvas_event = function() {\n",
       "    // Called whenever the canvas gets updated.\n",
       "    this.send_message(\"ack\", {});\n",
       "}\n",
       "\n",
       "// A function to construct a web socket function for onmessage handling.\n",
       "// Called in the figure constructor.\n",
       "mpl.figure.prototype._make_on_message_function = function(fig) {\n",
       "    return function socket_on_message(evt) {\n",
       "        if (evt.data instanceof Blob) {\n",
       "            /* FIXME: We get \"Resource interpreted as Image but\n",
       "             * transferred with MIME type text/plain:\" errors on\n",
       "             * Chrome.  But how to set the MIME type?  It doesn't seem\n",
       "             * to be part of the websocket stream */\n",
       "            evt.data.type = \"image/png\";\n",
       "\n",
       "            /* Free the memory for the previous frames */\n",
       "            if (fig.imageObj.src) {\n",
       "                (window.URL || window.webkitURL).revokeObjectURL(\n",
       "                    fig.imageObj.src);\n",
       "            }\n",
       "\n",
       "            fig.imageObj.src = (window.URL || window.webkitURL).createObjectURL(\n",
       "                evt.data);\n",
       "            fig.updated_canvas_event();\n",
       "            fig.waiting = false;\n",
       "            return;\n",
       "        }\n",
       "        else if (typeof evt.data === 'string' && evt.data.slice(0, 21) == \"data:image/png;base64\") {\n",
       "            fig.imageObj.src = evt.data;\n",
       "            fig.updated_canvas_event();\n",
       "            fig.waiting = false;\n",
       "            return;\n",
       "        }\n",
       "\n",
       "        var msg = JSON.parse(evt.data);\n",
       "        var msg_type = msg['type'];\n",
       "\n",
       "        // Call the  \"handle_{type}\" callback, which takes\n",
       "        // the figure and JSON message as its only arguments.\n",
       "        try {\n",
       "            var callback = fig[\"handle_\" + msg_type];\n",
       "        } catch (e) {\n",
       "            console.log(\"No handler for the '\" + msg_type + \"' message type: \", msg);\n",
       "            return;\n",
       "        }\n",
       "\n",
       "        if (callback) {\n",
       "            try {\n",
       "                // console.log(\"Handling '\" + msg_type + \"' message: \", msg);\n",
       "                callback(fig, msg);\n",
       "            } catch (e) {\n",
       "                console.log(\"Exception inside the 'handler_\" + msg_type + \"' callback:\", e, e.stack, msg);\n",
       "            }\n",
       "        }\n",
       "    };\n",
       "}\n",
       "\n",
       "// from http://stackoverflow.com/questions/1114465/getting-mouse-location-in-canvas\n",
       "mpl.findpos = function(e) {\n",
       "    //this section is from http://www.quirksmode.org/js/events_properties.html\n",
       "    var targ;\n",
       "    if (!e)\n",
       "        e = window.event;\n",
       "    if (e.target)\n",
       "        targ = e.target;\n",
       "    else if (e.srcElement)\n",
       "        targ = e.srcElement;\n",
       "    if (targ.nodeType == 3) // defeat Safari bug\n",
       "        targ = targ.parentNode;\n",
       "\n",
       "    // jQuery normalizes the pageX and pageY\n",
       "    // pageX,Y are the mouse positions relative to the document\n",
       "    // offset() returns the position of the element relative to the document\n",
       "    var x = e.pageX - $(targ).offset().left;\n",
       "    var y = e.pageY - $(targ).offset().top;\n",
       "\n",
       "    return {\"x\": x, \"y\": y};\n",
       "};\n",
       "\n",
       "/*\n",
       " * return a copy of an object with only non-object keys\n",
       " * we need this to avoid circular references\n",
       " * http://stackoverflow.com/a/24161582/3208463\n",
       " */\n",
       "function simpleKeys (original) {\n",
       "  return Object.keys(original).reduce(function (obj, key) {\n",
       "    if (typeof original[key] !== 'object')\n",
       "        obj[key] = original[key]\n",
       "    return obj;\n",
       "  }, {});\n",
       "}\n",
       "\n",
       "mpl.figure.prototype.mouse_event = function(event, name) {\n",
       "    var canvas_pos = mpl.findpos(event)\n",
       "\n",
       "    if (name === 'button_press')\n",
       "    {\n",
       "        this.canvas.focus();\n",
       "        this.canvas_div.focus();\n",
       "    }\n",
       "\n",
       "    var x = canvas_pos.x * mpl.ratio;\n",
       "    var y = canvas_pos.y * mpl.ratio;\n",
       "\n",
       "    this.send_message(name, {x: x, y: y, button: event.button,\n",
       "                             step: event.step,\n",
       "                             guiEvent: simpleKeys(event)});\n",
       "\n",
       "    /* This prevents the web browser from automatically changing to\n",
       "     * the text insertion cursor when the button is pressed.  We want\n",
       "     * to control all of the cursor setting manually through the\n",
       "     * 'cursor' event from matplotlib */\n",
       "    event.preventDefault();\n",
       "    return false;\n",
       "}\n",
       "\n",
       "mpl.figure.prototype._key_event_extra = function(event, name) {\n",
       "    // Handle any extra behaviour associated with a key event\n",
       "}\n",
       "\n",
       "mpl.figure.prototype.key_event = function(event, name) {\n",
       "\n",
       "    // Prevent repeat events\n",
       "    if (name == 'key_press')\n",
       "    {\n",
       "        if (event.which === this._key)\n",
       "            return;\n",
       "        else\n",
       "            this._key = event.which;\n",
       "    }\n",
       "    if (name == 'key_release')\n",
       "        this._key = null;\n",
       "\n",
       "    var value = '';\n",
       "    if (event.ctrlKey && event.which != 17)\n",
       "        value += \"ctrl+\";\n",
       "    if (event.altKey && event.which != 18)\n",
       "        value += \"alt+\";\n",
       "    if (event.shiftKey && event.which != 16)\n",
       "        value += \"shift+\";\n",
       "\n",
       "    value += 'k';\n",
       "    value += event.which.toString();\n",
       "\n",
       "    this._key_event_extra(event, name);\n",
       "\n",
       "    this.send_message(name, {key: value,\n",
       "                             guiEvent: simpleKeys(event)});\n",
       "    return false;\n",
       "}\n",
       "\n",
       "mpl.figure.prototype.toolbar_button_onclick = function(name) {\n",
       "    if (name == 'download') {\n",
       "        this.handle_save(this, null);\n",
       "    } else {\n",
       "        this.send_message(\"toolbar_button\", {name: name});\n",
       "    }\n",
       "};\n",
       "\n",
       "mpl.figure.prototype.toolbar_button_onmouseover = function(tooltip) {\n",
       "    this.message.textContent = tooltip;\n",
       "};\n",
       "mpl.toolbar_items = [[\"Home\", \"Reset original view\", \"fa fa-home icon-home\", \"home\"], [\"Back\", \"Back to previous view\", \"fa fa-arrow-left icon-arrow-left\", \"back\"], [\"Forward\", \"Forward to next view\", \"fa fa-arrow-right icon-arrow-right\", \"forward\"], [\"\", \"\", \"\", \"\"], [\"Pan\", \"Pan axes with left mouse, zoom with right\", \"fa fa-arrows icon-move\", \"pan\"], [\"Zoom\", \"Zoom to rectangle\", \"fa fa-square-o icon-check-empty\", \"zoom\"], [\"\", \"\", \"\", \"\"], [\"Download\", \"Download plot\", \"fa fa-floppy-o icon-save\", \"download\"]];\n",
       "\n",
       "mpl.extensions = [\"eps\", \"jpeg\", \"pdf\", \"png\", \"ps\", \"raw\", \"svg\", \"tif\"];\n",
       "\n",
       "mpl.default_extension = \"png\";var comm_websocket_adapter = function(comm) {\n",
       "    // Create a \"websocket\"-like object which calls the given IPython comm\n",
       "    // object with the appropriate methods. Currently this is a non binary\n",
       "    // socket, so there is still some room for performance tuning.\n",
       "    var ws = {};\n",
       "\n",
       "    ws.close = function() {\n",
       "        comm.close()\n",
       "    };\n",
       "    ws.send = function(m) {\n",
       "        //console.log('sending', m);\n",
       "        comm.send(m);\n",
       "    };\n",
       "    // Register the callback with on_msg.\n",
       "    comm.on_msg(function(msg) {\n",
       "        //console.log('receiving', msg['content']['data'], msg);\n",
       "        // Pass the mpl event to the overridden (by mpl) onmessage function.\n",
       "        ws.onmessage(msg['content']['data'])\n",
       "    });\n",
       "    return ws;\n",
       "}\n",
       "\n",
       "mpl.mpl_figure_comm = function(comm, msg) {\n",
       "    // This is the function which gets called when the mpl process\n",
       "    // starts-up an IPython Comm through the \"matplotlib\" channel.\n",
       "\n",
       "    var id = msg.content.data.id;\n",
       "    // Get hold of the div created by the display call when the Comm\n",
       "    // socket was opened in Python.\n",
       "    var element = $(\"#\" + id);\n",
       "    var ws_proxy = comm_websocket_adapter(comm)\n",
       "\n",
       "    function ondownload(figure, format) {\n",
       "        window.open(figure.imageObj.src);\n",
       "    }\n",
       "\n",
       "    var fig = new mpl.figure(id, ws_proxy,\n",
       "                           ondownload,\n",
       "                           element.get(0));\n",
       "\n",
       "    // Call onopen now - mpl needs it, as it is assuming we've passed it a real\n",
       "    // web socket which is closed, not our websocket->open comm proxy.\n",
       "    ws_proxy.onopen();\n",
       "\n",
       "    fig.parent_element = element.get(0);\n",
       "    fig.cell_info = mpl.find_output_cell(\"<div id='\" + id + \"'></div>\");\n",
       "    if (!fig.cell_info) {\n",
       "        console.error(\"Failed to find cell for figure\", id, fig);\n",
       "        return;\n",
       "    }\n",
       "\n",
       "    var output_index = fig.cell_info[2]\n",
       "    var cell = fig.cell_info[0];\n",
       "\n",
       "};\n",
       "\n",
       "mpl.figure.prototype.handle_close = function(fig, msg) {\n",
       "    var width = fig.canvas.width/mpl.ratio\n",
       "    fig.root.unbind('remove')\n",
       "\n",
       "    // Update the output cell to use the data from the current canvas.\n",
       "    fig.push_to_output();\n",
       "    var dataURL = fig.canvas.toDataURL();\n",
       "    // Re-enable the keyboard manager in IPython - without this line, in FF,\n",
       "    // the notebook keyboard shortcuts fail.\n",
       "    IPython.keyboard_manager.enable()\n",
       "    $(fig.parent_element).html('<img src=\"' + dataURL + '\" width=\"' + width + '\">');\n",
       "    fig.close_ws(fig, msg);\n",
       "}\n",
       "\n",
       "mpl.figure.prototype.close_ws = function(fig, msg){\n",
       "    fig.send_message('closing', msg);\n",
       "    // fig.ws.close()\n",
       "}\n",
       "\n",
       "mpl.figure.prototype.push_to_output = function(remove_interactive) {\n",
       "    // Turn the data on the canvas into data in the output cell.\n",
       "    var width = this.canvas.width/mpl.ratio\n",
       "    var dataURL = this.canvas.toDataURL();\n",
       "    this.cell_info[1]['text/html'] = '<img src=\"' + dataURL + '\" width=\"' + width + '\">';\n",
       "}\n",
       "\n",
       "mpl.figure.prototype.updated_canvas_event = function() {\n",
       "    // Tell IPython that the notebook contents must change.\n",
       "    IPython.notebook.set_dirty(true);\n",
       "    this.send_message(\"ack\", {});\n",
       "    var fig = this;\n",
       "    // Wait a second, then push the new image to the DOM so\n",
       "    // that it is saved nicely (might be nice to debounce this).\n",
       "    setTimeout(function () { fig.push_to_output() }, 1000);\n",
       "}\n",
       "\n",
       "mpl.figure.prototype._init_toolbar = function() {\n",
       "    var fig = this;\n",
       "\n",
       "    var nav_element = $('<div/>');\n",
       "    nav_element.attr('style', 'width: 100%');\n",
       "    this.root.append(nav_element);\n",
       "\n",
       "    // Define a callback function for later on.\n",
       "    function toolbar_event(event) {\n",
       "        return fig.toolbar_button_onclick(event['data']);\n",
       "    }\n",
       "    function toolbar_mouse_event(event) {\n",
       "        return fig.toolbar_button_onmouseover(event['data']);\n",
       "    }\n",
       "\n",
       "    for(var toolbar_ind in mpl.toolbar_items){\n",
       "        var name = mpl.toolbar_items[toolbar_ind][0];\n",
       "        var tooltip = mpl.toolbar_items[toolbar_ind][1];\n",
       "        var image = mpl.toolbar_items[toolbar_ind][2];\n",
       "        var method_name = mpl.toolbar_items[toolbar_ind][3];\n",
       "\n",
       "        if (!name) { continue; };\n",
       "\n",
       "        var button = $('<button class=\"btn btn-default\" href=\"#\" title=\"' + name + '\"><i class=\"fa ' + image + ' fa-lg\"></i></button>');\n",
       "        button.click(method_name, toolbar_event);\n",
       "        button.mouseover(tooltip, toolbar_mouse_event);\n",
       "        nav_element.append(button);\n",
       "    }\n",
       "\n",
       "    // Add the status bar.\n",
       "    var status_bar = $('<span class=\"mpl-message\" style=\"text-align:right; float: right;\"/>');\n",
       "    nav_element.append(status_bar);\n",
       "    this.message = status_bar[0];\n",
       "\n",
       "    // Add the close button to the window.\n",
       "    var buttongrp = $('<div class=\"btn-group inline pull-right\"></div>');\n",
       "    var button = $('<button class=\"btn btn-mini btn-primary\" href=\"#\" title=\"Stop Interaction\"><i class=\"fa fa-power-off icon-remove icon-large\"></i></button>');\n",
       "    button.click(function (evt) { fig.handle_close(fig, {}); } );\n",
       "    button.mouseover('Stop Interaction', toolbar_mouse_event);\n",
       "    buttongrp.append(button);\n",
       "    var titlebar = this.root.find($('.ui-dialog-titlebar'));\n",
       "    titlebar.prepend(buttongrp);\n",
       "}\n",
       "\n",
       "mpl.figure.prototype._root_extra_style = function(el){\n",
       "    var fig = this\n",
       "    el.on(\"remove\", function(){\n",
       "\tfig.close_ws(fig, {});\n",
       "    });\n",
       "}\n",
       "\n",
       "mpl.figure.prototype._canvas_extra_style = function(el){\n",
       "    // this is important to make the div 'focusable\n",
       "    el.attr('tabindex', 0)\n",
       "    // reach out to IPython and tell the keyboard manager to turn it's self\n",
       "    // off when our div gets focus\n",
       "\n",
       "    // location in version 3\n",
       "    if (IPython.notebook.keyboard_manager) {\n",
       "        IPython.notebook.keyboard_manager.register_events(el);\n",
       "    }\n",
       "    else {\n",
       "        // location in version 2\n",
       "        IPython.keyboard_manager.register_events(el);\n",
       "    }\n",
       "\n",
       "}\n",
       "\n",
       "mpl.figure.prototype._key_event_extra = function(event, name) {\n",
       "    var manager = IPython.notebook.keyboard_manager;\n",
       "    if (!manager)\n",
       "        manager = IPython.keyboard_manager;\n",
       "\n",
       "    // Check for shift+enter\n",
       "    if (event.shiftKey && event.which == 13) {\n",
       "        this.canvas_div.blur();\n",
       "        event.shiftKey = false;\n",
       "        // Send a \"J\" for go to next cell\n",
       "        event.which = 74;\n",
       "        event.keyCode = 74;\n",
       "        manager.command_mode();\n",
       "        manager.handle_keydown(event);\n",
       "    }\n",
       "}\n",
       "\n",
       "mpl.figure.prototype.handle_save = function(fig, msg) {\n",
       "    fig.ondownload(fig, null);\n",
       "}\n",
       "\n",
       "\n",
       "mpl.find_output_cell = function(html_output) {\n",
       "    // Return the cell and output element which can be found *uniquely* in the notebook.\n",
       "    // Note - this is a bit hacky, but it is done because the \"notebook_saving.Notebook\"\n",
       "    // IPython event is triggered only after the cells have been serialised, which for\n",
       "    // our purposes (turning an active figure into a static one), is too late.\n",
       "    var cells = IPython.notebook.get_cells();\n",
       "    var ncells = cells.length;\n",
       "    for (var i=0; i<ncells; i++) {\n",
       "        var cell = cells[i];\n",
       "        if (cell.cell_type === 'code'){\n",
       "            for (var j=0; j<cell.output_area.outputs.length; j++) {\n",
       "                var data = cell.output_area.outputs[j];\n",
       "                if (data.data) {\n",
       "                    // IPython >= 3 moved mimebundle to data attribute of output\n",
       "                    data = data.data;\n",
       "                }\n",
       "                if (data['text/html'] == html_output) {\n",
       "                    return [cell, data, j];\n",
       "                }\n",
       "            }\n",
       "        }\n",
       "    }\n",
       "}\n",
       "\n",
       "// Register the function which deals with the matplotlib target/channel.\n",
       "// The kernel may be null if the page has been refreshed.\n",
       "if (IPython.notebook.kernel != null) {\n",
       "    IPython.notebook.kernel.comm_manager.register_target('matplotlib', mpl.mpl_figure_comm);\n",
       "}\n"
      ],
      "text/plain": [
       "<IPython.core.display.Javascript object>"
      ]
     },
     "metadata": {},
     "output_type": "display_data"
    },
    {
     "data": {
      "text/html": [
       "<img src=\"data:image/png;base64,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\" width=\"640\">"
      ],
      "text/plain": [
       "<IPython.core.display.HTML object>"
      ]
     },
     "metadata": {},
     "output_type": "display_data"
    },
    {
     "data": {
      "text/plain": [
       "<matplotlib.legend.Legend at 0x13ed19cc8c8>"
      ]
     },
     "execution_count": 170,
     "metadata": {},
     "output_type": "execute_result"
    }
   ],
   "source": [
    "%matplotlib notebook\n",
    "import matplotlib as mpl\n",
    "mpl.get_backend()\n",
    "import matplotlib.pyplot as plt\n",
    "plt.figure()\n",
    "\n",
    "y = range(25,27)\n",
    "z = range(1250,1350,50)\n",
    "a = [sum(i) for i in (zip(eel_G1_I1,z))]\n",
    "plt.plot(y,eel_G1_I1, label = \"EEL\")\n",
    "plt.plot(y,a,label = \"Total EL\")\n",
    "plt.plot(y,range(1250,1350,50), label = \"Bin costs\")\n",
    "ax = plt.gca()\n",
    "ax.set_xlabel('Bins')\n",
    "plt.legend()"
   ]
  },
  {
   "cell_type": "code",
   "execution_count": null,
   "metadata": {},
   "outputs": [],
   "source": [
    "%matplotlib notebook\n",
    "import matplotlib as mpl\n",
    "mpl.get_backend()\n",
    "import matplotlib.pyplot as plt\n",
    "plt.figure()\n",
    "\n",
    "y = range(25,28)\n",
    "z = range(1250,2600,100)\n",
    "a = [sum(i) for i in (zip(x_2,z))]\n",
    "plt.plot(y,x_2, label = \"EEL\")\n",
    "plt.plot(y,a,label = \"Total EL\")\n",
    "plt.plot(y,range(100,2600,100), label = \"Bin costs\")\n",
    "ax = plt.gca()\n",
    "ax.set_xlabel('Bins')\n",
    "plt.legend()"
   ]
  },
  {
   "cell_type": "code",
   "execution_count": null,
   "metadata": {},
   "outputs": [],
   "source": [
    "r = [1344.2199999999998,\n",
    " 1276.88,\n",
    " 1272.0999999999997,\n",
    " 1208.8999999999999,\n",
    " 1176.02,\n",
    " 1157.36,\n",
    " ]"
   ]
  },
  {
   "cell_type": "code",
   "execution_count": null,
   "metadata": {},
   "outputs": [],
   "source": [
    "plt.figure()\n",
    "\n",
    "y = range(25,50)\n",
    "z = range(100,2600,100)\n",
    "a = [sum(i) for i in (zip(xx_1,z))]\n",
    "plt.plot(y,xx_1, label = \"EEL\")\n",
    "plt.plot(y,a, label = \"Total EL\")\n",
    "plt.plot(y,range(100,2600,100), label = \"Bin costs\")\n",
    "ax = plt.gca()\n",
    "ax.set_xlabel('Bins')\n",
    "plt.legend()\n",
    "#ax.set_ylabel('Bin length')"
   ]
  },
  {
   "cell_type": "code",
   "execution_count": null,
   "metadata": {},
   "outputs": [],
   "source": [
    "x_2 = [eel_pat(100,PR_2(100,m,items_1)) for m in range(25,50)]"
   ]
  },
  {
   "cell_type": "code",
   "execution_count": null,
   "metadata": {},
   "outputs": [],
   "source": [
    "pattern_1 = [[61, 29, 10], [69, 28, 3], [74, 25],[85, 14], [88, 11], \n",
    "              [92, 7], [92, 7],[51, 49], [56, 44], [99],[99],[96],[96],\n",
    "              [91],[87, 13],[76, 24],[72, 28],[40, 30, 30 ],[67, 33],[67, 33],\n",
    "              [62, 21, 17],[52, 27, 20],[46, 23, 22],[86],[42, 40]]"
   ]
  },
  {
   "cell_type": "code",
   "execution_count": null,
   "metadata": {},
   "outputs": [],
   "source": [
    "xx_1"
   ]
  },
  {
   "cell_type": "markdown",
   "metadata": {},
   "source": [
    "## Solution set of Bin Length 1000"
   ]
  },
  {
   "cell_type": "code",
   "execution_count": 130,
   "metadata": {},
   "outputs": [],
   "source": [
    "items_N1W4B2R0 = [131,131,131,131,130,130,128,128,127,125,125,125,121,119,119,119,118,117,116,113,111,110,109,109,108,108,\n",
    "106,106,105,104,104,103,103,102,101,101,100,99,98,96,95,93,92,91,91,90,90,90,90,90]\n",
    "\n",
    "pattern_N1W4B2R0 = [[131, 131, 131, 130, 130, 128, 128, 91], [131, 127, 125, 125, 125, 121, 119, 119], \n",
    "                    [118, 117, 116, 113, 111, 110, 109, 108, 98],[109, 108, 106, 105, 101, 100, 96, 95, 90, 90],\n",
    "                    [119, 104, 104, 103, 103, 101, 93, 92, 91, 90], [106, 102, 99, 90, 90]]\n",
    "\n",
    "items_N1W4B2R1 = [132,131,131,130,130,129,128,128,127,127,127,126,124,122,122,122,121,120,120,119,118,116,116,116,116,116,\n",
    "114,113,111,110,108,107,104,104,101,101,99,97,95,95,95,94,93,92,92,92,92,91,91,91]\n",
    "\n",
    "items_N1W4B2R2 = [132,132,132,131,130,129,128,126,124,123,123,123,122,121,120,119,119,118,118,118,118,115,113,113,110,109,\n",
    "108,108,107,104,103,102,102,100,100,99,98,98,96,95,95,95,94,94,94,93,92,92,91,90]\n",
    "\n",
    "\n",
    "items_N1W4B2R3 = [132,132,131,130,130,127,124,124,123,122,122,121,121,120,119,119,118,118,117,117,113,112,111,110,110,110,\n",
    "109,109,109,106,105,103,103,103,101,101,98,98,98,97,97,97,97,96,95,94,94,92,91,91]\n",
    "\n",
    "items_N1W4B2R4 = [130,129,129,128,128,126,126,125,124,124,124,122,121,121,121,120,120,119,119,116,114,114,114,114,112,112,\n",
    "111,110,109,107,107,103,102,101,101,101,101,101,100,100,99,97,97,96,95,94,93,92,92,90]\n",
    "\n",
    "items_N1W4B2R5 = [132,132,132,131,129,127,127,125,125,123,122,121,120,118,116,116,115,115,115,113,112,111,110,108,107,106,\n",
    "105,105,105,104,103,102,102,101,99,99,99,98,97,96,96,95,94,93,93,93,92,92,91,90]\n",
    "\n",
    "items_N1W4B2R6 = [131,131,131,128,127,126,126,124,123,122,122,120,119,118,118,117,117,116,115,115,114,114,113,112,111,110,\n",
    "110,109,107,107,107,106,104,104,103,103,101,99,97,94,94,93,92,92,92,90,90,90,90,90]\n",
    "\n",
    "items_N1W4B2R7 = [132,130,130,130,130,130,128,128,127,126,126,124,124,122,121,120,118,117,115,113,112,112,112,111,111,111,\n",
    "111,110,109,109,108,108,105,105,105,101,100,99,99,98,96,95,94,94,94,93,92,92,92,90]\n",
    "\n",
    "items_N1W4B2R8 = [131,131,128,127,127,126,124,123,123,122,120,119,119,115,113,113,112,112,112,111,110,109,109,108,105,105,\n",
    "103,102,102,102,102,101,99,99,99,97,97,97,96,96,96,94,94,94,94,93,92,92,91,90]\n",
    "\n",
    "items_N1W4B2R9 = [132,130,130,128,125,124,123,121,121,121,120,119,117,116,116,115,113,112,111,111,111,110,110,109,109,107,\n",
    "107,106,106,105,104,102,102,101,101,100,99,98,97,96,96,95,95,94.92,92,92,91,91,90]\n",
    "\n",
    "#eel_pat(1000,PR_2(1000,6,items_N1W4B2R0))\n",
    "\n",
    "items = [99, 97, 95, 95, 94, 92, 91, 89, 86, 86, 85, 84, 80, 80, 80, 80, 80, 79, 76, 76, 75, 74, 73, 71, 71, 69, 65, 64\n",
    ", 64, 64, 63, 63, 62, 60, 59, 58, 57, 54, 53, 52, 51, 50, 48, 48, 48, 46, 44, 43, 43, 43, 43, 42, 41, 40, 40, 39, 38, 38\n",
    ", 38, 38, 37, 37, 37, 37, 36, 35, 34, 33, 32, 30, 29, 28, 26, 26, 26, 24, 23, 22, 21, 21, 19, 18, 17, 16, 16, 15, 14, 13\n",
    ", 12, 12, 11, 9, 9, 8, 8, 7, 6, 6, 5, 1]\n",
    "\n",
    "pattern = [[63, 37], [64, 32], [38, 37, 17, 8], [43, 39, 18], [84, 16], [85, 15], [69, 26, 5], [86, 14], [74, 26],\n",
    "          [89, 11], [80, 12, 8],[80, 13, 7], [50, 38, 12], [80, 19], [91, 9], [44, 40, 16], [75, 24], [64, 36], [94, 6],\n",
    "          [92, 6], [48, 43, 9], [71, 29], [62, 38], [63, 37], [60, 40], [65, 35], [99], [57, 43], [97], [95], [95],\n",
    "          [76, 23], [79, 21], [95], [71, 28], [52, 48], [59, 41], [73, 26], [54, 46], [37, 33, 30], [58, 42], [51, 48], \n",
    "          [76, 22], [53, 43], [86], [80], [80], [38, 21]]\n",
    "\n",
    "item_N2W4B3R0 = [209, 206, 205, 201, 197, 191, 191, 190, 187, 187, 186, 184, 183, 182, 182, 182, 178, 176, 174, 172, 171\n",
    ", 171, 171, 169, 166, 164, 162, 161, 161, 156, 155, 155, 152, 149, 147, 144, 142, 136, 132, 131, 125, 124, 122, 121, 117\n",
    ", 117, 115, 113, 113, 110, 104, 103, 101, 101, 100, 96, 96, 95, 95, 92, 87, 83, 77, 77, 76, 72, 70, 70, 70, 68, 68, 66\n",
    ", 65, 62, 59, 56, 55, 54, 51, 49, 47, 44, 43, 43, 42, 41, 41, 40, 39, 37, 34, 34, 31, 31, 30, 26, 26, 20, 14, 13]\n",
    "\n"
   ]
  },
  {
   "cell_type": "code",
   "execution_count": 98,
   "metadata": {},
   "outputs": [
    {
     "data": {
      "text/plain": [
       "904.692"
      ]
     },
     "execution_count": 98,
     "metadata": {},
     "output_type": "execute_result"
    }
   ],
   "source": [
    "eel_pat(1000,pattern_N1W4B2R0)"
   ]
  },
  {
   "cell_type": "code",
   "execution_count": 120,
   "metadata": {},
   "outputs": [
    {
     "data": {
      "text/plain": [
       "2294.5400000000004"
      ]
     },
     "execution_count": 120,
     "metadata": {},
     "output_type": "execute_result"
    }
   ],
   "source": [
    "eel_pat(1000,PR_1(1000, 48,items))"
   ]
  },
  {
   "cell_type": "code",
   "execution_count": 121,
   "metadata": {},
   "outputs": [
    {
     "data": {
      "text/plain": [
       "2268.8399999999997"
      ]
     },
     "execution_count": 121,
     "metadata": {},
     "output_type": "execute_result"
    }
   ],
   "source": [
    "eel_pat(100,PR_1(100,49,items))"
   ]
  },
  {
   "cell_type": "code",
   "execution_count": 122,
   "metadata": {},
   "outputs": [
    {
     "data": {
      "text/plain": [
       "2252.78"
      ]
     },
     "execution_count": 122,
     "metadata": {},
     "output_type": "execute_result"
    }
   ],
   "source": [
    "eel_pat(100,PR_1(100,50,items))"
   ]
  },
  {
   "cell_type": "code",
   "execution_count": 127,
   "metadata": {},
   "outputs": [
    {
     "data": {
      "text/plain": [
       "2291.4399999999996"
      ]
     },
     "execution_count": 127,
     "metadata": {},
     "output_type": "execute_result"
    }
   ],
   "source": [
    "eel_pat(100,PR_1(100,51,items))"
   ]
  },
  {
   "cell_type": "code",
   "execution_count": 126,
   "metadata": {},
   "outputs": [
    {
     "data": {
      "text/plain": [
       "51"
      ]
     },
     "execution_count": 126,
     "metadata": {},
     "output_type": "execute_result"
    }
   ],
   "source": [
    "len(PR_1(100,51,items))"
   ]
  },
  {
   "cell_type": "code",
   "execution_count": null,
   "metadata": {},
   "outputs": [],
   "source": [
    "eel_pat\n",
    "%matplotlib notebook\n",
    "import matplotlib as mpl\n",
    "mpl.get_backend()\n",
    "import matplotlib.pyplot as plt\n",
    "plt.figure()\n",
    "\n",
    "y = range(25,29)\n",
    "z = range(1250,1450,50)\n",
    "a = [sum(i) for i in (zip(eel_G1_I1,z))]\n",
    "plt.plot(y,eel_G1_I1, label = \"EEL\")\n",
    "plt.plot(y,a,label = \"Total EL\")\n",
    "plt.plot(y,range(1250,1450,50), label = \"Bin costs\")\n",
    "ax = plt.gca()\n",
    "ax.set_xlabel('Bins')\n",
    "plt.legend()"
   ]
  },
  {
   "cell_type": "code",
   "execution_count": null,
   "metadata": {},
   "outputs": [],
   "source": [
    "eel_pat(1000,PR_1(1000, 12,item_N2W4B3R0))"
   ]
  },
  {
   "cell_type": "code",
   "execution_count": 132,
   "metadata": {},
   "outputs": [
    {
     "data": {
      "text/plain": [
       "1971.0"
      ]
     },
     "execution_count": 132,
     "metadata": {},
     "output_type": "execute_result"
    }
   ],
   "source": [
    "eel_pat(1000,PR_1(1000, 13,item_N2W4B3R0))"
   ]
  },
  {
   "cell_type": "code",
   "execution_count": null,
   "metadata": {},
   "outputs": [],
   "source": [
    "len(PR_1(1000, 13,item_N2W4B3R0))"
   ]
  },
  {
   "cell_type": "code",
   "execution_count": 133,
   "metadata": {},
   "outputs": [
    {
     "ename": "KeyboardInterrupt",
     "evalue": "",
     "output_type": "error",
     "traceback": [
      "\u001b[1;31m---------------------------------------------------------------------------\u001b[0m",
      "\u001b[1;31mKeyboardInterrupt\u001b[0m                         Traceback (most recent call last)",
      "\u001b[1;32m<ipython-input-133-303c9a136b33>\u001b[0m in \u001b[0;36m<module>\u001b[1;34m\u001b[0m\n\u001b[1;32m----> 1\u001b[1;33m \u001b[0meel_pat\u001b[0m\u001b[1;33m(\u001b[0m\u001b[1;36m1000\u001b[0m\u001b[1;33m,\u001b[0m\u001b[0mPR_1\u001b[0m\u001b[1;33m(\u001b[0m\u001b[1;36m1000\u001b[0m\u001b[1;33m,\u001b[0m \u001b[1;36m14\u001b[0m\u001b[1;33m,\u001b[0m\u001b[0mitem_N2W4B3R0\u001b[0m\u001b[1;33m)\u001b[0m\u001b[1;33m)\u001b[0m\u001b[1;33m\u001b[0m\u001b[1;33m\u001b[0m\u001b[0m\n\u001b[0m",
      "\u001b[1;32m<ipython-input-117-139a3f96e3d5>\u001b[0m in \u001b[0;36mPR_1\u001b[1;34m(L, m, w)\u001b[0m\n\u001b[0;32m     28\u001b[0m \u001b[1;33m\u001b[0m\u001b[0m\n\u001b[0;32m     29\u001b[0m     \u001b[1;31m# optimizing the model\u001b[0m\u001b[1;33m\u001b[0m\u001b[1;33m\u001b[0m\u001b[1;33m\u001b[0m\u001b[0m\n\u001b[1;32m---> 30\u001b[1;33m     \u001b[0mmodel\u001b[0m\u001b[1;33m.\u001b[0m\u001b[0moptimize\u001b[0m\u001b[1;33m(\u001b[0m\u001b[1;33m)\u001b[0m\u001b[1;33m\u001b[0m\u001b[1;33m\u001b[0m\u001b[0m\n\u001b[0m\u001b[0;32m     31\u001b[0m     \u001b[1;31m# print out the objective\u001b[0m\u001b[1;33m\u001b[0m\u001b[1;33m\u001b[0m\u001b[1;33m\u001b[0m\u001b[0m\n\u001b[0;32m     32\u001b[0m     \u001b[1;31m#for var in model.vars:\u001b[0m\u001b[1;33m\u001b[0m\u001b[1;33m\u001b[0m\u001b[1;33m\u001b[0m\u001b[0m\n",
      "\u001b[1;32m~\\Anaconda3\\lib\\site-packages\\mip\\model.py\u001b[0m in \u001b[0;36moptimize\u001b[1;34m(self, max_seconds, max_nodes, max_solutions, max_seconds_same_incumbent, max_nodes_same_incumbent, relax)\u001b[0m\n\u001b[0;32m    616\u001b[0m         )\n\u001b[0;32m    617\u001b[0m \u001b[1;33m\u001b[0m\u001b[0m\n\u001b[1;32m--> 618\u001b[1;33m         \u001b[0mself\u001b[0m\u001b[1;33m.\u001b[0m\u001b[0m_status\u001b[0m \u001b[1;33m=\u001b[0m \u001b[0mself\u001b[0m\u001b[1;33m.\u001b[0m\u001b[0msolver\u001b[0m\u001b[1;33m.\u001b[0m\u001b[0moptimize\u001b[0m\u001b[1;33m(\u001b[0m\u001b[0mrelax\u001b[0m\u001b[1;33m)\u001b[0m\u001b[1;33m\u001b[0m\u001b[1;33m\u001b[0m\u001b[0m\n\u001b[0m\u001b[0;32m    619\u001b[0m         \u001b[1;31m# has a solution and is a MIP\u001b[0m\u001b[1;33m\u001b[0m\u001b[1;33m\u001b[0m\u001b[1;33m\u001b[0m\u001b[0m\n\u001b[0;32m    620\u001b[0m         \u001b[1;32mif\u001b[0m \u001b[0mself\u001b[0m\u001b[1;33m.\u001b[0m\u001b[0mnum_solutions\u001b[0m \u001b[1;32mand\u001b[0m \u001b[0mself\u001b[0m\u001b[1;33m.\u001b[0m\u001b[0mnum_int\u001b[0m \u001b[1;33m>\u001b[0m \u001b[1;36m0\u001b[0m\u001b[1;33m:\u001b[0m\u001b[1;33m\u001b[0m\u001b[1;33m\u001b[0m\u001b[0m\n",
      "\u001b[1;32m~\\Anaconda3\\lib\\site-packages\\mip\\gurobi.py\u001b[0m in \u001b[0;36moptimize\u001b[1;34m(self, relax)\u001b[0m\n\u001b[0;32m    687\u001b[0m             \u001b[0mself\u001b[0m\u001b[1;33m.\u001b[0m\u001b[0mupdate\u001b[0m\u001b[1;33m(\u001b[0m\u001b[1;33m)\u001b[0m\u001b[1;33m\u001b[0m\u001b[1;33m\u001b[0m\u001b[0m\n\u001b[0;32m    688\u001b[0m \u001b[1;33m\u001b[0m\u001b[0m\n\u001b[1;32m--> 689\u001b[1;33m         \u001b[0mstatus\u001b[0m \u001b[1;33m=\u001b[0m \u001b[0mGRBoptimize\u001b[0m\u001b[1;33m(\u001b[0m\u001b[0mself\u001b[0m\u001b[1;33m.\u001b[0m\u001b[0m_model\u001b[0m\u001b[1;33m)\u001b[0m\u001b[1;33m\u001b[0m\u001b[1;33m\u001b[0m\u001b[0m\n\u001b[0m\u001b[0;32m    690\u001b[0m         \u001b[1;32mif\u001b[0m \u001b[0mint_vars\u001b[0m\u001b[1;33m:\u001b[0m\u001b[1;33m\u001b[0m\u001b[1;33m\u001b[0m\u001b[0m\n\u001b[0;32m    691\u001b[0m             \u001b[1;32mfor\u001b[0m \u001b[0mv\u001b[0m\u001b[1;33m,\u001b[0m \u001b[0mvt\u001b[0m \u001b[1;32min\u001b[0m \u001b[0mint_vars\u001b[0m\u001b[1;33m:\u001b[0m\u001b[1;33m\u001b[0m\u001b[1;33m\u001b[0m\u001b[0m\n",
      "\u001b[1;31mKeyboardInterrupt\u001b[0m: "
     ]
    }
   ],
   "source": [
    "eel_pat(1000,PR_1(1000, 14,item_N2W4B3R0))"
   ]
  },
  {
   "cell_type": "code",
   "execution_count": 128,
   "metadata": {},
   "outputs": [
    {
     "data": {
      "text/plain": [
       "52"
      ]
     },
     "execution_count": 128,
     "metadata": {},
     "output_type": "execute_result"
    }
   ],
   "source": [
    "len(PR_1(100,52,items))"
   ]
  },
  {
   "cell_type": "code",
   "execution_count": 124,
   "metadata": {},
   "outputs": [
    {
     "data": {
      "text/plain": [
       "2273.92"
      ]
     },
     "execution_count": 124,
     "metadata": {},
     "output_type": "execute_result"
    }
   ],
   "source": [
    "eel_pat(100,PR_1(100,52,items))"
   ]
  },
  {
   "cell_type": "code",
   "execution_count": 125,
   "metadata": {},
   "outputs": [
    {
     "data": {
      "text/plain": [
       "2310.28"
      ]
     },
     "execution_count": 125,
     "metadata": {},
     "output_type": "execute_result"
    }
   ],
   "source": [
    "eel_pat(100,PR_1(100,53,items))"
   ]
  },
  {
   "cell_type": "code",
   "execution_count": 74,
   "metadata": {},
   "outputs": [
    {
     "data": {
      "text/plain": [
       "31.22"
      ]
     },
     "execution_count": 74,
     "metadata": {},
     "output_type": "execute_result"
    }
   ],
   "source": [
    "eel(100,[45, 43, 12])"
   ]
  },
  {
   "cell_type": "code",
   "execution_count": 100,
   "metadata": {},
   "outputs": [
    {
     "data": {
      "text/plain": [
       "1521.0"
      ]
     },
     "execution_count": 100,
     "metadata": {},
     "output_type": "execute_result"
    }
   ],
   "source": [
    "eel_pat(1000,PR_1(1000,7,items_N1W4B2R0))"
   ]
  },
  {
   "cell_type": "code",
   "execution_count": null,
   "metadata": {},
   "outputs": [],
   "source": [
    "I_N1C1W1_B = [100,99,97,97,97,93,93,92,92,88,83,83,79,76,76,75,72,71,70,69,67,66,63,62,62,61,61,51,50,44,44,\n",
    "                 43,43,40,39,37,37,30,23,20,19,18,17,15,14,13,13,12,8,8]\n",
    "\n",
    "P_N1C1W1_B = [[92, 8],[92, 8],[88, 12],[83, 17],[100],[72, 15, 13],[70, 30],[67, 19, 14],[62, 20, 18],\n",
    "                      [40, 37, 23],[63, 37],[44, 43, 13],[61, 39],[99],[97],[97],[97],[51, 44],[50,43],[93],[93],\n",
    "                      [83],[79],[76],[76],[75],[71],[69],[66],[62],[61]]"
   ]
  },
  {
   "cell_type": "code",
   "execution_count": null,
   "metadata": {},
   "outputs": [],
   "source": [
    "eel_pat(100,P_N1C1W1_B)"
   ]
  },
  {
   "cell_type": "code",
   "execution_count": null,
   "metadata": {},
   "outputs": [],
   "source": [
    "len(I_N1C1W1_B)"
   ]
  },
  {
   "cell_type": "code",
   "execution_count": null,
   "metadata": {},
   "outputs": [],
   "source": [
    "[eel_pat(100,PR_1(100,m,I_N1C1W1_B)) for m in range(31,36)]"
   ]
  },
  {
   "cell_type": "code",
   "execution_count": null,
   "metadata": {},
   "outputs": [],
   "source": [
    "pattern_N1W4B2R0 = [[199, 199, 196, 192, 191, 23],[190, 175, 175, 172, 166, 103, 19 ],[160, 158, 151, 149, 148, 140, 94],\n",
    "                   [135, 134, 126, 121, 113, 113, 94, 93, 37, 21, 13 ],[209, 87, 84, 82, 77, 69, 67, 64, 60, 60,\n",
    "                    60, 45, 22, 14],[54, 52, 35, 32, 18]]"
   ]
  },
  {
   "cell_type": "code",
   "execution_count": null,
   "metadata": {},
   "outputs": [],
   "source": [
    "eel_pat(1000, pattern_N1W4B2R0)"
   ]
  },
  {
   "cell_type": "code",
   "execution_count": null,
   "metadata": {},
   "outputs": [],
   "source": [
    "PR_1(1000,6,items_N1W4B2R0)"
   ]
  },
  {
   "cell_type": "code",
   "execution_count": null,
   "metadata": {
    "scrolled": true
   },
   "outputs": [],
   "source": [
    "eel_pat(1000,PR_1(1000,6,items_N1W4B2R0))"
   ]
  },
  {
   "cell_type": "code",
   "execution_count": null,
   "metadata": {},
   "outputs": [],
   "source": [
    "1000,PR_1(1000,7,items_N1W4B2R0)"
   ]
  },
  {
   "cell_type": "code",
   "execution_count": null,
   "metadata": {},
   "outputs": [],
   "source": [
    "eel_pat(1000,PR_1(1000,7,items_N1W4B2R0))"
   ]
  },
  {
   "cell_type": "code",
   "execution_count": null,
   "metadata": {},
   "outputs": [],
   "source": [
    "PR_1(1000,8,items_N1W4B2R0)"
   ]
  },
  {
   "cell_type": "code",
   "execution_count": null,
   "metadata": {},
   "outputs": [],
   "source": [
    "eel_pat(1000,PR_1(1000,8,items_N1W4B2R0))"
   ]
  },
  {
   "cell_type": "code",
   "execution_count": null,
   "metadata": {},
   "outputs": [],
   "source": [
    "PR_1(1000,9,items_N1W4B2R0)"
   ]
  },
  {
   "cell_type": "code",
   "execution_count": null,
   "metadata": {
    "scrolled": true
   },
   "outputs": [],
   "source": [
    "eel_pat(1000,PR_1(1000,9,items_N1W4B2R0))"
   ]
  },
  {
   "cell_type": "code",
   "execution_count": null,
   "metadata": {},
   "outputs": [],
   "source": [
    "PR_1(1000,10,items_N1W4B2R0)"
   ]
  },
  {
   "cell_type": "code",
   "execution_count": null,
   "metadata": {},
   "outputs": [],
   "source": [
    "eel_pat(1000,PR_1(1000,10,items_N1W4B2R0))"
   ]
  },
  {
   "cell_type": "code",
   "execution_count": null,
   "metadata": {},
   "outputs": [],
   "source": [
    "PR_1(1000,6,items_N1W4B2R0)"
   ]
  },
  {
   "cell_type": "code",
   "execution_count": null,
   "metadata": {},
   "outputs": [],
   "source": []
  },
  {
   "cell_type": "code",
   "execution_count": null,
   "metadata": {},
   "outputs": [],
   "source": [
    "eel_pat(1000,PR_1(1000,11,items_N1W4B2R0))"
   ]
  },
  {
   "cell_type": "code",
   "execution_count": null,
   "metadata": {},
   "outputs": [],
   "source": [
    "eel_pat(1000,PR_1(1000,12,items_N1W4B2R0))"
   ]
  },
  {
   "cell_type": "code",
   "execution_count": null,
   "metadata": {},
   "outputs": [],
   "source": [
    "eel_pat(1000,PR_1(1000,6,items_N1W4B2R0))"
   ]
  },
  {
   "cell_type": "code",
   "execution_count": null,
   "metadata": {},
   "outputs": [],
   "source": [
    "[eel_pat(1000,PR_2(1000,m,items_N1W4B2R0)) for m in range(6,15)]"
   ]
  },
  {
   "cell_type": "code",
   "execution_count": null,
   "metadata": {},
   "outputs": [],
   "source": [
    "[eel_pat(1000,PR_1(1000,m,items_1000_1)) for m in range(6,60)]"
   ]
  },
  {
   "cell_type": "code",
   "execution_count": null,
   "metadata": {},
   "outputs": [],
   "source": [
    "[eel_pat(1000,PR_2(1000,m,items_1000_1)) for m in range(6,60)]"
   ]
  },
  {
   "cell_type": "code",
   "execution_count": null,
   "metadata": {},
   "outputs": [],
   "source": [
    "[eel_pat(1000,PR_1(1000,m,items_1000_2)) for m in range(6,60)]"
   ]
  },
  {
   "cell_type": "code",
   "execution_count": null,
   "metadata": {},
   "outputs": [],
   "source": [
    "[eel_pat(1000,PR_2(1000,m,items_1000_2)) for m in range(6,60)]"
   ]
  },
  {
   "cell_type": "code",
   "execution_count": null,
   "metadata": {},
   "outputs": [],
   "source": [
    "[eel_pat(1000,PR_1(1000,m,items_1000_3)) for m in range(6,60)]"
   ]
  },
  {
   "cell_type": "code",
   "execution_count": null,
   "metadata": {},
   "outputs": [],
   "source": [
    "[eel_pat(1000,PR_2(1000,m,items_1000_3)) for m in range(6,60)]"
   ]
  },
  {
   "cell_type": "code",
   "execution_count": null,
   "metadata": {},
   "outputs": [],
   "source": [
    "[eel_pat(1000,PR_1(1000,m,items_1000_4)) for m in range(6,60)]"
   ]
  },
  {
   "cell_type": "code",
   "execution_count": null,
   "metadata": {},
   "outputs": [],
   "source": [
    "[eel_pat(1000,PR_2(1000,m,items_1000_4)) for m in range(6,60)]"
   ]
  },
  {
   "cell_type": "code",
   "execution_count": null,
   "metadata": {},
   "outputs": [],
   "source": [
    "[eel_pat(1000,PR_1(1000,m,items_1000_5)) for m in range(6,60)]"
   ]
  },
  {
   "cell_type": "code",
   "execution_count": null,
   "metadata": {},
   "outputs": [],
   "source": [
    "[eel_pat(1000,PR_2(1000,m,items_1000_5)) for m in range(6,60)]"
   ]
  },
  {
   "cell_type": "code",
   "execution_count": null,
   "metadata": {},
   "outputs": [],
   "source": [
    "[eel_pat(1000,PR_1(1000,m,items_1000_6)) for m in range(6,60)]"
   ]
  },
  {
   "cell_type": "code",
   "execution_count": null,
   "metadata": {},
   "outputs": [],
   "source": [
    "[eel_pat(1000,PR_2(1000,m,items_1000_6)) for m in range(6,60)]"
   ]
  },
  {
   "cell_type": "code",
   "execution_count": null,
   "metadata": {},
   "outputs": [],
   "source": [
    "[eel_pat(1000,PR_1(1000,m,items_1000_7)) for m in range(6,60)]"
   ]
  },
  {
   "cell_type": "code",
   "execution_count": null,
   "metadata": {},
   "outputs": [],
   "source": [
    "[eel_pat(1000,PR_2(1000,m,items_1000_7)) for m in range(6,60)]"
   ]
  },
  {
   "cell_type": "code",
   "execution_count": null,
   "metadata": {},
   "outputs": [],
   "source": [
    "[eel_pat(1000,PR_1(1000,m,items_1000_8)) for m in range(6,60)]"
   ]
  },
  {
   "cell_type": "code",
   "execution_count": null,
   "metadata": {},
   "outputs": [],
   "source": [
    "[eel_pat(1000,PR_2(1000,m,items_1000_8)) for m in range(6,60)]"
   ]
  },
  {
   "cell_type": "code",
   "execution_count": null,
   "metadata": {},
   "outputs": [],
   "source": [
    "[eel_pat(1000,PR_1(1000,m,items_1000_9)) for m in range(6,60)]"
   ]
  },
  {
   "cell_type": "code",
   "execution_count": null,
   "metadata": {},
   "outputs": [],
   "source": [
    "[eel_pat(1000,PR_2(1000,m,items_1000_9)) for m in range(6,60)]"
   ]
  },
  {
   "cell_type": "code",
   "execution_count": null,
   "metadata": {},
   "outputs": [],
   "source": [
    "%matplotlib notebook\n",
    "import matplotlib as mpl\n",
    "mpl.get_backend()\n",
    "import matplotlib.pyplot as plt"
   ]
  },
  {
   "cell_type": "code",
   "execution_count": null,
   "metadata": {},
   "outputs": [],
   "source": [
    "# stacked bar charts are also possible\n",
    "plt.figure()\n",
    "xvals = range(len(eff2(100,25,items_1)))\n",
    "new_xvals = []\n",
    "for item in xvals:\n",
    "    new_xvals.append(item+0.2)\n",
    "r_val = [item-0.2 for item in xvals]\n",
    "r = [sum(data) for data in pattern_1]   \n",
    "rr = [sum(data) for data in eff2(100,25,items_1)]\n",
    "rrr = [sum(data) for data in eff1(100,25,items_1)]\n",
    "plt.bar(r_val, r, width = 0.2, color='g')\n",
    "plt.bar(xvals, rr, width = 0.2, color='b')# title ='Min C_max')\n",
    "plt.bar(new_xvals, rrr, width = 0.2, color='r')# title='Min C_max-C_min')\n",
    "ax = plt.gca()\n",
    "ax.set_xlabel('Bin')\n",
    "ax.set_ylabel('Bin length')\n",
    "ax.set_title('Pattern sizes when using Min C_max vs. Min C_max-C_min')"
   ]
  },
  {
   "cell_type": "code",
   "execution_count": null,
   "metadata": {},
   "outputs": [],
   "source": [
    "import numpy as np\n",
    "# stacked bar charts are also possible\n",
    "plt.figure()\n",
    "xvals = range(1,len(eff2(100,27,w))+1)\n",
    "new_xvals = []\n",
    "for item in xvals:\n",
    "    new_xvals.append(item+0.2)\n",
    "rr = [sum(data) for data in eff2(100,27,w)]\n",
    "rrr = [sum(data) for data in eff1(100,27,w)]\n",
    "plt.bar(xvals, rr, width = 0.2, color='b');\n",
    "plt.bar(new_xvals, rrr, width = 0.2, color='r');\n",
    "#plt.legend()"
   ]
  },
  {
   "cell_type": "code",
   "execution_count": null,
   "metadata": {},
   "outputs": [],
   "source": [
    "# stacked bar charts are also possible\n",
    "plt.figure()\n",
    "xvals = range(len(eff2(100,28,w)))\n",
    "new_xvals = []\n",
    "for item in xvals:\n",
    "    new_xvals.append(item+0.2)\n",
    "rr = [sum(data) for data in eff2(100,28,w)]\n",
    "rrr = [sum(data) for data in eff1(100,28,w)]\n",
    "plt.bar(xvals, rr, width = 0.2, color='b')\n",
    "plt.bar(new_xvals, rrr, width = 0.2, color='r')\n",
    "#plt.legend()"
   ]
  },
  {
   "cell_type": "code",
   "execution_count": null,
   "metadata": {},
   "outputs": [],
   "source": [
    "plt.figure()\n",
    "y = [i*2 for i in range(5)]\n",
    "x = np.array(range(5))\n",
    "plt.scatter(x,y)\n",
    "plt.show()"
   ]
  },
  {
   "cell_type": "code",
   "execution_count": null,
   "metadata": {},
   "outputs": [],
   "source": [
    "b=plt.plot(x,y)"
   ]
  },
  {
   "cell_type": "code",
   "execution_count": null,
   "metadata": {},
   "outputs": [],
   "source": [
    "w = [50,99,99,96,96,92,92,91,88,87,86,85,76,74,72,69,67,67,62,61,56,52,51,49,46,\n",
    "     44,42,40,40,33,33,30,30,29,28,28,27,25,24,23,22,21,20,17,14,13,11,10,7,7,3]\n",
    "len(w)"
   ]
  },
  {
   "cell_type": "code",
   "execution_count": null,
   "metadata": {},
   "outputs": [],
   "source": [
    "\\text{max} \\sum_{j=1}^n nabla_i(x_i^{l} + x_i^{r})\n",
    "\t\tx_i^{l} + x_i^{r}\\le 1,  \\quad i = 1,...,n = |P|\n",
    "\t\t\\sum_{i=1}^n nabla_i x_i^{l}\\le t\n",
    "\t\t\\sum_{i=1}^n nabla_i x_i^{r}\\le w-t\n",
    "\t\tx_i^{l} \\ge 0, \\quad x_i^{r} \\ge 0 \\quad \\text{and integer} \n",
    "\t\t\\label{bpp39}"
   ]
  },
  {
   "cell_type": "code",
   "execution_count": null,
   "metadata": {},
   "outputs": [],
   "source": [
    "100\n",
    "99\n",
    "97\n",
    "97\n",
    "97\n",
    "93\n",
    "93\n",
    "92\n",
    "92\n",
    "88\n",
    "83\n",
    "83\n",
    "79\n",
    "76\n",
    "76\n",
    "75\n",
    "72\n",
    "71\n",
    "70\n",
    "69\n",
    "67\n",
    "66\n",
    "63\n",
    "62\n",
    "62\n",
    "61\n",
    "61\n",
    "51\n",
    "50\n",
    "44\n",
    "44\n",
    "43\n",
    "43\n",
    "40\n",
    "39\n",
    "37\n",
    "37\n",
    "30\n",
    "23\n",
    "20\n",
    "19\n",
    "18\n",
    "17\n",
    "15\n",
    "14\n",
    "13\n",
    "13\n",
    "12\n",
    "8\n",
    "8"
   ]
  },
  {
   "cell_type": "code",
   "execution_count": null,
   "metadata": {},
   "outputs": [],
   "source": [
    "[52, 48], [75, 15, 10], [82, 18], [67, 26, 7], \n",
    "[47, 38, 15], [63, 34, 3], [81, 19], [92, 8], [73, 21], [87, 13], [89, 11], [56, 34, 10], [82, 10, 8], [71, 29],\n",
    "[84, 9, 6], [59, 35, 6], [41, 39, 20], [67, 30], [49, 46], [57, 36]"
   ]
  }
 ],
 "metadata": {
  "celltoolbar": "Raw Cell Format",
  "kernelspec": {
   "display_name": "Python 3",
   "language": "python",
   "name": "python3"
  },
  "language_info": {
   "codemirror_mode": {
    "name": "ipython",
    "version": 3
   },
   "file_extension": ".py",
   "mimetype": "text/x-python",
   "name": "python",
   "nbconvert_exporter": "python",
   "pygments_lexer": "ipython3",
   "version": "3.7.4"
  }
 },
 "nbformat": 4,
 "nbformat_minor": 2
}
